{
 "cells": [
  {
   "cell_type": "markdown",
   "id": "864b1d03",
   "metadata": {},
   "source": [
    "#                      INVESTMENT ASSIGNMENT"
   ]
  },
  {
   "cell_type": "code",
   "execution_count": 326,
   "id": "10b3f812",
   "metadata": {},
   "outputs": [],
   "source": [
    "import pandas as pd\n",
    "import numpy as np\n",
    "import seaborn as sns\n",
    "import matplotlib.pyplot as plt\n",
    "import chardet\n",
    "import os"
   ]
  },
  {
   "cell_type": "code",
   "execution_count": 327,
   "id": "9e04cc45",
   "metadata": {},
   "outputs": [],
   "source": [
    "rounds2 = pd.read_csv('rounds2.csv',encoding='iso-8859-1')  # Reading rounds2.csv file"
   ]
  },
  {
   "cell_type": "markdown",
   "id": "57f72d01",
   "metadata": {},
   "source": [
    "#### Checked the encoding scheme of the file using the below syntax and later converted it to markdown cell as it was effecting the run time.\n",
    "\n",
    " with open(\"rounds2.csv\", \"rb\") as rawdata:\n",
    "    result=chardet.detect(rawdata.read())\n",
    "print(result)'''"
   ]
  },
  {
   "cell_type": "code",
   "execution_count": 328,
   "id": "fadebe2e",
   "metadata": {
    "scrolled": true
   },
   "outputs": [
    {
     "data": {
      "text/plain": [
       "(114949, 6)"
      ]
     },
     "execution_count": 328,
     "metadata": {},
     "output_type": "execute_result"
    }
   ],
   "source": [
    "rounds2.shape"
   ]
  },
  {
   "cell_type": "code",
   "execution_count": 329,
   "id": "4a2818a8",
   "metadata": {
    "scrolled": true
   },
   "outputs": [
    {
     "data": {
      "text/html": [
       "<div>\n",
       "<style scoped>\n",
       "    .dataframe tbody tr th:only-of-type {\n",
       "        vertical-align: middle;\n",
       "    }\n",
       "\n",
       "    .dataframe tbody tr th {\n",
       "        vertical-align: top;\n",
       "    }\n",
       "\n",
       "    .dataframe thead th {\n",
       "        text-align: right;\n",
       "    }\n",
       "</style>\n",
       "<table border=\"1\" class=\"dataframe\">\n",
       "  <thead>\n",
       "    <tr style=\"text-align: right;\">\n",
       "      <th></th>\n",
       "      <th>company_permalink</th>\n",
       "      <th>funding_round_permalink</th>\n",
       "      <th>funding_round_type</th>\n",
       "      <th>funding_round_code</th>\n",
       "      <th>funded_at</th>\n",
       "      <th>raised_amount_usd</th>\n",
       "    </tr>\n",
       "  </thead>\n",
       "  <tbody>\n",
       "    <tr>\n",
       "      <th>0</th>\n",
       "      <td>/organization/-fame</td>\n",
       "      <td>/funding-round/9a01d05418af9f794eebff7ace91f638</td>\n",
       "      <td>venture</td>\n",
       "      <td>B</td>\n",
       "      <td>05-01-2015</td>\n",
       "      <td>10000000.0</td>\n",
       "    </tr>\n",
       "    <tr>\n",
       "      <th>1</th>\n",
       "      <td>/ORGANIZATION/-QOUNTER</td>\n",
       "      <td>/funding-round/22dacff496eb7acb2b901dec1dfe5633</td>\n",
       "      <td>venture</td>\n",
       "      <td>A</td>\n",
       "      <td>14-10-2014</td>\n",
       "      <td>NaN</td>\n",
       "    </tr>\n",
       "    <tr>\n",
       "      <th>2</th>\n",
       "      <td>/organization/-qounter</td>\n",
       "      <td>/funding-round/b44fbb94153f6cdef13083530bb48030</td>\n",
       "      <td>seed</td>\n",
       "      <td>NaN</td>\n",
       "      <td>01-03-2014</td>\n",
       "      <td>700000.0</td>\n",
       "    </tr>\n",
       "    <tr>\n",
       "      <th>3</th>\n",
       "      <td>/ORGANIZATION/-THE-ONE-OF-THEM-INC-</td>\n",
       "      <td>/funding-round/650b8f704416801069bb178a1418776b</td>\n",
       "      <td>venture</td>\n",
       "      <td>B</td>\n",
       "      <td>30-01-2014</td>\n",
       "      <td>3406878.0</td>\n",
       "    </tr>\n",
       "    <tr>\n",
       "      <th>4</th>\n",
       "      <td>/organization/0-6-com</td>\n",
       "      <td>/funding-round/5727accaeaa57461bd22a9bdd945382d</td>\n",
       "      <td>venture</td>\n",
       "      <td>A</td>\n",
       "      <td>19-03-2008</td>\n",
       "      <td>2000000.0</td>\n",
       "    </tr>\n",
       "  </tbody>\n",
       "</table>\n",
       "</div>"
      ],
      "text/plain": [
       "                     company_permalink  \\\n",
       "0                  /organization/-fame   \n",
       "1               /ORGANIZATION/-QOUNTER   \n",
       "2               /organization/-qounter   \n",
       "3  /ORGANIZATION/-THE-ONE-OF-THEM-INC-   \n",
       "4                /organization/0-6-com   \n",
       "\n",
       "                           funding_round_permalink funding_round_type  \\\n",
       "0  /funding-round/9a01d05418af9f794eebff7ace91f638            venture   \n",
       "1  /funding-round/22dacff496eb7acb2b901dec1dfe5633            venture   \n",
       "2  /funding-round/b44fbb94153f6cdef13083530bb48030               seed   \n",
       "3  /funding-round/650b8f704416801069bb178a1418776b            venture   \n",
       "4  /funding-round/5727accaeaa57461bd22a9bdd945382d            venture   \n",
       "\n",
       "  funding_round_code   funded_at  raised_amount_usd  \n",
       "0                  B  05-01-2015         10000000.0  \n",
       "1                  A  14-10-2014                NaN  \n",
       "2                NaN  01-03-2014           700000.0  \n",
       "3                  B  30-01-2014          3406878.0  \n",
       "4                  A  19-03-2008          2000000.0  "
      ]
     },
     "execution_count": 329,
     "metadata": {},
     "output_type": "execute_result"
    }
   ],
   "source": [
    "rounds2.head()"
   ]
  },
  {
   "cell_type": "code",
   "execution_count": 330,
   "id": "2abcc9d0",
   "metadata": {},
   "outputs": [],
   "source": [
    "# Encoding \n",
    "rounds2['company_permalink'] = rounds2['company_permalink'].str.encode('iso-8859-1').str.decode('ascii', 'ignore')"
   ]
  },
  {
   "cell_type": "code",
   "execution_count": 331,
   "id": "02edf589",
   "metadata": {},
   "outputs": [
    {
     "data": {
      "text/html": [
       "<div>\n",
       "<style scoped>\n",
       "    .dataframe tbody tr th:only-of-type {\n",
       "        vertical-align: middle;\n",
       "    }\n",
       "\n",
       "    .dataframe tbody tr th {\n",
       "        vertical-align: top;\n",
       "    }\n",
       "\n",
       "    .dataframe thead th {\n",
       "        text-align: right;\n",
       "    }\n",
       "</style>\n",
       "<table border=\"1\" class=\"dataframe\">\n",
       "  <thead>\n",
       "    <tr style=\"text-align: right;\">\n",
       "      <th></th>\n",
       "      <th>company_permalink</th>\n",
       "      <th>funding_round_permalink</th>\n",
       "      <th>funding_round_type</th>\n",
       "      <th>funding_round_code</th>\n",
       "      <th>funded_at</th>\n",
       "      <th>raised_amount_usd</th>\n",
       "    </tr>\n",
       "  </thead>\n",
       "  <tbody>\n",
       "    <tr>\n",
       "      <th>0</th>\n",
       "      <td>/organization/-fame</td>\n",
       "      <td>/funding-round/9a01d05418af9f794eebff7ace91f638</td>\n",
       "      <td>venture</td>\n",
       "      <td>B</td>\n",
       "      <td>05-01-2015</td>\n",
       "      <td>10000000.0</td>\n",
       "    </tr>\n",
       "    <tr>\n",
       "      <th>1</th>\n",
       "      <td>/ORGANIZATION/-QOUNTER</td>\n",
       "      <td>/funding-round/22dacff496eb7acb2b901dec1dfe5633</td>\n",
       "      <td>venture</td>\n",
       "      <td>A</td>\n",
       "      <td>14-10-2014</td>\n",
       "      <td>NaN</td>\n",
       "    </tr>\n",
       "    <tr>\n",
       "      <th>2</th>\n",
       "      <td>/organization/-qounter</td>\n",
       "      <td>/funding-round/b44fbb94153f6cdef13083530bb48030</td>\n",
       "      <td>seed</td>\n",
       "      <td>NaN</td>\n",
       "      <td>01-03-2014</td>\n",
       "      <td>700000.0</td>\n",
       "    </tr>\n",
       "    <tr>\n",
       "      <th>3</th>\n",
       "      <td>/ORGANIZATION/-THE-ONE-OF-THEM-INC-</td>\n",
       "      <td>/funding-round/650b8f704416801069bb178a1418776b</td>\n",
       "      <td>venture</td>\n",
       "      <td>B</td>\n",
       "      <td>30-01-2014</td>\n",
       "      <td>3406878.0</td>\n",
       "    </tr>\n",
       "    <tr>\n",
       "      <th>4</th>\n",
       "      <td>/organization/0-6-com</td>\n",
       "      <td>/funding-round/5727accaeaa57461bd22a9bdd945382d</td>\n",
       "      <td>venture</td>\n",
       "      <td>A</td>\n",
       "      <td>19-03-2008</td>\n",
       "      <td>2000000.0</td>\n",
       "    </tr>\n",
       "  </tbody>\n",
       "</table>\n",
       "</div>"
      ],
      "text/plain": [
       "                     company_permalink  \\\n",
       "0                  /organization/-fame   \n",
       "1               /ORGANIZATION/-QOUNTER   \n",
       "2               /organization/-qounter   \n",
       "3  /ORGANIZATION/-THE-ONE-OF-THEM-INC-   \n",
       "4                /organization/0-6-com   \n",
       "\n",
       "                           funding_round_permalink funding_round_type  \\\n",
       "0  /funding-round/9a01d05418af9f794eebff7ace91f638            venture   \n",
       "1  /funding-round/22dacff496eb7acb2b901dec1dfe5633            venture   \n",
       "2  /funding-round/b44fbb94153f6cdef13083530bb48030               seed   \n",
       "3  /funding-round/650b8f704416801069bb178a1418776b            venture   \n",
       "4  /funding-round/5727accaeaa57461bd22a9bdd945382d            venture   \n",
       "\n",
       "  funding_round_code   funded_at  raised_amount_usd  \n",
       "0                  B  05-01-2015         10000000.0  \n",
       "1                  A  14-10-2014                NaN  \n",
       "2                NaN  01-03-2014           700000.0  \n",
       "3                  B  30-01-2014          3406878.0  \n",
       "4                  A  19-03-2008          2000000.0  "
      ]
     },
     "execution_count": 331,
     "metadata": {},
     "output_type": "execute_result"
    }
   ],
   "source": [
    "rounds2.head()"
   ]
  },
  {
   "cell_type": "code",
   "execution_count": 332,
   "id": "7e916bab",
   "metadata": {
    "scrolled": true
   },
   "outputs": [],
   "source": [
    "# Converting key column to lower case for merging well with companies\n",
    "rounds2['company_permalink']=rounds2['company_permalink'].apply(lambda x: x.lower())"
   ]
  },
  {
   "cell_type": "code",
   "execution_count": 333,
   "id": "72d48390",
   "metadata": {},
   "outputs": [],
   "source": [
    "#Removing redundant columns from rounds2 data set\n",
    "rounds2 = rounds2.drop(['funding_round_code','funding_round_permalink','funded_at'], axis=1)"
   ]
  },
  {
   "cell_type": "code",
   "execution_count": 334,
   "id": "0a5035c6",
   "metadata": {
    "scrolled": true
   },
   "outputs": [
    {
     "data": {
      "text/html": [
       "<div>\n",
       "<style scoped>\n",
       "    .dataframe tbody tr th:only-of-type {\n",
       "        vertical-align: middle;\n",
       "    }\n",
       "\n",
       "    .dataframe tbody tr th {\n",
       "        vertical-align: top;\n",
       "    }\n",
       "\n",
       "    .dataframe thead th {\n",
       "        text-align: right;\n",
       "    }\n",
       "</style>\n",
       "<table border=\"1\" class=\"dataframe\">\n",
       "  <thead>\n",
       "    <tr style=\"text-align: right;\">\n",
       "      <th></th>\n",
       "      <th>company_permalink</th>\n",
       "      <th>funding_round_type</th>\n",
       "      <th>raised_amount_usd</th>\n",
       "    </tr>\n",
       "  </thead>\n",
       "  <tbody>\n",
       "    <tr>\n",
       "      <th>114944</th>\n",
       "      <td>/organization/zzzzapp-com</td>\n",
       "      <td>convertible_note</td>\n",
       "      <td>41313.0</td>\n",
       "    </tr>\n",
       "    <tr>\n",
       "      <th>114945</th>\n",
       "      <td>/organization/zzzzapp-com</td>\n",
       "      <td>seed</td>\n",
       "      <td>32842.0</td>\n",
       "    </tr>\n",
       "    <tr>\n",
       "      <th>114946</th>\n",
       "      <td>/organization/eron</td>\n",
       "      <td>venture</td>\n",
       "      <td>NaN</td>\n",
       "    </tr>\n",
       "    <tr>\n",
       "      <th>114947</th>\n",
       "      <td>/organization/asys-2</td>\n",
       "      <td>seed</td>\n",
       "      <td>18192.0</td>\n",
       "    </tr>\n",
       "    <tr>\n",
       "      <th>114948</th>\n",
       "      <td>/organization/novatiff-reklam-ve-tantm-hizmetl...</td>\n",
       "      <td>grant</td>\n",
       "      <td>14851.0</td>\n",
       "    </tr>\n",
       "  </tbody>\n",
       "</table>\n",
       "</div>"
      ],
      "text/plain": [
       "                                        company_permalink funding_round_type  \\\n",
       "114944                          /organization/zzzzapp-com   convertible_note   \n",
       "114945                          /organization/zzzzapp-com               seed   \n",
       "114946                                 /organization/eron            venture   \n",
       "114947                               /organization/asys-2               seed   \n",
       "114948  /organization/novatiff-reklam-ve-tantm-hizmetl...              grant   \n",
       "\n",
       "        raised_amount_usd  \n",
       "114944            41313.0  \n",
       "114945            32842.0  \n",
       "114946                NaN  \n",
       "114947            18192.0  \n",
       "114948            14851.0  "
      ]
     },
     "execution_count": 334,
     "metadata": {},
     "output_type": "execute_result"
    }
   ],
   "source": [
    "rounds2.tail()"
   ]
  },
  {
   "cell_type": "code",
   "execution_count": 335,
   "id": "0bcfaf4a",
   "metadata": {},
   "outputs": [
    {
     "data": {
      "text/plain": [
       "venture                  55494\n",
       "seed                     30524\n",
       "debt_financing            6895\n",
       "angel                     6094\n",
       "undisclosed               4897\n",
       "equity_crowdfunding       3257\n",
       "private_equity            2285\n",
       "grant                     2200\n",
       "convertible_note          1817\n",
       "post_ipo_equity            638\n",
       "product_crowdfunding       410\n",
       "non_equity_assistance      191\n",
       "post_ipo_debt              152\n",
       "secondary_market            95\n",
       "Name: funding_round_type, dtype: int64"
      ]
     },
     "execution_count": 335,
     "metadata": {},
     "output_type": "execute_result"
    }
   ],
   "source": [
    "# Funding type based on count \n",
    "rounds2['funding_round_type'].value_counts()"
   ]
  },
  {
   "cell_type": "code",
   "execution_count": 336,
   "id": "8c5a8260",
   "metadata": {},
   "outputs": [
    {
     "name": "stdout",
     "output_type": "stream",
     "text": [
      "17.390320924931927\n"
     ]
    }
   ],
   "source": [
    "#Percentage of null values in funding amount column\n",
    "print(100*rounds2['raised_amount_usd'].isnull().sum()/len(rounds2['raised_amount_usd']))"
   ]
  },
  {
   "cell_type": "code",
   "execution_count": 337,
   "id": "ba089fef",
   "metadata": {},
   "outputs": [],
   "source": [
    "rounds2=rounds2.drop_duplicates() # droping duplicate rows"
   ]
  },
  {
   "cell_type": "code",
   "execution_count": 338,
   "id": "202e57ca",
   "metadata": {
    "scrolled": true
   },
   "outputs": [
    {
     "data": {
      "text/plain": [
       "66368"
      ]
     },
     "execution_count": 338,
     "metadata": {},
     "output_type": "execute_result"
    }
   ],
   "source": [
    "rounds2['company_permalink'].nunique() # Gives the count of unique companies "
   ]
  },
  {
   "cell_type": "markdown",
   "id": "a4439bfc",
   "metadata": {},
   "source": [
    "##### 66368 unique companies in rounds2"
   ]
  },
  {
   "cell_type": "code",
   "execution_count": 339,
   "id": "d3a27c0b",
   "metadata": {
    "scrolled": true
   },
   "outputs": [
    {
     "name": "stdout",
     "output_type": "stream",
     "text": [
      "<class 'pandas.core.frame.DataFrame'>\n",
      "Int64Index: 112234 entries, 0 to 114948\n",
      "Data columns (total 3 columns):\n",
      " #   Column              Non-Null Count   Dtype  \n",
      "---  ------              --------------   -----  \n",
      " 0   company_permalink   112234 non-null  object \n",
      " 1   funding_round_type  112234 non-null  object \n",
      " 2   raised_amount_usd   93648 non-null   float64\n",
      "dtypes: float64(1), object(2)\n",
      "memory usage: 3.4+ MB\n"
     ]
    }
   ],
   "source": [
    "rounds2.info()"
   ]
  },
  {
   "cell_type": "code",
   "execution_count": 340,
   "id": "34b0728e",
   "metadata": {},
   "outputs": [],
   "source": [
    "companies = pd.read_csv('companies.csv',encoding='iso-8859-1')  # Reading companies.csv file"
   ]
  },
  {
   "cell_type": "markdown",
   "id": "4a885d65",
   "metadata": {},
   "source": [
    "#### Checked the encoding scheme of the file using the below syntax and later converted it to markdown cell as it was effecting the run time.\n",
    "\n",
    "with open(\"companies.csv\", \"rb\") as rawdata:\n",
    "    result=chardet.detect(rawdata.read())\n",
    "print(result)"
   ]
  },
  {
   "cell_type": "code",
   "execution_count": 341,
   "id": "cb5eafe9",
   "metadata": {
    "scrolled": false
   },
   "outputs": [
    {
     "data": {
      "text/html": [
       "<div>\n",
       "<style scoped>\n",
       "    .dataframe tbody tr th:only-of-type {\n",
       "        vertical-align: middle;\n",
       "    }\n",
       "\n",
       "    .dataframe tbody tr th {\n",
       "        vertical-align: top;\n",
       "    }\n",
       "\n",
       "    .dataframe thead th {\n",
       "        text-align: right;\n",
       "    }\n",
       "</style>\n",
       "<table border=\"1\" class=\"dataframe\">\n",
       "  <thead>\n",
       "    <tr style=\"text-align: right;\">\n",
       "      <th></th>\n",
       "      <th>permalink</th>\n",
       "      <th>name</th>\n",
       "      <th>homepage_url</th>\n",
       "      <th>category_list</th>\n",
       "      <th>status</th>\n",
       "      <th>country_code</th>\n",
       "      <th>state_code</th>\n",
       "      <th>region</th>\n",
       "      <th>city</th>\n",
       "      <th>founded_at</th>\n",
       "    </tr>\n",
       "  </thead>\n",
       "  <tbody>\n",
       "    <tr>\n",
       "      <th>54229</th>\n",
       "      <td>/Organization/Sprooki</td>\n",
       "      <td>Sprooki</td>\n",
       "      <td>http://www.sprooki.com</td>\n",
       "      <td>Location Based Services|Mobile|Mobile Commerce...</td>\n",
       "      <td>operating</td>\n",
       "      <td>SGP</td>\n",
       "      <td>NaN</td>\n",
       "      <td>Singapore</td>\n",
       "      <td>Singapore</td>\n",
       "      <td>01-02-2011</td>\n",
       "    </tr>\n",
       "    <tr>\n",
       "      <th>62699</th>\n",
       "      <td>/Organization/Votigo</td>\n",
       "      <td>Votigo</td>\n",
       "      <td>http://www.votigo.com</td>\n",
       "      <td>Advertising|Content|Contests|Enterprise Softwa...</td>\n",
       "      <td>operating</td>\n",
       "      <td>USA</td>\n",
       "      <td>CO</td>\n",
       "      <td>Denver</td>\n",
       "      <td>Boulder</td>\n",
       "      <td>01-07-2006</td>\n",
       "    </tr>\n",
       "    <tr>\n",
       "      <th>50292</th>\n",
       "      <td>/Organization/Seeds-2</td>\n",
       "      <td>Seeds</td>\n",
       "      <td>http://playseeds.com/</td>\n",
       "      <td>Apps</td>\n",
       "      <td>operating</td>\n",
       "      <td>USA</td>\n",
       "      <td>NY</td>\n",
       "      <td>New York City</td>\n",
       "      <td>New York</td>\n",
       "      <td>NaN</td>\n",
       "    </tr>\n",
       "    <tr>\n",
       "      <th>54880</th>\n",
       "      <td>/Organization/Stormpulse</td>\n",
       "      <td>Stormpulse</td>\n",
       "      <td>http://www.stormpulse.com</td>\n",
       "      <td>B2B|Enterprise Software|News</td>\n",
       "      <td>operating</td>\n",
       "      <td>USA</td>\n",
       "      <td>TX</td>\n",
       "      <td>Austin</td>\n",
       "      <td>Austin</td>\n",
       "      <td>01-08-2007</td>\n",
       "    </tr>\n",
       "    <tr>\n",
       "      <th>64032</th>\n",
       "      <td>/Organization/Winebibber</td>\n",
       "      <td>Jiuxian.com</td>\n",
       "      <td>http://www.jiuxian.com</td>\n",
       "      <td>E-Commerce</td>\n",
       "      <td>operating</td>\n",
       "      <td>CHN</td>\n",
       "      <td>22</td>\n",
       "      <td>Beijing</td>\n",
       "      <td>Beijing</td>\n",
       "      <td>NaN</td>\n",
       "    </tr>\n",
       "  </tbody>\n",
       "</table>\n",
       "</div>"
      ],
      "text/plain": [
       "                      permalink         name               homepage_url  \\\n",
       "54229     /Organization/Sprooki      Sprooki     http://www.sprooki.com   \n",
       "62699      /Organization/Votigo       Votigo      http://www.votigo.com   \n",
       "50292     /Organization/Seeds-2        Seeds      http://playseeds.com/   \n",
       "54880  /Organization/Stormpulse   Stormpulse  http://www.stormpulse.com   \n",
       "64032  /Organization/Winebibber  Jiuxian.com     http://www.jiuxian.com   \n",
       "\n",
       "                                           category_list     status  \\\n",
       "54229  Location Based Services|Mobile|Mobile Commerce...  operating   \n",
       "62699  Advertising|Content|Contests|Enterprise Softwa...  operating   \n",
       "50292                                               Apps  operating   \n",
       "54880                       B2B|Enterprise Software|News  operating   \n",
       "64032                                         E-Commerce  operating   \n",
       "\n",
       "      country_code state_code         region       city  founded_at  \n",
       "54229          SGP        NaN      Singapore  Singapore  01-02-2011  \n",
       "62699          USA         CO         Denver    Boulder  01-07-2006  \n",
       "50292          USA         NY  New York City   New York         NaN  \n",
       "54880          USA         TX         Austin     Austin  01-08-2007  \n",
       "64032          CHN         22        Beijing    Beijing         NaN  "
      ]
     },
     "execution_count": 341,
     "metadata": {},
     "output_type": "execute_result"
    }
   ],
   "source": [
    "companies.sample(5)"
   ]
  },
  {
   "cell_type": "code",
   "execution_count": 342,
   "id": "773223e2",
   "metadata": {},
   "outputs": [],
   "source": [
    "# Encoding \n",
    "companies['permalink'] = companies['permalink'].str.encode('iso-8859-1').str.decode('ascii', 'ignore')"
   ]
  },
  {
   "cell_type": "code",
   "execution_count": 343,
   "id": "90a7000f",
   "metadata": {},
   "outputs": [
    {
     "name": "stdout",
     "output_type": "stream",
     "text": [
      "<class 'pandas.core.frame.DataFrame'>\n",
      "RangeIndex: 66368 entries, 0 to 66367\n",
      "Data columns (total 10 columns):\n",
      " #   Column         Non-Null Count  Dtype \n",
      "---  ------         --------------  ----- \n",
      " 0   permalink      66368 non-null  object\n",
      " 1   name           66367 non-null  object\n",
      " 2   homepage_url   61310 non-null  object\n",
      " 3   category_list  63220 non-null  object\n",
      " 4   status         66368 non-null  object\n",
      " 5   country_code   59410 non-null  object\n",
      " 6   state_code     57821 non-null  object\n",
      " 7   region         58338 non-null  object\n",
      " 8   city           58340 non-null  object\n",
      " 9   founded_at     51147 non-null  object\n",
      "dtypes: object(10)\n",
      "memory usage: 5.1+ MB\n"
     ]
    }
   ],
   "source": [
    "companies.info()"
   ]
  },
  {
   "cell_type": "code",
   "execution_count": 344,
   "id": "30533187",
   "metadata": {},
   "outputs": [],
   "source": [
    "# Converting key column data to lower case for merging well with rounds dataset\n",
    "companies['permalink']=companies['permalink'].apply(lambda x: x.lower())"
   ]
  },
  {
   "cell_type": "code",
   "execution_count": 345,
   "id": "70c91feb",
   "metadata": {},
   "outputs": [],
   "source": [
    "companies=companies.drop_duplicates() # droping duplicate rows"
   ]
  },
  {
   "cell_type": "code",
   "execution_count": 346,
   "id": "8c11d53c",
   "metadata": {},
   "outputs": [],
   "source": [
    "#Removing redundant columns from companies data set\n",
    "companies = companies.drop(['homepage_url','status','state_code','region','city','founded_at'], axis=1)"
   ]
  },
  {
   "cell_type": "code",
   "execution_count": 347,
   "id": "97d8496c",
   "metadata": {},
   "outputs": [
    {
     "data": {
      "text/plain": [
       "6958"
      ]
     },
     "execution_count": 347,
     "metadata": {},
     "output_type": "execute_result"
    }
   ],
   "source": [
    "companies['country_code'].isnull().sum() # keeping null values for time being"
   ]
  },
  {
   "cell_type": "code",
   "execution_count": 348,
   "id": "c669b9de",
   "metadata": {},
   "outputs": [
    {
     "data": {
      "text/html": [
       "<div>\n",
       "<style scoped>\n",
       "    .dataframe tbody tr th:only-of-type {\n",
       "        vertical-align: middle;\n",
       "    }\n",
       "\n",
       "    .dataframe tbody tr th {\n",
       "        vertical-align: top;\n",
       "    }\n",
       "\n",
       "    .dataframe thead th {\n",
       "        text-align: right;\n",
       "    }\n",
       "</style>\n",
       "<table border=\"1\" class=\"dataframe\">\n",
       "  <thead>\n",
       "    <tr style=\"text-align: right;\">\n",
       "      <th></th>\n",
       "      <th>permalink</th>\n",
       "      <th>name</th>\n",
       "      <th>category_list</th>\n",
       "      <th>country_code</th>\n",
       "    </tr>\n",
       "  </thead>\n",
       "  <tbody>\n",
       "    <tr>\n",
       "      <th>22415</th>\n",
       "      <td>/organization/geliyoo</td>\n",
       "      <td>Geliyoo</td>\n",
       "      <td>Internet|Operating Systems|Search|Web Browsers</td>\n",
       "      <td>TUR</td>\n",
       "    </tr>\n",
       "    <tr>\n",
       "      <th>4338</th>\n",
       "      <td>/organization/array-biopharma</td>\n",
       "      <td>Array BioPharma</td>\n",
       "      <td>Biotechnology</td>\n",
       "      <td>USA</td>\n",
       "    </tr>\n",
       "    <tr>\n",
       "      <th>61350</th>\n",
       "      <td>/organization/velocloud</td>\n",
       "      <td>VeloCloud, Inc.</td>\n",
       "      <td>Networking</td>\n",
       "      <td>USA</td>\n",
       "    </tr>\n",
       "    <tr>\n",
       "      <th>38958</th>\n",
       "      <td>/organization/new-media-gateway</td>\n",
       "      <td>New Media Gateway</td>\n",
       "      <td>Software</td>\n",
       "      <td>USA</td>\n",
       "    </tr>\n",
       "    <tr>\n",
       "      <th>35982</th>\n",
       "      <td>/organization/mindframe-inc</td>\n",
       "      <td>Mindframe</td>\n",
       "      <td>Biotechnology</td>\n",
       "      <td>USA</td>\n",
       "    </tr>\n",
       "  </tbody>\n",
       "</table>\n",
       "</div>"
      ],
      "text/plain": [
       "                             permalink               name  \\\n",
       "22415            /organization/geliyoo            Geliyoo   \n",
       "4338     /organization/array-biopharma    Array BioPharma   \n",
       "61350          /organization/velocloud    VeloCloud, Inc.   \n",
       "38958  /organization/new-media-gateway  New Media Gateway   \n",
       "35982      /organization/mindframe-inc          Mindframe   \n",
       "\n",
       "                                        category_list country_code  \n",
       "22415  Internet|Operating Systems|Search|Web Browsers          TUR  \n",
       "4338                                    Biotechnology          USA  \n",
       "61350                                      Networking          USA  \n",
       "38958                                        Software          USA  \n",
       "35982                                   Biotechnology          USA  "
      ]
     },
     "execution_count": 348,
     "metadata": {},
     "output_type": "execute_result"
    }
   ],
   "source": [
    "companies.sample(5)"
   ]
  },
  {
   "cell_type": "code",
   "execution_count": 349,
   "id": "8a15ca5d",
   "metadata": {
    "scrolled": false
   },
   "outputs": [
    {
     "data": {
      "text/plain": [
       "66368"
      ]
     },
     "execution_count": 349,
     "metadata": {},
     "output_type": "execute_result"
    }
   ],
   "source": [
    "companies['permalink'].nunique() # Gives the count of unique companies "
   ]
  },
  {
   "cell_type": "markdown",
   "id": "214d9a65",
   "metadata": {},
   "source": [
    "##### 66368 unique companies in companies"
   ]
  },
  {
   "cell_type": "markdown",
   "id": "caa0d609",
   "metadata": {},
   "source": [
    "3. Are there any companies in the rounds2 file which are not  present in companies ? "
   ]
  },
  {
   "cell_type": "code",
   "execution_count": 350,
   "id": "bc25d752",
   "metadata": {},
   "outputs": [
    {
     "data": {
      "text/html": [
       "<div>\n",
       "<style scoped>\n",
       "    .dataframe tbody tr th:only-of-type {\n",
       "        vertical-align: middle;\n",
       "    }\n",
       "\n",
       "    .dataframe tbody tr th {\n",
       "        vertical-align: top;\n",
       "    }\n",
       "\n",
       "    .dataframe thead th {\n",
       "        text-align: right;\n",
       "    }\n",
       "</style>\n",
       "<table border=\"1\" class=\"dataframe\">\n",
       "  <thead>\n",
       "    <tr style=\"text-align: right;\">\n",
       "      <th></th>\n",
       "      <th>company_permalink</th>\n",
       "      <th>funding_round_type</th>\n",
       "      <th>raised_amount_usd</th>\n",
       "    </tr>\n",
       "  </thead>\n",
       "  <tbody>\n",
       "  </tbody>\n",
       "</table>\n",
       "</div>"
      ],
      "text/plain": [
       "Empty DataFrame\n",
       "Columns: [company_permalink, funding_round_type, raised_amount_usd]\n",
       "Index: []"
      ]
     },
     "execution_count": 350,
     "metadata": {},
     "output_type": "execute_result"
    }
   ],
   "source": [
    "rounds2[~(rounds2['company_permalink'].isin(companies['permalink']))]"
   ]
  },
  {
   "cell_type": "markdown",
   "id": "5cce7f9a",
   "metadata": {},
   "source": [
    "##### There are no companies in the rounds2 file which are not  present in companies"
   ]
  },
  {
   "cell_type": "code",
   "execution_count": 351,
   "id": "dc12a002",
   "metadata": {},
   "outputs": [],
   "source": [
    "# merging rounds2 and companies dataframes\n",
    "master_frame = pd.merge(rounds2,companies, left_on='company_permalink', right_on='permalink')"
   ]
  },
  {
   "cell_type": "code",
   "execution_count": 352,
   "id": "3bd697c3",
   "metadata": {
    "scrolled": true
   },
   "outputs": [
    {
     "data": {
      "text/plain": [
       "(112234, 7)"
      ]
     },
     "execution_count": 352,
     "metadata": {},
     "output_type": "execute_result"
    }
   ],
   "source": [
    "# Total observation in master data set\n",
    "master_frame.shape"
   ]
  },
  {
   "cell_type": "markdown",
   "id": "c64cbfda",
   "metadata": {},
   "source": [
    "##### There are 112234 observations are present in master_frame"
   ]
  },
  {
   "cell_type": "code",
   "execution_count": 353,
   "id": "8ff457ff",
   "metadata": {},
   "outputs": [
    {
     "name": "stdout",
     "output_type": "stream",
     "text": [
      "<class 'pandas.core.frame.DataFrame'>\n",
      "Int64Index: 112234 entries, 0 to 112233\n",
      "Data columns (total 7 columns):\n",
      " #   Column              Non-Null Count   Dtype  \n",
      "---  ------              --------------   -----  \n",
      " 0   company_permalink   112234 non-null  object \n",
      " 1   funding_round_type  112234 non-null  object \n",
      " 2   raised_amount_usd   93648 non-null   float64\n",
      " 3   permalink           112234 non-null  object \n",
      " 4   name                112233 non-null  object \n",
      " 5   category_list       108938 non-null  object \n",
      " 6   country_code        103752 non-null  object \n",
      "dtypes: float64(1), object(6)\n",
      "memory usage: 6.9+ MB\n"
     ]
    }
   ],
   "source": [
    "master_frame.info()"
   ]
  },
  {
   "cell_type": "code",
   "execution_count": 354,
   "id": "94877923",
   "metadata": {
    "scrolled": true
   },
   "outputs": [
    {
     "data": {
      "text/html": [
       "<div>\n",
       "<style scoped>\n",
       "    .dataframe tbody tr th:only-of-type {\n",
       "        vertical-align: middle;\n",
       "    }\n",
       "\n",
       "    .dataframe tbody tr th {\n",
       "        vertical-align: top;\n",
       "    }\n",
       "\n",
       "    .dataframe thead th {\n",
       "        text-align: right;\n",
       "    }\n",
       "</style>\n",
       "<table border=\"1\" class=\"dataframe\">\n",
       "  <thead>\n",
       "    <tr style=\"text-align: right;\">\n",
       "      <th></th>\n",
       "      <th>company_permalink</th>\n",
       "      <th>funding_round_type</th>\n",
       "      <th>raised_amount_usd</th>\n",
       "      <th>permalink</th>\n",
       "      <th>name</th>\n",
       "      <th>category_list</th>\n",
       "      <th>country_code</th>\n",
       "    </tr>\n",
       "  </thead>\n",
       "  <tbody>\n",
       "    <tr>\n",
       "      <th>112229</th>\n",
       "      <td>/organization/zzzzapp-com</td>\n",
       "      <td>convertible_note</td>\n",
       "      <td>41313.0</td>\n",
       "      <td>/organization/zzzzapp-com</td>\n",
       "      <td>Zzzzapp Wireless ltd.</td>\n",
       "      <td>Advertising|Mobile|Web Development|Wireless</td>\n",
       "      <td>HRV</td>\n",
       "    </tr>\n",
       "    <tr>\n",
       "      <th>112230</th>\n",
       "      <td>/organization/zzzzapp-com</td>\n",
       "      <td>seed</td>\n",
       "      <td>32842.0</td>\n",
       "      <td>/organization/zzzzapp-com</td>\n",
       "      <td>Zzzzapp Wireless ltd.</td>\n",
       "      <td>Advertising|Mobile|Web Development|Wireless</td>\n",
       "      <td>HRV</td>\n",
       "    </tr>\n",
       "    <tr>\n",
       "      <th>112231</th>\n",
       "      <td>/organization/eron</td>\n",
       "      <td>venture</td>\n",
       "      <td>NaN</td>\n",
       "      <td>/organization/eron</td>\n",
       "      <td>ÃERON</td>\n",
       "      <td>NaN</td>\n",
       "      <td>NaN</td>\n",
       "    </tr>\n",
       "    <tr>\n",
       "      <th>112232</th>\n",
       "      <td>/organization/asys-2</td>\n",
       "      <td>seed</td>\n",
       "      <td>18192.0</td>\n",
       "      <td>/organization/asys-2</td>\n",
       "      <td>Ãasys</td>\n",
       "      <td>Consumer Electronics|Internet of Things|Teleco...</td>\n",
       "      <td>USA</td>\n",
       "    </tr>\n",
       "    <tr>\n",
       "      <th>112233</th>\n",
       "      <td>/organization/novatiff-reklam-ve-tantm-hizmetl...</td>\n",
       "      <td>grant</td>\n",
       "      <td>14851.0</td>\n",
       "      <td>/organization/novatiff-reklam-ve-tantm-hizmetl...</td>\n",
       "      <td>Ä°novatiff Reklam ve TanÄ±tÄ±m Hizmetleri Tic</td>\n",
       "      <td>Consumer Goods|E-Commerce|Internet</td>\n",
       "      <td>NaN</td>\n",
       "    </tr>\n",
       "  </tbody>\n",
       "</table>\n",
       "</div>"
      ],
      "text/plain": [
       "                                        company_permalink funding_round_type  \\\n",
       "112229                          /organization/zzzzapp-com   convertible_note   \n",
       "112230                          /organization/zzzzapp-com               seed   \n",
       "112231                                 /organization/eron            venture   \n",
       "112232                               /organization/asys-2               seed   \n",
       "112233  /organization/novatiff-reklam-ve-tantm-hizmetl...              grant   \n",
       "\n",
       "        raised_amount_usd                                          permalink  \\\n",
       "112229            41313.0                          /organization/zzzzapp-com   \n",
       "112230            32842.0                          /organization/zzzzapp-com   \n",
       "112231                NaN                                 /organization/eron   \n",
       "112232            18192.0                               /organization/asys-2   \n",
       "112233            14851.0  /organization/novatiff-reklam-ve-tantm-hizmetl...   \n",
       "\n",
       "                                                 name  \\\n",
       "112229                          Zzzzapp Wireless ltd.   \n",
       "112230                          Zzzzapp Wireless ltd.   \n",
       "112231                                         ÃERON   \n",
       "112232                                         Ãasys   \n",
       "112233  Ä°novatiff Reklam ve TanÄ±tÄ±m Hizmetleri Tic   \n",
       "\n",
       "                                            category_list country_code  \n",
       "112229        Advertising|Mobile|Web Development|Wireless          HRV  \n",
       "112230        Advertising|Mobile|Web Development|Wireless          HRV  \n",
       "112231                                                NaN          NaN  \n",
       "112232  Consumer Electronics|Internet of Things|Teleco...          USA  \n",
       "112233                 Consumer Goods|E-Commerce|Internet          NaN  "
      ]
     },
     "execution_count": 354,
     "metadata": {},
     "output_type": "execute_result"
    }
   ],
   "source": [
    "master_frame.tail(5)"
   ]
  },
  {
   "cell_type": "code",
   "execution_count": 355,
   "id": "0c99f57f",
   "metadata": {},
   "outputs": [],
   "source": [
    "master_frame = master_frame.drop(['permalink'],axis=1) # dropping the redundant key column used for merging"
   ]
  },
  {
   "cell_type": "code",
   "execution_count": 356,
   "id": "74d320ee",
   "metadata": {},
   "outputs": [],
   "source": [
    "#Filtering data for funding amount between 5 Million to 15 Million\n",
    "master_frame = master_frame[(master_frame['raised_amount_usd']>=5000000) & (master_frame['raised_amount_usd']<=15000000)]"
   ]
  },
  {
   "cell_type": "code",
   "execution_count": 357,
   "id": "3cb0a457",
   "metadata": {},
   "outputs": [
    {
     "data": {
      "text/plain": [
       "count    1.847600e+04\n",
       "mean     8.824436e+06\n",
       "std      3.053000e+06\n",
       "min      5.000000e+06\n",
       "25%      6.000000e+06\n",
       "50%      8.100000e+06\n",
       "75%      1.100000e+07\n",
       "max      1.500000e+07\n",
       "Name: raised_amount_usd, dtype: float64"
      ]
     },
     "execution_count": 357,
     "metadata": {},
     "output_type": "execute_result"
    }
   ],
   "source": [
    "master_frame['raised_amount_usd'].describe() # Gives statistical information of the funding amount in the whole dataset"
   ]
  },
  {
   "cell_type": "code",
   "execution_count": 358,
   "id": "73472669",
   "metadata": {},
   "outputs": [],
   "source": [
    "# Filling the null values in funding amount column by median value.\n",
    "master_frame['raised_amount_usd']=master_frame['raised_amount_usd'].fillna(master_frame['raised_amount_usd'].median())"
   ]
  },
  {
   "cell_type": "code",
   "execution_count": 359,
   "id": "f1ae9d1e",
   "metadata": {},
   "outputs": [
    {
     "data": {
      "text/plain": [
       "805"
      ]
     },
     "execution_count": 359,
     "metadata": {},
     "output_type": "execute_result"
    }
   ],
   "source": [
    "master_frame['country_code'].isnull().sum() # checking for total null values in country code"
   ]
  },
  {
   "cell_type": "code",
   "execution_count": 360,
   "id": "bb345114",
   "metadata": {},
   "outputs": [
    {
     "data": {
      "text/plain": [
       "0    USA\n",
       "dtype: object"
      ]
     },
     "execution_count": 360,
     "metadata": {},
     "output_type": "execute_result"
    }
   ],
   "source": [
    "master_frame['country_code'].mode() # Check for highest frequency value in country code column"
   ]
  },
  {
   "cell_type": "code",
   "execution_count": 361,
   "id": "6768fa5e",
   "metadata": {},
   "outputs": [],
   "source": [
    "# filling null with highest frequency value\n",
    "master_frame['country_code'] = master_frame['country_code'].fillna('USA') "
   ]
  },
  {
   "cell_type": "code",
   "execution_count": 362,
   "id": "511c7274",
   "metadata": {},
   "outputs": [
    {
     "name": "stdout",
     "output_type": "stream",
     "text": [
      "1.2610954752110846\n"
     ]
    }
   ],
   "source": [
    "#Calculating the percentage of null values in category_list\n",
    "print(100*(master_frame['category_list'].isnull().sum())/len(master_frame['category_list']))"
   ]
  },
  {
   "cell_type": "code",
   "execution_count": 363,
   "id": "a4d88048",
   "metadata": {},
   "outputs": [],
   "source": [
    "# Filtering rows with null values in category_list columns \n",
    "master_frame=master_frame[~(master_frame['category_list'].isnull())]"
   ]
  },
  {
   "cell_type": "code",
   "execution_count": 364,
   "id": "1e11af51",
   "metadata": {},
   "outputs": [],
   "source": [
    "#Extracting the primary sector of each category list from the category_list column\n",
    "master_frame['primary_sector']= master_frame['category_list'].apply(lambda x: x.split('|',1)[0])"
   ]
  },
  {
   "cell_type": "code",
   "execution_count": 365,
   "id": "fecd920a",
   "metadata": {
    "scrolled": true
   },
   "outputs": [
    {
     "name": "stdout",
     "output_type": "stream",
     "text": [
      "<class 'pandas.core.frame.DataFrame'>\n",
      "Int64Index: 18243 entries, 0 to 112221\n",
      "Data columns (total 7 columns):\n",
      " #   Column              Non-Null Count  Dtype  \n",
      "---  ------              --------------  -----  \n",
      " 0   company_permalink   18243 non-null  object \n",
      " 1   funding_round_type  18243 non-null  object \n",
      " 2   raised_amount_usd   18243 non-null  float64\n",
      " 3   name                18243 non-null  object \n",
      " 4   category_list       18243 non-null  object \n",
      " 5   country_code        18243 non-null  object \n",
      " 6   primary_sector      18243 non-null  object \n",
      "dtypes: float64(1), object(6)\n",
      "memory usage: 1.1+ MB\n"
     ]
    }
   ],
   "source": [
    "master_frame.info()"
   ]
  },
  {
   "cell_type": "code",
   "execution_count": 366,
   "id": "229ee0a4",
   "metadata": {
    "scrolled": true
   },
   "outputs": [
    {
     "data": {
      "text/html": [
       "<div>\n",
       "<style scoped>\n",
       "    .dataframe tbody tr th:only-of-type {\n",
       "        vertical-align: middle;\n",
       "    }\n",
       "\n",
       "    .dataframe tbody tr th {\n",
       "        vertical-align: top;\n",
       "    }\n",
       "\n",
       "    .dataframe thead th {\n",
       "        text-align: right;\n",
       "    }\n",
       "</style>\n",
       "<table border=\"1\" class=\"dataframe\">\n",
       "  <thead>\n",
       "    <tr style=\"text-align: right;\">\n",
       "      <th></th>\n",
       "      <th>company_permalink</th>\n",
       "      <th>funding_round_type</th>\n",
       "      <th>raised_amount_usd</th>\n",
       "      <th>name</th>\n",
       "      <th>category_list</th>\n",
       "      <th>country_code</th>\n",
       "      <th>primary_sector</th>\n",
       "    </tr>\n",
       "  </thead>\n",
       "  <tbody>\n",
       "    <tr>\n",
       "      <th>0</th>\n",
       "      <td>/organization/-fame</td>\n",
       "      <td>venture</td>\n",
       "      <td>10000000.0</td>\n",
       "      <td>#fame</td>\n",
       "      <td>Media</td>\n",
       "      <td>IND</td>\n",
       "      <td>Media</td>\n",
       "    </tr>\n",
       "    <tr>\n",
       "      <th>12</th>\n",
       "      <td>/organization/0xdata</td>\n",
       "      <td>venture</td>\n",
       "      <td>8900000.0</td>\n",
       "      <td>H2O.ai</td>\n",
       "      <td>Analytics</td>\n",
       "      <td>USA</td>\n",
       "      <td>Analytics</td>\n",
       "    </tr>\n",
       "    <tr>\n",
       "      <th>21</th>\n",
       "      <td>/organization/1-800-publicrelations-inc-</td>\n",
       "      <td>private_equity</td>\n",
       "      <td>6000000.0</td>\n",
       "      <td>1-800-PublicRelations, Inc.</td>\n",
       "      <td>Internet Marketing|Media|Public Relations</td>\n",
       "      <td>USA</td>\n",
       "      <td>Internet Marketing</td>\n",
       "    </tr>\n",
       "    <tr>\n",
       "      <th>22</th>\n",
       "      <td>/organization/1-mainstream</td>\n",
       "      <td>venture</td>\n",
       "      <td>5000000.0</td>\n",
       "      <td>1 Mainstream</td>\n",
       "      <td>Apps|Cable|Distribution|Software</td>\n",
       "      <td>USA</td>\n",
       "      <td>Apps</td>\n",
       "    </tr>\n",
       "    <tr>\n",
       "      <th>45</th>\n",
       "      <td>/organization/1001-menus</td>\n",
       "      <td>venture</td>\n",
       "      <td>6602694.0</td>\n",
       "      <td>ZenChef</td>\n",
       "      <td>Local Businesses|Restaurants</td>\n",
       "      <td>FRA</td>\n",
       "      <td>Local Businesses</td>\n",
       "    </tr>\n",
       "    <tr>\n",
       "      <th>...</th>\n",
       "      <td>...</td>\n",
       "      <td>...</td>\n",
       "      <td>...</td>\n",
       "      <td>...</td>\n",
       "      <td>...</td>\n",
       "      <td>...</td>\n",
       "      <td>...</td>\n",
       "    </tr>\n",
       "    <tr>\n",
       "      <th>112201</th>\n",
       "      <td>/organization/zynstra</td>\n",
       "      <td>venture</td>\n",
       "      <td>8400000.0</td>\n",
       "      <td>Zynstra</td>\n",
       "      <td>Software</td>\n",
       "      <td>GBR</td>\n",
       "      <td>Software</td>\n",
       "    </tr>\n",
       "    <tr>\n",
       "      <th>112205</th>\n",
       "      <td>/organization/zyomyx-inc</td>\n",
       "      <td>venture</td>\n",
       "      <td>12000000.0</td>\n",
       "      <td>ZYOMYX</td>\n",
       "      <td>Biotechnology</td>\n",
       "      <td>USA</td>\n",
       "      <td>Biotechnology</td>\n",
       "    </tr>\n",
       "    <tr>\n",
       "      <th>112207</th>\n",
       "      <td>/organization/zyomyx-inc</td>\n",
       "      <td>venture</td>\n",
       "      <td>14219999.0</td>\n",
       "      <td>ZYOMYX</td>\n",
       "      <td>Biotechnology</td>\n",
       "      <td>USA</td>\n",
       "      <td>Biotechnology</td>\n",
       "    </tr>\n",
       "    <tr>\n",
       "      <th>112216</th>\n",
       "      <td>/organization/zyraz-technology</td>\n",
       "      <td>venture</td>\n",
       "      <td>7991547.0</td>\n",
       "      <td>Zyraz Technology</td>\n",
       "      <td>Biotechnology</td>\n",
       "      <td>MYS</td>\n",
       "      <td>Biotechnology</td>\n",
       "    </tr>\n",
       "    <tr>\n",
       "      <th>112221</th>\n",
       "      <td>/organization/zystor</td>\n",
       "      <td>venture</td>\n",
       "      <td>8500000.0</td>\n",
       "      <td>Zystor</td>\n",
       "      <td>Biotechnology</td>\n",
       "      <td>USA</td>\n",
       "      <td>Biotechnology</td>\n",
       "    </tr>\n",
       "  </tbody>\n",
       "</table>\n",
       "<p>16744 rows × 7 columns</p>\n",
       "</div>"
      ],
      "text/plain": [
       "                               company_permalink funding_round_type  \\\n",
       "0                            /organization/-fame            venture   \n",
       "12                          /organization/0xdata            venture   \n",
       "21      /organization/1-800-publicrelations-inc-     private_equity   \n",
       "22                    /organization/1-mainstream            venture   \n",
       "45                      /organization/1001-menus            venture   \n",
       "...                                          ...                ...   \n",
       "112201                     /organization/zynstra            venture   \n",
       "112205                  /organization/zyomyx-inc            venture   \n",
       "112207                  /organization/zyomyx-inc            venture   \n",
       "112216            /organization/zyraz-technology            venture   \n",
       "112221                      /organization/zystor            venture   \n",
       "\n",
       "        raised_amount_usd                         name  \\\n",
       "0              10000000.0                        #fame   \n",
       "12              8900000.0                       H2O.ai   \n",
       "21              6000000.0  1-800-PublicRelations, Inc.   \n",
       "22              5000000.0                 1 Mainstream   \n",
       "45              6602694.0                      ZenChef   \n",
       "...                   ...                          ...   \n",
       "112201          8400000.0                      Zynstra   \n",
       "112205         12000000.0                       ZYOMYX   \n",
       "112207         14219999.0                       ZYOMYX   \n",
       "112216          7991547.0             Zyraz Technology   \n",
       "112221          8500000.0                       Zystor   \n",
       "\n",
       "                                    category_list country_code  \\\n",
       "0                                           Media          IND   \n",
       "12                                      Analytics          USA   \n",
       "21      Internet Marketing|Media|Public Relations          USA   \n",
       "22               Apps|Cable|Distribution|Software          USA   \n",
       "45                   Local Businesses|Restaurants          FRA   \n",
       "...                                           ...          ...   \n",
       "112201                                   Software          GBR   \n",
       "112205                              Biotechnology          USA   \n",
       "112207                              Biotechnology          USA   \n",
       "112216                              Biotechnology          MYS   \n",
       "112221                              Biotechnology          USA   \n",
       "\n",
       "            primary_sector  \n",
       "0                    Media  \n",
       "12               Analytics  \n",
       "21      Internet Marketing  \n",
       "22                    Apps  \n",
       "45        Local Businesses  \n",
       "...                    ...  \n",
       "112201            Software  \n",
       "112205       Biotechnology  \n",
       "112207       Biotechnology  \n",
       "112216       Biotechnology  \n",
       "112221       Biotechnology  \n",
       "\n",
       "[16744 rows x 7 columns]"
      ]
     },
     "execution_count": 366,
     "metadata": {},
     "output_type": "execute_result"
    }
   ],
   "source": [
    "#Filtering master_frame data set for required funding types\n",
    "funding_type_list = ['venture','angel','seed','private_equity']\n",
    "master_frame = master_frame[master_frame['funding_round_type'].isin(funding_type_list)]\n",
    "master_frame"
   ]
  },
  {
   "cell_type": "code",
   "execution_count": 367,
   "id": "d3521a07",
   "metadata": {
    "scrolled": false
   },
   "outputs": [
    {
     "data": {
      "image/png": "[encoded data removed]",
      "text/plain": [
       "<Figure size 504x288 with 1 Axes>"
      ]
     },
     "metadata": {},
     "output_type": "display_data"
    }
   ],
   "source": [
    "#plotting a box plot to understand visually the statistical information of funding amount for various funding type\n",
    "# hiding outliers in the plot to get a clear view\n",
    "plt.figure(figsize=[7,4])\n",
    "fig = sns.boxplot(data = master_frame, x = 'funding_round_type', y = 'raised_amount_usd',showfliers=False).set(title = 'Box plot showing' '\\n' 'representative amount of each funding type')\n",
    "plt.xticks(rotation=45)\n",
    "plt.ylabel('Funding amount (USD)', fontsize=10)\n",
    "plt.xlabel('Funding type', fontsize=10)\n",
    "plt.show()"
   ]
  },
  {
   "cell_type": "code",
   "execution_count": 368,
   "id": "d3ed31b2",
   "metadata": {
    "scrolled": false
   },
   "outputs": [
    {
     "data": {
      "text/plain": [
       "funding_round_type\n",
       "angel             7.243515e+06\n",
       "private_equity    9.273356e+06\n",
       "seed              6.604623e+06\n",
       "venture           8.882770e+06\n",
       "Name: raised_amount_usd, dtype: float64"
      ]
     },
     "execution_count": 368,
     "metadata": {},
     "output_type": "execute_result"
    }
   ],
   "source": [
    "# Since there are outliers in funding amount, the best representative value would be its median.\n",
    "master_frame.groupby(['funding_round_type'])['raised_amount_usd'].mean()"
   ]
  },
  {
   "cell_type": "code",
   "execution_count": 369,
   "id": "e4de9313",
   "metadata": {},
   "outputs": [
    {
     "data": {
      "text/plain": [
       "venture           16051\n",
       "private_equity      424\n",
       "seed                198\n",
       "angel                71\n",
       "Name: funding_round_type, dtype: int64"
      ]
     },
     "execution_count": 369,
     "metadata": {},
     "output_type": "execute_result"
    }
   ],
   "source": [
    "master_frame['funding_round_type'].value_counts()"
   ]
  },
  {
   "cell_type": "code",
   "execution_count": 370,
   "id": "7247aebf",
   "metadata": {},
   "outputs": [],
   "source": [
    "#filtering the data so that it only contains the venture investment type.\n",
    "master_frame=master_frame[master_frame['funding_round_type']=='venture']"
   ]
  },
  {
   "cell_type": "markdown",
   "id": "eaed5eff",
   "metadata": {},
   "source": [
    "#### To make a data frame named top9 with the top nine countries (based on the total investment amount each country has received)\n"
   ]
  },
  {
   "cell_type": "code",
   "execution_count": 371,
   "id": "a73d4a1f",
   "metadata": {},
   "outputs": [
    {
     "data": {
      "text/plain": [
       "Index(['USA', 'GBR', 'CHN', 'CAN', 'IND', 'ISR', 'FRA', 'DEU', 'SGP'], dtype='object', name='country_code')"
      ]
     },
     "execution_count": 371,
     "metadata": {},
     "output_type": "execute_result"
    }
   ],
   "source": [
    "#grouping master_frame by country w.r.t total funding amount and assigning it to new dataframe 'top' & sorting values in descending order\n",
    "master_frame.groupby(['country_code'])['raised_amount_usd'].sum().sort_values(ascending=False).head(9).index"
   ]
  },
  {
   "cell_type": "code",
   "execution_count": 372,
   "id": "f5453d91",
   "metadata": {},
   "outputs": [],
   "source": [
    "\n",
    "top9 = master_frame[master_frame['country_code'].isin(['USA', 'GBR', 'CHN', 'CAN', 'IND', 'ISR', 'FRA', 'DEU', 'SGP'])]"
   ]
  },
  {
   "cell_type": "code",
   "execution_count": 373,
   "id": "4ce8f97e",
   "metadata": {
    "scrolled": true
   },
   "outputs": [
    {
     "data": {
      "text/html": [
       "<div>\n",
       "<style scoped>\n",
       "    .dataframe tbody tr th:only-of-type {\n",
       "        vertical-align: middle;\n",
       "    }\n",
       "\n",
       "    .dataframe tbody tr th {\n",
       "        vertical-align: top;\n",
       "    }\n",
       "\n",
       "    .dataframe thead th {\n",
       "        text-align: right;\n",
       "    }\n",
       "</style>\n",
       "<table border=\"1\" class=\"dataframe\">\n",
       "  <thead>\n",
       "    <tr style=\"text-align: right;\">\n",
       "      <th></th>\n",
       "      <th>company_permalink</th>\n",
       "      <th>funding_round_type</th>\n",
       "      <th>raised_amount_usd</th>\n",
       "      <th>name</th>\n",
       "      <th>category_list</th>\n",
       "      <th>country_code</th>\n",
       "      <th>primary_sector</th>\n",
       "    </tr>\n",
       "  </thead>\n",
       "  <tbody>\n",
       "    <tr>\n",
       "      <th>45465</th>\n",
       "      <td>/organization/imagination-technologies</td>\n",
       "      <td>venture</td>\n",
       "      <td>9863479.0</td>\n",
       "      <td>Imagination Technologies</td>\n",
       "      <td>Semiconductors</td>\n",
       "      <td>GBR</td>\n",
       "      <td>Semiconductors</td>\n",
       "    </tr>\n",
       "    <tr>\n",
       "      <th>5365</th>\n",
       "      <td>/organization/ampush-media</td>\n",
       "      <td>venture</td>\n",
       "      <td>15000000.0</td>\n",
       "      <td>Ampush</td>\n",
       "      <td>Advertising|Advertising Platforms|Digital Medi...</td>\n",
       "      <td>USA</td>\n",
       "      <td>Advertising</td>\n",
       "    </tr>\n",
       "    <tr>\n",
       "      <th>46806</th>\n",
       "      <td>/organization/innerscope-research</td>\n",
       "      <td>venture</td>\n",
       "      <td>9400000.0</td>\n",
       "      <td>Innerscope Research</td>\n",
       "      <td>Biotechnology</td>\n",
       "      <td>USA</td>\n",
       "      <td>Biotechnology</td>\n",
       "    </tr>\n",
       "    <tr>\n",
       "      <th>19702</th>\n",
       "      <td>/organization/clariphy-communications</td>\n",
       "      <td>venture</td>\n",
       "      <td>7500000.0</td>\n",
       "      <td>ClariPhy Communications</td>\n",
       "      <td>Semiconductors</td>\n",
       "      <td>USA</td>\n",
       "      <td>Semiconductors</td>\n",
       "    </tr>\n",
       "    <tr>\n",
       "      <th>46516</th>\n",
       "      <td>/organization/inform-technologies</td>\n",
       "      <td>venture</td>\n",
       "      <td>15000000.0</td>\n",
       "      <td>Inform Technologies</td>\n",
       "      <td>Curated Web|Journalism|Media|Semantic Web</td>\n",
       "      <td>USA</td>\n",
       "      <td>Curated Web</td>\n",
       "    </tr>\n",
       "  </tbody>\n",
       "</table>\n",
       "</div>"
      ],
      "text/plain": [
       "                            company_permalink funding_round_type  \\\n",
       "45465  /organization/imagination-technologies            venture   \n",
       "5365               /organization/ampush-media            venture   \n",
       "46806       /organization/innerscope-research            venture   \n",
       "19702   /organization/clariphy-communications            venture   \n",
       "46516       /organization/inform-technologies            venture   \n",
       "\n",
       "       raised_amount_usd                      name  \\\n",
       "45465          9863479.0  Imagination Technologies   \n",
       "5365          15000000.0                    Ampush   \n",
       "46806          9400000.0       Innerscope Research   \n",
       "19702          7500000.0   ClariPhy Communications   \n",
       "46516         15000000.0       Inform Technologies   \n",
       "\n",
       "                                           category_list country_code  \\\n",
       "45465                                     Semiconductors          GBR   \n",
       "5365   Advertising|Advertising Platforms|Digital Medi...          USA   \n",
       "46806                                      Biotechnology          USA   \n",
       "19702                                     Semiconductors          USA   \n",
       "46516          Curated Web|Journalism|Media|Semantic Web          USA   \n",
       "\n",
       "       primary_sector  \n",
       "45465  Semiconductors  \n",
       "5365      Advertising  \n",
       "46806   Biotechnology  \n",
       "19702  Semiconductors  \n",
       "46516     Curated Web  "
      ]
     },
     "execution_count": 373,
     "metadata": {},
     "output_type": "execute_result"
    }
   ],
   "source": [
    "top9.sample(5)"
   ]
  },
  {
   "cell_type": "code",
   "execution_count": 374,
   "id": "12760cf3",
   "metadata": {},
   "outputs": [
    {
     "name": "stdout",
     "output_type": "stream",
     "text": [
      "<class 'pandas.core.frame.DataFrame'>\n",
      "Int64Index: 15090 entries, 0 to 112221\n",
      "Data columns (total 7 columns):\n",
      " #   Column              Non-Null Count  Dtype  \n",
      "---  ------              --------------  -----  \n",
      " 0   company_permalink   15090 non-null  object \n",
      " 1   funding_round_type  15090 non-null  object \n",
      " 2   raised_amount_usd   15090 non-null  float64\n",
      " 3   name                15090 non-null  object \n",
      " 4   category_list       15090 non-null  object \n",
      " 5   country_code        15090 non-null  object \n",
      " 6   primary_sector      15090 non-null  object \n",
      "dtypes: float64(1), object(6)\n",
      "memory usage: 943.1+ KB\n"
     ]
    }
   ],
   "source": [
    "top9.info()"
   ]
  },
  {
   "cell_type": "code",
   "execution_count": 375,
   "id": "4c2836f8",
   "metadata": {
    "scrolled": false
   },
   "outputs": [
    {
     "data": {
      "image/png": "[encoded data removed]",
      "text/plain": [
       "<Figure size 504x288 with 1 Axes>"
      ]
     },
     "metadata": {},
     "output_type": "display_data"
    }
   ],
   "source": [
    "# plotting a bar plot to find the countries with more investment funding\n",
    "plt.figure(figsize=[7,4])\n",
    "sns.barplot(data=top9, x='country_code', y ='raised_amount_usd',estimator=sum).set(title='Top 9 countries with highest total funding')\n",
    "plt.ylabel('Total Funding amount(USD)', fontsize=10)\n",
    "plt.xlabel('Country of Investment', fontsize=10)\n",
    "plt.show()"
   ]
  },
  {
   "cell_type": "markdown",
   "id": "d88d91fa",
   "metadata": {},
   "source": [
    "#### Checkpoint 4: Sector Analysis 1"
   ]
  },
  {
   "cell_type": "code",
   "execution_count": 376,
   "id": "80d7c706",
   "metadata": {},
   "outputs": [],
   "source": [
    "mapping = pd.read_csv('mapping.csv',encoding='iso-8859-1')  # Reading mapping.csv file"
   ]
  },
  {
   "cell_type": "code",
   "execution_count": 377,
   "id": "60c51b9e",
   "metadata": {
    "scrolled": true
   },
   "outputs": [
    {
     "data": {
      "text/html": [
       "<div>\n",
       "<style scoped>\n",
       "    .dataframe tbody tr th:only-of-type {\n",
       "        vertical-align: middle;\n",
       "    }\n",
       "\n",
       "    .dataframe tbody tr th {\n",
       "        vertical-align: top;\n",
       "    }\n",
       "\n",
       "    .dataframe thead th {\n",
       "        text-align: right;\n",
       "    }\n",
       "</style>\n",
       "<table border=\"1\" class=\"dataframe\">\n",
       "  <thead>\n",
       "    <tr style=\"text-align: right;\">\n",
       "      <th></th>\n",
       "      <th>category_list</th>\n",
       "      <th>Automotive &amp; Sports</th>\n",
       "      <th>Blanks</th>\n",
       "      <th>Cleantech / Semiconductors</th>\n",
       "      <th>Entertainment</th>\n",
       "      <th>Health</th>\n",
       "      <th>Manufacturing</th>\n",
       "      <th>News, Search and Messaging</th>\n",
       "      <th>Others</th>\n",
       "      <th>Social, Finance, Analytics, Advertising</th>\n",
       "    </tr>\n",
       "  </thead>\n",
       "  <tbody>\n",
       "    <tr>\n",
       "      <th>0</th>\n",
       "      <td>NaN</td>\n",
       "      <td>0</td>\n",
       "      <td>1</td>\n",
       "      <td>0</td>\n",
       "      <td>0</td>\n",
       "      <td>0</td>\n",
       "      <td>0</td>\n",
       "      <td>0</td>\n",
       "      <td>0</td>\n",
       "      <td>0</td>\n",
       "    </tr>\n",
       "    <tr>\n",
       "      <th>1</th>\n",
       "      <td>3D</td>\n",
       "      <td>0</td>\n",
       "      <td>0</td>\n",
       "      <td>0</td>\n",
       "      <td>0</td>\n",
       "      <td>0</td>\n",
       "      <td>1</td>\n",
       "      <td>0</td>\n",
       "      <td>0</td>\n",
       "      <td>0</td>\n",
       "    </tr>\n",
       "    <tr>\n",
       "      <th>2</th>\n",
       "      <td>3D Printing</td>\n",
       "      <td>0</td>\n",
       "      <td>0</td>\n",
       "      <td>0</td>\n",
       "      <td>0</td>\n",
       "      <td>0</td>\n",
       "      <td>1</td>\n",
       "      <td>0</td>\n",
       "      <td>0</td>\n",
       "      <td>0</td>\n",
       "    </tr>\n",
       "    <tr>\n",
       "      <th>3</th>\n",
       "      <td>3D Technology</td>\n",
       "      <td>0</td>\n",
       "      <td>0</td>\n",
       "      <td>0</td>\n",
       "      <td>0</td>\n",
       "      <td>0</td>\n",
       "      <td>1</td>\n",
       "      <td>0</td>\n",
       "      <td>0</td>\n",
       "      <td>0</td>\n",
       "    </tr>\n",
       "    <tr>\n",
       "      <th>4</th>\n",
       "      <td>Accounting</td>\n",
       "      <td>0</td>\n",
       "      <td>0</td>\n",
       "      <td>0</td>\n",
       "      <td>0</td>\n",
       "      <td>0</td>\n",
       "      <td>0</td>\n",
       "      <td>0</td>\n",
       "      <td>0</td>\n",
       "      <td>1</td>\n",
       "    </tr>\n",
       "  </tbody>\n",
       "</table>\n",
       "</div>"
      ],
      "text/plain": [
       "   category_list  Automotive & Sports  Blanks  Cleantech / Semiconductors  \\\n",
       "0            NaN                    0       1                           0   \n",
       "1             3D                    0       0                           0   \n",
       "2    3D Printing                    0       0                           0   \n",
       "3  3D Technology                    0       0                           0   \n",
       "4     Accounting                    0       0                           0   \n",
       "\n",
       "   Entertainment  Health  Manufacturing  News, Search and Messaging  Others  \\\n",
       "0              0       0              0                           0       0   \n",
       "1              0       0              1                           0       0   \n",
       "2              0       0              1                           0       0   \n",
       "3              0       0              1                           0       0   \n",
       "4              0       0              0                           0       0   \n",
       "\n",
       "   Social, Finance, Analytics, Advertising  \n",
       "0                                        0  \n",
       "1                                        0  \n",
       "2                                        0  \n",
       "3                                        0  \n",
       "4                                        1  "
      ]
     },
     "execution_count": 377,
     "metadata": {},
     "output_type": "execute_result"
    }
   ],
   "source": [
    "mapping.head(5)"
   ]
  },
  {
   "cell_type": "markdown",
   "id": "f030d387",
   "metadata": {},
   "source": [
    "##### Mapping main_sectors to category_list and merging it to master frame"
   ]
  },
  {
   "cell_type": "code",
   "execution_count": 378,
   "id": "7afaf84c",
   "metadata": {},
   "outputs": [
    {
     "data": {
      "text/html": [
       "<div>\n",
       "<style scoped>\n",
       "    .dataframe tbody tr th:only-of-type {\n",
       "        vertical-align: middle;\n",
       "    }\n",
       "\n",
       "    .dataframe tbody tr th {\n",
       "        vertical-align: top;\n",
       "    }\n",
       "\n",
       "    .dataframe thead th {\n",
       "        text-align: right;\n",
       "    }\n",
       "</style>\n",
       "<table border=\"1\" class=\"dataframe\">\n",
       "  <thead>\n",
       "    <tr style=\"text-align: right;\">\n",
       "      <th></th>\n",
       "      <th>category_list</th>\n",
       "      <th>Main_sector</th>\n",
       "      <th>value</th>\n",
       "    </tr>\n",
       "  </thead>\n",
       "  <tbody>\n",
       "    <tr>\n",
       "      <th>6187</th>\n",
       "      <td>Wholesale</td>\n",
       "      <td>Social, Finance, Analytics, Advertising</td>\n",
       "      <td>0</td>\n",
       "    </tr>\n",
       "    <tr>\n",
       "      <th>6188</th>\n",
       "      <td>Wine And Spirits</td>\n",
       "      <td>Social, Finance, Analytics, Advertising</td>\n",
       "      <td>0</td>\n",
       "    </tr>\n",
       "    <tr>\n",
       "      <th>6189</th>\n",
       "      <td>Wireless</td>\n",
       "      <td>Social, Finance, Analytics, Advertising</td>\n",
       "      <td>0</td>\n",
       "    </tr>\n",
       "    <tr>\n",
       "      <th>6190</th>\n",
       "      <td>Women</td>\n",
       "      <td>Social, Finance, Analytics, Advertising</td>\n",
       "      <td>0</td>\n",
       "    </tr>\n",
       "    <tr>\n",
       "      <th>6191</th>\n",
       "      <td>Young Adults</td>\n",
       "      <td>Social, Finance, Analytics, Advertising</td>\n",
       "      <td>0</td>\n",
       "    </tr>\n",
       "  </tbody>\n",
       "</table>\n",
       "</div>"
      ],
      "text/plain": [
       "         category_list                              Main_sector  value\n",
       "6187         Wholesale  Social, Finance, Analytics, Advertising      0\n",
       "6188  Wine And Spirits  Social, Finance, Analytics, Advertising      0\n",
       "6189          Wireless  Social, Finance, Analytics, Advertising      0\n",
       "6190             Women  Social, Finance, Analytics, Advertising      0\n",
       "6191      Young Adults  Social, Finance, Analytics, Advertising      0"
      ]
     },
     "execution_count": 378,
     "metadata": {},
     "output_type": "execute_result"
    }
   ],
   "source": [
    "#unpivoting mapping dataset\n",
    "mapping = pd.melt(mapping, id_vars =['category_list'], var_name ='Main_sector')\n",
    "mapping.tail(5)"
   ]
  },
  {
   "cell_type": "code",
   "execution_count": 379,
   "id": "50fc8c3a",
   "metadata": {},
   "outputs": [],
   "source": [
    "mapping = mapping[mapping['value']==1]\n",
    "mapping = mapping.drop(['value'], axis=1)"
   ]
  },
  {
   "cell_type": "code",
   "execution_count": 380,
   "id": "522fb1aa",
   "metadata": {},
   "outputs": [
    {
     "data": {
      "text/html": [
       "<div>\n",
       "<style scoped>\n",
       "    .dataframe tbody tr th:only-of-type {\n",
       "        vertical-align: middle;\n",
       "    }\n",
       "\n",
       "    .dataframe tbody tr th {\n",
       "        vertical-align: top;\n",
       "    }\n",
       "\n",
       "    .dataframe thead th {\n",
       "        text-align: right;\n",
       "    }\n",
       "</style>\n",
       "<table border=\"1\" class=\"dataframe\">\n",
       "  <thead>\n",
       "    <tr style=\"text-align: right;\">\n",
       "      <th></th>\n",
       "      <th>category_list</th>\n",
       "      <th>Main_sector</th>\n",
       "    </tr>\n",
       "  </thead>\n",
       "  <tbody>\n",
       "    <tr>\n",
       "      <th>4935</th>\n",
       "      <td>Collectibles</td>\n",
       "      <td>Others</td>\n",
       "    </tr>\n",
       "    <tr>\n",
       "      <th>4640</th>\n",
       "      <td>Peer-to-Peer</td>\n",
       "      <td>News, Search and Messaging</td>\n",
       "    </tr>\n",
       "    <tr>\n",
       "      <th>2050</th>\n",
       "      <td>Water</td>\n",
       "      <td>Cleantech / Semiconductors</td>\n",
       "    </tr>\n",
       "    <tr>\n",
       "      <th>4196</th>\n",
       "      <td>Blogging Platforms</td>\n",
       "      <td>News, Search and Messaging</td>\n",
       "    </tr>\n",
       "    <tr>\n",
       "      <th>5123</th>\n",
       "      <td>Gift Exchange</td>\n",
       "      <td>Others</td>\n",
       "    </tr>\n",
       "  </tbody>\n",
       "</table>\n",
       "</div>"
      ],
      "text/plain": [
       "           category_list                 Main_sector\n",
       "4935        Collectibles                      Others\n",
       "4640        Peer-to-Peer  News, Search and Messaging\n",
       "2050               Water  Cleantech / Semiconductors\n",
       "4196  Blogging Platforms  News, Search and Messaging\n",
       "5123       Gift Exchange                      Others"
      ]
     },
     "execution_count": 380,
     "metadata": {},
     "output_type": "execute_result"
    }
   ],
   "source": [
    "mapping.sample(5)"
   ]
  },
  {
   "cell_type": "code",
   "execution_count": 381,
   "id": "d97be00a",
   "metadata": {},
   "outputs": [],
   "source": [
    "master_frame = pd.merge(master_frame,mapping, left_on='category_list', right_on ='category_list')"
   ]
  },
  {
   "cell_type": "code",
   "execution_count": 382,
   "id": "99667c01",
   "metadata": {
    "scrolled": true
   },
   "outputs": [
    {
     "data": {
      "text/html": [
       "<div>\n",
       "<style scoped>\n",
       "    .dataframe tbody tr th:only-of-type {\n",
       "        vertical-align: middle;\n",
       "    }\n",
       "\n",
       "    .dataframe tbody tr th {\n",
       "        vertical-align: top;\n",
       "    }\n",
       "\n",
       "    .dataframe thead th {\n",
       "        text-align: right;\n",
       "    }\n",
       "</style>\n",
       "<table border=\"1\" class=\"dataframe\">\n",
       "  <thead>\n",
       "    <tr style=\"text-align: right;\">\n",
       "      <th></th>\n",
       "      <th>company_permalink</th>\n",
       "      <th>funding_round_type</th>\n",
       "      <th>raised_amount_usd</th>\n",
       "      <th>name</th>\n",
       "      <th>category_list</th>\n",
       "      <th>country_code</th>\n",
       "      <th>primary_sector</th>\n",
       "      <th>Main_sector</th>\n",
       "    </tr>\n",
       "  </thead>\n",
       "  <tbody>\n",
       "    <tr>\n",
       "      <th>0</th>\n",
       "      <td>/organization/-fame</td>\n",
       "      <td>venture</td>\n",
       "      <td>10000000.0</td>\n",
       "      <td>#fame</td>\n",
       "      <td>Media</td>\n",
       "      <td>IND</td>\n",
       "      <td>Media</td>\n",
       "      <td>Entertainment</td>\n",
       "    </tr>\n",
       "    <tr>\n",
       "      <th>1</th>\n",
       "      <td>/organization/all-def-digital</td>\n",
       "      <td>venture</td>\n",
       "      <td>5000000.0</td>\n",
       "      <td>All Def Digital</td>\n",
       "      <td>Media</td>\n",
       "      <td>USA</td>\n",
       "      <td>Media</td>\n",
       "      <td>Entertainment</td>\n",
       "    </tr>\n",
       "    <tr>\n",
       "      <th>2</th>\n",
       "      <td>/organization/basel-switzerland</td>\n",
       "      <td>venture</td>\n",
       "      <td>13439178.0</td>\n",
       "      <td>The Speedel Group</td>\n",
       "      <td>Media</td>\n",
       "      <td>CHE</td>\n",
       "      <td>Media</td>\n",
       "      <td>Entertainment</td>\n",
       "    </tr>\n",
       "    <tr>\n",
       "      <th>3</th>\n",
       "      <td>/organization/123greetings</td>\n",
       "      <td>venture</td>\n",
       "      <td>5400000.0</td>\n",
       "      <td>123Greetings</td>\n",
       "      <td>Internet</td>\n",
       "      <td>USA</td>\n",
       "      <td>Internet</td>\n",
       "      <td>News, Search and Messaging</td>\n",
       "    </tr>\n",
       "    <tr>\n",
       "      <th>4</th>\n",
       "      <td>/organization/51zhangdan</td>\n",
       "      <td>venture</td>\n",
       "      <td>15000000.0</td>\n",
       "      <td>51Zhangdan</td>\n",
       "      <td>Internet</td>\n",
       "      <td>CHN</td>\n",
       "      <td>Internet</td>\n",
       "      <td>News, Search and Messaging</td>\n",
       "    </tr>\n",
       "  </tbody>\n",
       "</table>\n",
       "</div>"
      ],
      "text/plain": [
       "                 company_permalink funding_round_type  raised_amount_usd  \\\n",
       "0              /organization/-fame            venture         10000000.0   \n",
       "1    /organization/all-def-digital            venture          5000000.0   \n",
       "2  /organization/basel-switzerland            venture         13439178.0   \n",
       "3       /organization/123greetings            venture          5400000.0   \n",
       "4         /organization/51zhangdan            venture         15000000.0   \n",
       "\n",
       "                name category_list country_code primary_sector  \\\n",
       "0              #fame         Media          IND          Media   \n",
       "1    All Def Digital         Media          USA          Media   \n",
       "2  The Speedel Group         Media          CHE          Media   \n",
       "3       123Greetings      Internet          USA       Internet   \n",
       "4         51Zhangdan      Internet          CHN       Internet   \n",
       "\n",
       "                  Main_sector  \n",
       "0               Entertainment  \n",
       "1               Entertainment  \n",
       "2               Entertainment  \n",
       "3  News, Search and Messaging  \n",
       "4  News, Search and Messaging  "
      ]
     },
     "execution_count": 382,
     "metadata": {},
     "output_type": "execute_result"
    }
   ],
   "source": [
    "master_frame.head(5)"
   ]
  },
  {
   "cell_type": "code",
   "execution_count": 418,
   "id": "a9c90078",
   "metadata": {},
   "outputs": [],
   "source": [
    "master_frame = master_frame[master_frame['country_code'].isin(['USA', 'GBR', 'CHN', 'CAN', 'IND', 'ISR', 'FRA', 'DEU', 'SGP'])]"
   ]
  },
  {
   "cell_type": "code",
   "execution_count": 419,
   "id": "ecf62d4c",
   "metadata": {},
   "outputs": [],
   "source": [
    "data = pd.pivot_table(data=master_frame, values='raised_amount_usd', index='country_code',columns='Main_sector', aggfunc=sum)"
   ]
  },
  {
   "cell_type": "code",
   "execution_count": 420,
   "id": "34e8a672",
   "metadata": {},
   "outputs": [
    {
     "data": {
      "image/png": "[encoded data removed]",
      "text/plain": [
       "<Figure size 720x432 with 1 Axes>"
      ]
     },
     "metadata": {},
     "output_type": "display_data"
    }
   ],
   "source": [
    "data.plot(kind='bar',stacked='True',figsize=[10,6])\n",
    "plt.show()"
   ]
  },
  {
   "cell_type": "markdown",
   "id": "1293f86f",
   "metadata": {},
   "source": [
    "#### Creating D1, D2 and D3 dataframes from master_frames"
   ]
  },
  {
   "cell_type": "code",
   "execution_count": 406,
   "id": "dea65606",
   "metadata": {
    "scrolled": true
   },
   "outputs": [
    {
     "name": "stdout",
     "output_type": "stream",
     "text": [
      "<class 'pandas.core.frame.DataFrame'>\n",
      "Int64Index: 6092 entries, 7385 to 1\n",
      "Data columns (total 8 columns):\n",
      " #   Column              Non-Null Count  Dtype  \n",
      "---  ------              --------------  -----  \n",
      " 0   company_permalink   6092 non-null   object \n",
      " 1   funding_round_type  6092 non-null   object \n",
      " 2   raised_amount_usd   6092 non-null   float64\n",
      " 3   name                6092 non-null   object \n",
      " 4   category_list       6092 non-null   object \n",
      " 5   country_code        6092 non-null   object \n",
      " 6   primary_sector      6092 non-null   object \n",
      " 7   Main_sector         6092 non-null   object \n",
      "dtypes: float64(1), object(7)\n",
      "memory usage: 428.3+ KB\n"
     ]
    }
   ],
   "source": [
    "D1 = master_frame[master_frame['country_code']=='USA']\n",
    "D1 = D1.sort_values('raised_amount_usd', ascending = False)\n",
    "D1.info()"
   ]
  },
  {
   "cell_type": "code",
   "execution_count": null,
   "id": "f139fd14",
   "metadata": {},
   "outputs": [],
   "source": [
    "D2 = master_frame[master_frame['country_code']=='GBR']\n",
    "D2 = D2.sort_values('raised_amount_usd', ascending = False)"
   ]
  },
  {
   "cell_type": "code",
   "execution_count": 385,
   "id": "34962357",
   "metadata": {},
   "outputs": [],
   "source": [
    "D3 = master_frame[master_frame['country_code']=='CAN']\n",
    "D3 = D3.sort_values('raised_amount_usd', ascending = False)"
   ]
  },
  {
   "cell_type": "code",
   "execution_count": 386,
   "id": "a6a0f0f7",
   "metadata": {},
   "outputs": [
    {
     "data": {
      "text/plain": [
       "(6092, 54342224020.0)"
      ]
     },
     "execution_count": 386,
     "metadata": {},
     "output_type": "execute_result"
    }
   ],
   "source": [
    "D1['raised_amount_usd'].count(), D1['raised_amount_usd'].sum()"
   ]
  },
  {
   "cell_type": "code",
   "execution_count": 387,
   "id": "99d54884",
   "metadata": {},
   "outputs": [
    {
     "data": {
      "text/plain": [
       "(333, 2929451457.0)"
      ]
     },
     "execution_count": 387,
     "metadata": {},
     "output_type": "execute_result"
    }
   ],
   "source": [
    "D2['raised_amount_usd'].count(), D2['raised_amount_usd'].sum()"
   ]
  },
  {
   "cell_type": "code",
   "execution_count": 388,
   "id": "5179f255",
   "metadata": {},
   "outputs": [
    {
     "data": {
      "text/plain": [
       "(246, 2112807794.0)"
      ]
     },
     "execution_count": 388,
     "metadata": {},
     "output_type": "execute_result"
    }
   ],
   "source": [
    "D3['raised_amount_usd'].count(), D3['raised_amount_usd'].sum()"
   ]
  },
  {
   "cell_type": "code",
   "execution_count": 411,
   "id": "f42c1241",
   "metadata": {},
   "outputs": [
    {
     "data": {
      "image/png": "[encoded data removed]",
      "text/plain": [
       "<Figure size 432x288 with 1 Axes>"
      ]
     },
     "metadata": {},
     "output_type": "display_data"
    }
   ],
   "source": [
    "sns.set_theme(style=\"darkgrid\")\n",
    "sns.countplot(y=\"Main_sector\", data=D1).set(title='Investment count for various main sectors''\\n''Country - USA')\n",
    "plt.show()"
   ]
  },
  {
   "cell_type": "code",
   "execution_count": 412,
   "id": "567cacb1",
   "metadata": {
    "scrolled": false
   },
   "outputs": [
    {
     "data": {
      "image/png": "[encoded data removed]",
      "text/plain": [
       "<Figure size 432x288 with 1 Axes>"
      ]
     },
     "metadata": {},
     "output_type": "display_data"
    }
   ],
   "source": [
    "sns.set_theme(style=\"darkgrid\")\n",
    "sns.countplot(y=\"Main_sector\", data=D2).set(title='Investment count for various main sectors''\\n''Country - GBR')\n",
    "plt.show()"
   ]
  },
  {
   "cell_type": "code",
   "execution_count": 413,
   "id": "c6803987",
   "metadata": {
    "scrolled": true
   },
   "outputs": [
    {
     "data": {
      "image/png": "[encoded data removed]",
      "text/plain": [
       "<Figure size 432x288 with 1 Axes>"
      ]
     },
     "metadata": {},
     "output_type": "display_data"
    }
   ],
   "source": [
    "sns.set_theme(style=\"darkgrid\")\n",
    "sns.countplot(y=\"Main_sector\", data=D3).set(title='Investment count for various main sectors''\\n''Country - CAN')\n",
    "plt.show()"
   ]
  },
  {
   "cell_type": "code",
   "execution_count": 392,
   "id": "69be95bd",
   "metadata": {},
   "outputs": [
    {
     "data": {
      "text/plain": [
       "Others                        2101\n",
       "Cleantech / Semiconductors    1757\n",
       "Health                         615\n",
       "Name: Main_sector, dtype: int64"
      ]
     },
     "execution_count": 392,
     "metadata": {},
     "output_type": "execute_result"
    }
   ],
   "source": [
    "D1['Main_sector'].value_counts().head(3)"
   ]
  },
  {
   "cell_type": "code",
   "execution_count": 393,
   "id": "488ecded",
   "metadata": {},
   "outputs": [
    {
     "data": {
      "text/plain": [
       "Cleantech / Semiconductors    107\n",
       "Others                        104\n",
       "News, Search and Messaging     29\n",
       "Name: Main_sector, dtype: int64"
      ]
     },
     "execution_count": 393,
     "metadata": {},
     "output_type": "execute_result"
    }
   ],
   "source": [
    "D2['Main_sector'].value_counts().head(3)"
   ]
  },
  {
   "cell_type": "code",
   "execution_count": 394,
   "id": "0625d80d",
   "metadata": {},
   "outputs": [
    {
     "data": {
      "text/plain": [
       "Cleantech / Semiconductors    94\n",
       "Others                        85\n",
       "News, Search and Messaging    19\n",
       "Name: Main_sector, dtype: int64"
      ]
     },
     "execution_count": 394,
     "metadata": {},
     "output_type": "execute_result"
    }
   ],
   "source": [
    "D3['Main_sector'].value_counts().head(3)"
   ]
  },
  {
   "cell_type": "code",
   "execution_count": 395,
   "id": "0a88e93d",
   "metadata": {},
   "outputs": [
    {
     "data": {
      "text/plain": [
       "4160    BlueArc\n",
       "Name: name, dtype: object"
      ]
     },
     "execution_count": 395,
     "metadata": {},
     "output_type": "execute_result"
    }
   ],
   "source": [
    "D1.name[(D1['Main_sector']=='Others')].head(1)"
   ]
  },
  {
   "cell_type": "code",
   "execution_count": 396,
   "id": "64e57970",
   "metadata": {},
   "outputs": [
    {
     "data": {
      "text/plain": [
       "2403    ForSight Labs\n",
       "Name: name, dtype: object"
      ]
     },
     "execution_count": 396,
     "metadata": {},
     "output_type": "execute_result"
    }
   ],
   "source": [
    "D1.name[(D1['Main_sector']=='Cleantech / Semiconductors')].head(1)"
   ]
  },
  {
   "cell_type": "code",
   "execution_count": 397,
   "id": "a8eedbd7",
   "metadata": {},
   "outputs": [
    {
     "data": {
      "text/plain": [
       "4946    SenSage\n",
       "Name: name, dtype: object"
      ]
     },
     "execution_count": 397,
     "metadata": {},
     "output_type": "execute_result"
    }
   ],
   "source": [
    "D2.name[(D2['Main_sector']=='Others')].head(1)"
   ]
  },
  {
   "cell_type": "code",
   "execution_count": 398,
   "id": "ec57562b",
   "metadata": {},
   "outputs": [
    {
     "data": {
      "text/plain": [
       "3833    Elixent\n",
       "Name: name, dtype: object"
      ]
     },
     "execution_count": 398,
     "metadata": {},
     "output_type": "execute_result"
    }
   ],
   "source": [
    "D2.name[(D2['Main_sector']=='Cleantech / Semiconductors')].head(1)"
   ]
  },
  {
   "cell_type": "code",
   "execution_count": 399,
   "id": "70d05f74",
   "metadata": {},
   "outputs": [
    {
     "data": {
      "text/plain": [
       "3579    QuickPlay Media\n",
       "Name: name, dtype: object"
      ]
     },
     "execution_count": 399,
     "metadata": {},
     "output_type": "execute_result"
    }
   ],
   "source": [
    "D3.name[(D3['Main_sector']=='Others')].head(1)"
   ]
  },
  {
   "cell_type": "code",
   "execution_count": 400,
   "id": "c3b7a717",
   "metadata": {},
   "outputs": [
    {
     "data": {
      "text/plain": [
       "3818    Diablo Technologies\n",
       "Name: name, dtype: object"
      ]
     },
     "execution_count": 400,
     "metadata": {},
     "output_type": "execute_result"
    }
   ],
   "source": [
    "D3.name[(D3['Main_sector']=='Cleantech / Semiconductors')].head(1)"
   ]
  },
  {
   "cell_type": "code",
   "execution_count": 401,
   "id": "0adc7959",
   "metadata": {},
   "outputs": [],
   "source": [
    "Main_sector_top3 = ['Cleantech / Semiconductors','Others','Health','News, Search and Messaging']\n",
    "main_countries = ['USA','CAN','GBR']\n",
    "master_frame_final = master_frame[(master_frame['country_code'].isin(main_countries)) & (master_frame['Main_sector'].isin(Main_sector_top3)) & (master_frame['raised_amount_usd']>=5000000) & (master_frame['raised_amount_usd']<=15000000)]\n",
    "master_frame_final = master_frame_final[['country_code','Main_sector']]"
   ]
  },
  {
   "cell_type": "code",
   "execution_count": 402,
   "id": "053f700e",
   "metadata": {},
   "outputs": [],
   "source": [
    "Heatmap_result = pd.pivot_table(data=master_frame_final,index='country_code',columns='Main_sector',aggfunc='size', fill_value=0)"
   ]
  },
  {
   "cell_type": "code",
   "execution_count": 403,
   "id": "c9ac2b3a",
   "metadata": {},
   "outputs": [
    {
     "data": {
      "text/html": [
       "<div>\n",
       "<style scoped>\n",
       "    .dataframe tbody tr th:only-of-type {\n",
       "        vertical-align: middle;\n",
       "    }\n",
       "\n",
       "    .dataframe tbody tr th {\n",
       "        vertical-align: top;\n",
       "    }\n",
       "\n",
       "    .dataframe thead th {\n",
       "        text-align: right;\n",
       "    }\n",
       "</style>\n",
       "<table border=\"1\" class=\"dataframe\">\n",
       "  <thead>\n",
       "    <tr style=\"text-align: right;\">\n",
       "      <th>Main_sector</th>\n",
       "      <th>Cleantech / Semiconductors</th>\n",
       "      <th>Health</th>\n",
       "      <th>News, Search and Messaging</th>\n",
       "      <th>Others</th>\n",
       "    </tr>\n",
       "    <tr>\n",
       "      <th>country_code</th>\n",
       "      <th></th>\n",
       "      <th></th>\n",
       "      <th></th>\n",
       "      <th></th>\n",
       "    </tr>\n",
       "  </thead>\n",
       "  <tbody>\n",
       "    <tr>\n",
       "      <th>CAN</th>\n",
       "      <td>94</td>\n",
       "      <td>13</td>\n",
       "      <td>19</td>\n",
       "      <td>85</td>\n",
       "    </tr>\n",
       "    <tr>\n",
       "      <th>GBR</th>\n",
       "      <td>107</td>\n",
       "      <td>13</td>\n",
       "      <td>29</td>\n",
       "      <td>104</td>\n",
       "    </tr>\n",
       "    <tr>\n",
       "      <th>USA</th>\n",
       "      <td>1757</td>\n",
       "      <td>615</td>\n",
       "      <td>573</td>\n",
       "      <td>2101</td>\n",
       "    </tr>\n",
       "  </tbody>\n",
       "</table>\n",
       "</div>"
      ],
      "text/plain": [
       "Main_sector   Cleantech / Semiconductors  Health  News, Search and Messaging  \\\n",
       "country_code                                                                   \n",
       "CAN                                   94      13                          19   \n",
       "GBR                                  107      13                          29   \n",
       "USA                                 1757     615                         573   \n",
       "\n",
       "Main_sector   Others  \n",
       "country_code          \n",
       "CAN               85  \n",
       "GBR              104  \n",
       "USA             2101  "
      ]
     },
     "execution_count": 403,
     "metadata": {},
     "output_type": "execute_result"
    }
   ],
   "source": [
    "Heatmap_result"
   ]
  },
  {
   "cell_type": "code",
   "execution_count": 408,
   "id": "0b0c2c05",
   "metadata": {
    "scrolled": true
   },
   "outputs": [
    {
     "data": {
      "image/png": "[encoded data removed]",
      "text/plain": [
       "<Figure size 576x360 with 2 Axes>"
      ]
     },
     "metadata": {},
     "output_type": "display_data"
    }
   ],
   "source": [
    "plt.figure(figsize=[8,5])\n",
    "sns.heatmap(Heatmap_result,cmap = \"Reds\", annot =True).set(title = 'Heap map showing number of investments''\\n''in the top 3 sectors of the top 3 countries')\n",
    "plt.xticks(rotation=45)\n",
    "plt.show()"
   ]
  },
  {
   "cell_type": "code",
   "execution_count": null,
   "id": "4b25072f",
   "metadata": {},
   "outputs": [],
   "source": []
  }
 ],
 "metadata": {
  "kernelspec": {
   "display_name": "Python 3",
   "language": "python",
   "name": "python3"
  },
  "language_info": {
   "codemirror_mode": {
    "name": "ipython",
    "version": 3
   },
   "file_extension": ".py",
   "mimetype": "text/x-python",
   "name": "python",
   "nbconvert_exporter": "python",
   "pygments_lexer": "ipython3",
   "version": "3.8.8"
  }
 },
 "nbformat": 4,
 "nbformat_minor": 5
}
