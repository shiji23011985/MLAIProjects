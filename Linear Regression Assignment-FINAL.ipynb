{
 "cells": [
  {
   "cell_type": "markdown",
   "id": "68418848",
   "metadata": {},
   "source": [
    "## LINEAR REGRESSION ASSIGNMENT"
   ]
  },
  {
   "cell_type": "markdown",
   "id": "2e1f8726",
   "metadata": {},
   "source": [
    "#### Importing and Understanding Data"
   ]
  },
  {
   "cell_type": "code",
   "execution_count": 1,
   "id": "1f869654",
   "metadata": {},
   "outputs": [],
   "source": [
    "# Importing necessary libraries\n",
    "import numpy as np\n",
    "import pandas as pd\n",
    "import matplotlib.pyplot as plt\n",
    "import seaborn as sns\n",
    "%matplotlib inline\n",
    "from datetime import datetime\n",
    "\n",
    "# importing scikit learn \n",
    "import sklearn\n",
    "from sklearn.model_selection import train_test_split \n",
    "from sklearn.preprocessing import MinMaxScaler\n",
    "# RFE and Linear Regression modules\n",
    "from sklearn.feature_selection import RFE\n",
    "from sklearn.linear_model import LinearRegression\n",
    "# importing R2 score from scikit learn\n",
    "from sklearn.metrics import r2_score\n",
    "\n",
    "#importing statsmodels \n",
    "import statsmodels.api as sm\n",
    "# importing VIF module\n",
    "from statsmodels.stats.outliers_influence import variance_inflation_factor"
   ]
  },
  {
   "cell_type": "code",
   "execution_count": 2,
   "id": "8263dbfe",
   "metadata": {},
   "outputs": [],
   "source": [
    "#Supress warnings\n",
    "import warnings\n",
    "warnings.filterwarnings('ignore')"
   ]
  },
  {
   "cell_type": "code",
   "execution_count": 3,
   "id": "dc154d7f",
   "metadata": {},
   "outputs": [],
   "source": [
    "# Importing bike sharing data set\n",
    "bike_sharing = pd.read_csv('day.csv')"
   ]
  },
  {
   "cell_type": "code",
   "execution_count": 4,
   "id": "34292f53",
   "metadata": {},
   "outputs": [
    {
     "data": {
      "text/html": [
       "<div>\n",
       "<style scoped>\n",
       "    .dataframe tbody tr th:only-of-type {\n",
       "        vertical-align: middle;\n",
       "    }\n",
       "\n",
       "    .dataframe tbody tr th {\n",
       "        vertical-align: top;\n",
       "    }\n",
       "\n",
       "    .dataframe thead th {\n",
       "        text-align: right;\n",
       "    }\n",
       "</style>\n",
       "<table border=\"1\" class=\"dataframe\">\n",
       "  <thead>\n",
       "    <tr style=\"text-align: right;\">\n",
       "      <th></th>\n",
       "      <th>instant</th>\n",
       "      <th>dteday</th>\n",
       "      <th>season</th>\n",
       "      <th>yr</th>\n",
       "      <th>mnth</th>\n",
       "      <th>holiday</th>\n",
       "      <th>weekday</th>\n",
       "      <th>workingday</th>\n",
       "      <th>weathersit</th>\n",
       "      <th>temp</th>\n",
       "      <th>atemp</th>\n",
       "      <th>hum</th>\n",
       "      <th>windspeed</th>\n",
       "      <th>casual</th>\n",
       "      <th>registered</th>\n",
       "      <th>cnt</th>\n",
       "    </tr>\n",
       "  </thead>\n",
       "  <tbody>\n",
       "    <tr>\n",
       "      <th>0</th>\n",
       "      <td>1</td>\n",
       "      <td>01-01-2018</td>\n",
       "      <td>1</td>\n",
       "      <td>0</td>\n",
       "      <td>1</td>\n",
       "      <td>0</td>\n",
       "      <td>6</td>\n",
       "      <td>0</td>\n",
       "      <td>2</td>\n",
       "      <td>14.110847</td>\n",
       "      <td>18.18125</td>\n",
       "      <td>80.5833</td>\n",
       "      <td>10.749882</td>\n",
       "      <td>331</td>\n",
       "      <td>654</td>\n",
       "      <td>985</td>\n",
       "    </tr>\n",
       "    <tr>\n",
       "      <th>1</th>\n",
       "      <td>2</td>\n",
       "      <td>02-01-2018</td>\n",
       "      <td>1</td>\n",
       "      <td>0</td>\n",
       "      <td>1</td>\n",
       "      <td>0</td>\n",
       "      <td>0</td>\n",
       "      <td>0</td>\n",
       "      <td>2</td>\n",
       "      <td>14.902598</td>\n",
       "      <td>17.68695</td>\n",
       "      <td>69.6087</td>\n",
       "      <td>16.652113</td>\n",
       "      <td>131</td>\n",
       "      <td>670</td>\n",
       "      <td>801</td>\n",
       "    </tr>\n",
       "    <tr>\n",
       "      <th>2</th>\n",
       "      <td>3</td>\n",
       "      <td>03-01-2018</td>\n",
       "      <td>1</td>\n",
       "      <td>0</td>\n",
       "      <td>1</td>\n",
       "      <td>0</td>\n",
       "      <td>1</td>\n",
       "      <td>1</td>\n",
       "      <td>1</td>\n",
       "      <td>8.050924</td>\n",
       "      <td>9.47025</td>\n",
       "      <td>43.7273</td>\n",
       "      <td>16.636703</td>\n",
       "      <td>120</td>\n",
       "      <td>1229</td>\n",
       "      <td>1349</td>\n",
       "    </tr>\n",
       "    <tr>\n",
       "      <th>3</th>\n",
       "      <td>4</td>\n",
       "      <td>04-01-2018</td>\n",
       "      <td>1</td>\n",
       "      <td>0</td>\n",
       "      <td>1</td>\n",
       "      <td>0</td>\n",
       "      <td>2</td>\n",
       "      <td>1</td>\n",
       "      <td>1</td>\n",
       "      <td>8.200000</td>\n",
       "      <td>10.60610</td>\n",
       "      <td>59.0435</td>\n",
       "      <td>10.739832</td>\n",
       "      <td>108</td>\n",
       "      <td>1454</td>\n",
       "      <td>1562</td>\n",
       "    </tr>\n",
       "    <tr>\n",
       "      <th>4</th>\n",
       "      <td>5</td>\n",
       "      <td>05-01-2018</td>\n",
       "      <td>1</td>\n",
       "      <td>0</td>\n",
       "      <td>1</td>\n",
       "      <td>0</td>\n",
       "      <td>3</td>\n",
       "      <td>1</td>\n",
       "      <td>1</td>\n",
       "      <td>9.305237</td>\n",
       "      <td>11.46350</td>\n",
       "      <td>43.6957</td>\n",
       "      <td>12.522300</td>\n",
       "      <td>82</td>\n",
       "      <td>1518</td>\n",
       "      <td>1600</td>\n",
       "    </tr>\n",
       "  </tbody>\n",
       "</table>\n",
       "</div>"
      ],
      "text/plain": [
       "   instant      dteday  season  yr  mnth  holiday  weekday  workingday  \\\n",
       "0        1  01-01-2018       1   0     1        0        6           0   \n",
       "1        2  02-01-2018       1   0     1        0        0           0   \n",
       "2        3  03-01-2018       1   0     1        0        1           1   \n",
       "3        4  04-01-2018       1   0     1        0        2           1   \n",
       "4        5  05-01-2018       1   0     1        0        3           1   \n",
       "\n",
       "   weathersit       temp     atemp      hum  windspeed  casual  registered  \\\n",
       "0           2  14.110847  18.18125  80.5833  10.749882     331         654   \n",
       "1           2  14.902598  17.68695  69.6087  16.652113     131         670   \n",
       "2           1   8.050924   9.47025  43.7273  16.636703     120        1229   \n",
       "3           1   8.200000  10.60610  59.0435  10.739832     108        1454   \n",
       "4           1   9.305237  11.46350  43.6957  12.522300      82        1518   \n",
       "\n",
       "    cnt  \n",
       "0   985  \n",
       "1   801  \n",
       "2  1349  \n",
       "3  1562  \n",
       "4  1600  "
      ]
     },
     "execution_count": 4,
     "metadata": {},
     "output_type": "execute_result"
    }
   ],
   "source": [
    "# Displays the first few rows of the dataframes\n",
    "bike_sharing.head(5) "
   ]
  },
  {
   "cell_type": "code",
   "execution_count": 5,
   "id": "fdcd62c1",
   "metadata": {},
   "outputs": [
    {
     "data": {
      "text/plain": [
       "(730, 16)"
      ]
     },
     "execution_count": 5,
     "metadata": {},
     "output_type": "execute_result"
    }
   ],
   "source": [
    "bike_sharing.shape # Checking the nos. of rows and columns "
   ]
  },
  {
   "cell_type": "code",
   "execution_count": 6,
   "id": "98ecb7fe",
   "metadata": {},
   "outputs": [
    {
     "name": "stdout",
     "output_type": "stream",
     "text": [
      "<class 'pandas.core.frame.DataFrame'>\n",
      "RangeIndex: 730 entries, 0 to 729\n",
      "Data columns (total 16 columns):\n",
      " #   Column      Non-Null Count  Dtype  \n",
      "---  ------      --------------  -----  \n",
      " 0   instant     730 non-null    int64  \n",
      " 1   dteday      730 non-null    object \n",
      " 2   season      730 non-null    int64  \n",
      " 3   yr          730 non-null    int64  \n",
      " 4   mnth        730 non-null    int64  \n",
      " 5   holiday     730 non-null    int64  \n",
      " 6   weekday     730 non-null    int64  \n",
      " 7   workingday  730 non-null    int64  \n",
      " 8   weathersit  730 non-null    int64  \n",
      " 9   temp        730 non-null    float64\n",
      " 10  atemp       730 non-null    float64\n",
      " 11  hum         730 non-null    float64\n",
      " 12  windspeed   730 non-null    float64\n",
      " 13  casual      730 non-null    int64  \n",
      " 14  registered  730 non-null    int64  \n",
      " 15  cnt         730 non-null    int64  \n",
      "dtypes: float64(4), int64(11), object(1)\n",
      "memory usage: 91.4+ KB\n"
     ]
    }
   ],
   "source": [
    "bike_sharing.info() # Checking dataframe general information"
   ]
  },
  {
   "cell_type": "code",
   "execution_count": 7,
   "id": "a6a90aae",
   "metadata": {},
   "outputs": [
    {
     "data": {
      "text/html": [
       "<div>\n",
       "<style scoped>\n",
       "    .dataframe tbody tr th:only-of-type {\n",
       "        vertical-align: middle;\n",
       "    }\n",
       "\n",
       "    .dataframe tbody tr th {\n",
       "        vertical-align: top;\n",
       "    }\n",
       "\n",
       "    .dataframe thead th {\n",
       "        text-align: right;\n",
       "    }\n",
       "</style>\n",
       "<table border=\"1\" class=\"dataframe\">\n",
       "  <thead>\n",
       "    <tr style=\"text-align: right;\">\n",
       "      <th></th>\n",
       "      <th>instant</th>\n",
       "      <th>season</th>\n",
       "      <th>yr</th>\n",
       "      <th>mnth</th>\n",
       "      <th>holiday</th>\n",
       "      <th>weekday</th>\n",
       "      <th>workingday</th>\n",
       "      <th>weathersit</th>\n",
       "      <th>temp</th>\n",
       "      <th>atemp</th>\n",
       "      <th>hum</th>\n",
       "      <th>windspeed</th>\n",
       "      <th>casual</th>\n",
       "      <th>registered</th>\n",
       "      <th>cnt</th>\n",
       "    </tr>\n",
       "  </thead>\n",
       "  <tbody>\n",
       "    <tr>\n",
       "      <th>count</th>\n",
       "      <td>730.000000</td>\n",
       "      <td>730.000000</td>\n",
       "      <td>730.000000</td>\n",
       "      <td>730.000000</td>\n",
       "      <td>730.000000</td>\n",
       "      <td>730.000000</td>\n",
       "      <td>730.000000</td>\n",
       "      <td>730.000000</td>\n",
       "      <td>730.000000</td>\n",
       "      <td>730.000000</td>\n",
       "      <td>730.000000</td>\n",
       "      <td>730.000000</td>\n",
       "      <td>730.000000</td>\n",
       "      <td>730.000000</td>\n",
       "      <td>730.000000</td>\n",
       "    </tr>\n",
       "    <tr>\n",
       "      <th>mean</th>\n",
       "      <td>365.500000</td>\n",
       "      <td>2.498630</td>\n",
       "      <td>0.500000</td>\n",
       "      <td>6.526027</td>\n",
       "      <td>0.028767</td>\n",
       "      <td>2.997260</td>\n",
       "      <td>0.683562</td>\n",
       "      <td>1.394521</td>\n",
       "      <td>20.319259</td>\n",
       "      <td>23.726322</td>\n",
       "      <td>62.765175</td>\n",
       "      <td>12.763620</td>\n",
       "      <td>849.249315</td>\n",
       "      <td>3658.757534</td>\n",
       "      <td>4508.006849</td>\n",
       "    </tr>\n",
       "    <tr>\n",
       "      <th>std</th>\n",
       "      <td>210.877136</td>\n",
       "      <td>1.110184</td>\n",
       "      <td>0.500343</td>\n",
       "      <td>3.450215</td>\n",
       "      <td>0.167266</td>\n",
       "      <td>2.006161</td>\n",
       "      <td>0.465405</td>\n",
       "      <td>0.544807</td>\n",
       "      <td>7.506729</td>\n",
       "      <td>8.150308</td>\n",
       "      <td>14.237589</td>\n",
       "      <td>5.195841</td>\n",
       "      <td>686.479875</td>\n",
       "      <td>1559.758728</td>\n",
       "      <td>1936.011647</td>\n",
       "    </tr>\n",
       "    <tr>\n",
       "      <th>min</th>\n",
       "      <td>1.000000</td>\n",
       "      <td>1.000000</td>\n",
       "      <td>0.000000</td>\n",
       "      <td>1.000000</td>\n",
       "      <td>0.000000</td>\n",
       "      <td>0.000000</td>\n",
       "      <td>0.000000</td>\n",
       "      <td>1.000000</td>\n",
       "      <td>2.424346</td>\n",
       "      <td>3.953480</td>\n",
       "      <td>0.000000</td>\n",
       "      <td>1.500244</td>\n",
       "      <td>2.000000</td>\n",
       "      <td>20.000000</td>\n",
       "      <td>22.000000</td>\n",
       "    </tr>\n",
       "    <tr>\n",
       "      <th>25%</th>\n",
       "      <td>183.250000</td>\n",
       "      <td>2.000000</td>\n",
       "      <td>0.000000</td>\n",
       "      <td>4.000000</td>\n",
       "      <td>0.000000</td>\n",
       "      <td>1.000000</td>\n",
       "      <td>0.000000</td>\n",
       "      <td>1.000000</td>\n",
       "      <td>13.811885</td>\n",
       "      <td>16.889713</td>\n",
       "      <td>52.000000</td>\n",
       "      <td>9.041650</td>\n",
       "      <td>316.250000</td>\n",
       "      <td>2502.250000</td>\n",
       "      <td>3169.750000</td>\n",
       "    </tr>\n",
       "    <tr>\n",
       "      <th>50%</th>\n",
       "      <td>365.500000</td>\n",
       "      <td>3.000000</td>\n",
       "      <td>0.500000</td>\n",
       "      <td>7.000000</td>\n",
       "      <td>0.000000</td>\n",
       "      <td>3.000000</td>\n",
       "      <td>1.000000</td>\n",
       "      <td>1.000000</td>\n",
       "      <td>20.465826</td>\n",
       "      <td>24.368225</td>\n",
       "      <td>62.625000</td>\n",
       "      <td>12.125325</td>\n",
       "      <td>717.000000</td>\n",
       "      <td>3664.500000</td>\n",
       "      <td>4548.500000</td>\n",
       "    </tr>\n",
       "    <tr>\n",
       "      <th>75%</th>\n",
       "      <td>547.750000</td>\n",
       "      <td>3.000000</td>\n",
       "      <td>1.000000</td>\n",
       "      <td>10.000000</td>\n",
       "      <td>0.000000</td>\n",
       "      <td>5.000000</td>\n",
       "      <td>1.000000</td>\n",
       "      <td>2.000000</td>\n",
       "      <td>26.880615</td>\n",
       "      <td>30.445775</td>\n",
       "      <td>72.989575</td>\n",
       "      <td>15.625589</td>\n",
       "      <td>1096.500000</td>\n",
       "      <td>4783.250000</td>\n",
       "      <td>5966.000000</td>\n",
       "    </tr>\n",
       "    <tr>\n",
       "      <th>max</th>\n",
       "      <td>730.000000</td>\n",
       "      <td>4.000000</td>\n",
       "      <td>1.000000</td>\n",
       "      <td>12.000000</td>\n",
       "      <td>1.000000</td>\n",
       "      <td>6.000000</td>\n",
       "      <td>1.000000</td>\n",
       "      <td>3.000000</td>\n",
       "      <td>35.328347</td>\n",
       "      <td>42.044800</td>\n",
       "      <td>97.250000</td>\n",
       "      <td>34.000021</td>\n",
       "      <td>3410.000000</td>\n",
       "      <td>6946.000000</td>\n",
       "      <td>8714.000000</td>\n",
       "    </tr>\n",
       "  </tbody>\n",
       "</table>\n",
       "</div>"
      ],
      "text/plain": [
       "          instant      season          yr        mnth     holiday     weekday  \\\n",
       "count  730.000000  730.000000  730.000000  730.000000  730.000000  730.000000   \n",
       "mean   365.500000    2.498630    0.500000    6.526027    0.028767    2.997260   \n",
       "std    210.877136    1.110184    0.500343    3.450215    0.167266    2.006161   \n",
       "min      1.000000    1.000000    0.000000    1.000000    0.000000    0.000000   \n",
       "25%    183.250000    2.000000    0.000000    4.000000    0.000000    1.000000   \n",
       "50%    365.500000    3.000000    0.500000    7.000000    0.000000    3.000000   \n",
       "75%    547.750000    3.000000    1.000000   10.000000    0.000000    5.000000   \n",
       "max    730.000000    4.000000    1.000000   12.000000    1.000000    6.000000   \n",
       "\n",
       "       workingday  weathersit        temp       atemp         hum   windspeed  \\\n",
       "count  730.000000  730.000000  730.000000  730.000000  730.000000  730.000000   \n",
       "mean     0.683562    1.394521   20.319259   23.726322   62.765175   12.763620   \n",
       "std      0.465405    0.544807    7.506729    8.150308   14.237589    5.195841   \n",
       "min      0.000000    1.000000    2.424346    3.953480    0.000000    1.500244   \n",
       "25%      0.000000    1.000000   13.811885   16.889713   52.000000    9.041650   \n",
       "50%      1.000000    1.000000   20.465826   24.368225   62.625000   12.125325   \n",
       "75%      1.000000    2.000000   26.880615   30.445775   72.989575   15.625589   \n",
       "max      1.000000    3.000000   35.328347   42.044800   97.250000   34.000021   \n",
       "\n",
       "            casual   registered          cnt  \n",
       "count   730.000000   730.000000   730.000000  \n",
       "mean    849.249315  3658.757534  4508.006849  \n",
       "std     686.479875  1559.758728  1936.011647  \n",
       "min       2.000000    20.000000    22.000000  \n",
       "25%     316.250000  2502.250000  3169.750000  \n",
       "50%     717.000000  3664.500000  4548.500000  \n",
       "75%    1096.500000  4783.250000  5966.000000  \n",
       "max    3410.000000  6946.000000  8714.000000  "
      ]
     },
     "execution_count": 7,
     "metadata": {},
     "output_type": "execute_result"
    }
   ],
   "source": [
    "bike_sharing.describe() # Statistical details of continuous variable"
   ]
  },
  {
   "cell_type": "code",
   "execution_count": 8,
   "id": "040077ef",
   "metadata": {
    "scrolled": true
   },
   "outputs": [
    {
     "data": {
      "text/plain": [
       "instant       0\n",
       "dteday        0\n",
       "season        0\n",
       "yr            0\n",
       "mnth          0\n",
       "holiday       0\n",
       "weekday       0\n",
       "workingday    0\n",
       "weathersit    0\n",
       "temp          0\n",
       "atemp         0\n",
       "hum           0\n",
       "windspeed     0\n",
       "casual        0\n",
       "registered    0\n",
       "cnt           0\n",
       "dtype: int64"
      ]
     },
     "execution_count": 8,
     "metadata": {},
     "output_type": "execute_result"
    }
   ],
   "source": [
    "bike_sharing.isnull().sum() # Checking for any null values"
   ]
  },
  {
   "cell_type": "markdown",
   "id": "496c0e96",
   "metadata": {},
   "source": [
    "#### Data Preparation"
   ]
  },
  {
   "cell_type": "markdown",
   "id": "66383b43",
   "metadata": {},
   "source": [
    "- Dropping 'instant' column as it just indicate the index will not be of any use\n",
    "- Dropping 'dteday' column as we have month and year column already existing.\n",
    "- Dropping 'casual' and 'registered' to avoid data leakage"
   ]
  },
  {
   "cell_type": "code",
   "execution_count": 9,
   "id": "4c733dae",
   "metadata": {},
   "outputs": [],
   "source": [
    "drop_vars = ['instant','dteday','casual','registered']\n",
    "bike_sharing = bike_sharing.drop(drop_vars, axis=1)"
   ]
  },
  {
   "cell_type": "markdown",
   "id": "084be455",
   "metadata": {},
   "source": [
    "#### Converting season, weather, weekday and month to string variables"
   ]
  },
  {
   "cell_type": "code",
   "execution_count": 10,
   "id": "16c6a168",
   "metadata": {},
   "outputs": [],
   "source": [
    "season_dict = {1:'spring',2:'summer',3:'fall', 4:'winter'}\n",
    "weathersit_dict = {1:'clear', 2:'mist', 3:'Light rain',4:'Heavy Rain'}"
   ]
  },
  {
   "cell_type": "code",
   "execution_count": 11,
   "id": "fd6e702c",
   "metadata": {},
   "outputs": [],
   "source": [
    "# mapping above declared season dictionary to the season's column in the dataframe \n",
    "bike_sharing['season']=bike_sharing['season'].apply(lambda x:season_dict.get(x))"
   ]
  },
  {
   "cell_type": "code",
   "execution_count": 12,
   "id": "7645025d",
   "metadata": {},
   "outputs": [],
   "source": [
    "# mapping above declared weather dictionary to the weathersit's column in the dataframe \n",
    "bike_sharing['weathersit']=bike_sharing['weathersit'].apply(lambda x:weathersit_dict.get(x))"
   ]
  },
  {
   "cell_type": "code",
   "execution_count": 13,
   "id": "a0401e4d",
   "metadata": {},
   "outputs": [],
   "source": [
    "# converting months to month names\n",
    "bike_sharing['mnth'] = pd.to_datetime(bike_sharing['mnth'], format='%m').dt.month_name().str.slice(stop=3)"
   ]
  },
  {
   "cell_type": "code",
   "execution_count": 14,
   "id": "374a7906",
   "metadata": {},
   "outputs": [],
   "source": [
    "# converting weekday to week day names (As 01-01-2018 was Monday,so considering 6 as Monday and 0 as Tuesday and so on)\n",
    "days = {0:'Tues',1:'Weds',2:'Thurs',3:'Fri',4:'Sat',5:'Sun',6:'Mon'}\n",
    "bike_sharing['weekday'] = bike_sharing['weekday'].apply(lambda x: days[x])"
   ]
  },
  {
   "cell_type": "code",
   "execution_count": 15,
   "id": "2cfde893",
   "metadata": {
    "scrolled": false
   },
   "outputs": [
    {
     "data": {
      "text/html": [
       "<div>\n",
       "<style scoped>\n",
       "    .dataframe tbody tr th:only-of-type {\n",
       "        vertical-align: middle;\n",
       "    }\n",
       "\n",
       "    .dataframe tbody tr th {\n",
       "        vertical-align: top;\n",
       "    }\n",
       "\n",
       "    .dataframe thead th {\n",
       "        text-align: right;\n",
       "    }\n",
       "</style>\n",
       "<table border=\"1\" class=\"dataframe\">\n",
       "  <thead>\n",
       "    <tr style=\"text-align: right;\">\n",
       "      <th></th>\n",
       "      <th>season</th>\n",
       "      <th>yr</th>\n",
       "      <th>mnth</th>\n",
       "      <th>holiday</th>\n",
       "      <th>weekday</th>\n",
       "      <th>workingday</th>\n",
       "      <th>weathersit</th>\n",
       "      <th>temp</th>\n",
       "      <th>atemp</th>\n",
       "      <th>hum</th>\n",
       "      <th>windspeed</th>\n",
       "      <th>cnt</th>\n",
       "    </tr>\n",
       "  </thead>\n",
       "  <tbody>\n",
       "    <tr>\n",
       "      <th>0</th>\n",
       "      <td>spring</td>\n",
       "      <td>0</td>\n",
       "      <td>Jan</td>\n",
       "      <td>0</td>\n",
       "      <td>Mon</td>\n",
       "      <td>0</td>\n",
       "      <td>mist</td>\n",
       "      <td>14.110847</td>\n",
       "      <td>18.18125</td>\n",
       "      <td>80.5833</td>\n",
       "      <td>10.749882</td>\n",
       "      <td>985</td>\n",
       "    </tr>\n",
       "    <tr>\n",
       "      <th>1</th>\n",
       "      <td>spring</td>\n",
       "      <td>0</td>\n",
       "      <td>Jan</td>\n",
       "      <td>0</td>\n",
       "      <td>Tues</td>\n",
       "      <td>0</td>\n",
       "      <td>mist</td>\n",
       "      <td>14.902598</td>\n",
       "      <td>17.68695</td>\n",
       "      <td>69.6087</td>\n",
       "      <td>16.652113</td>\n",
       "      <td>801</td>\n",
       "    </tr>\n",
       "    <tr>\n",
       "      <th>2</th>\n",
       "      <td>spring</td>\n",
       "      <td>0</td>\n",
       "      <td>Jan</td>\n",
       "      <td>0</td>\n",
       "      <td>Weds</td>\n",
       "      <td>1</td>\n",
       "      <td>clear</td>\n",
       "      <td>8.050924</td>\n",
       "      <td>9.47025</td>\n",
       "      <td>43.7273</td>\n",
       "      <td>16.636703</td>\n",
       "      <td>1349</td>\n",
       "    </tr>\n",
       "    <tr>\n",
       "      <th>3</th>\n",
       "      <td>spring</td>\n",
       "      <td>0</td>\n",
       "      <td>Jan</td>\n",
       "      <td>0</td>\n",
       "      <td>Thurs</td>\n",
       "      <td>1</td>\n",
       "      <td>clear</td>\n",
       "      <td>8.200000</td>\n",
       "      <td>10.60610</td>\n",
       "      <td>59.0435</td>\n",
       "      <td>10.739832</td>\n",
       "      <td>1562</td>\n",
       "    </tr>\n",
       "    <tr>\n",
       "      <th>4</th>\n",
       "      <td>spring</td>\n",
       "      <td>0</td>\n",
       "      <td>Jan</td>\n",
       "      <td>0</td>\n",
       "      <td>Fri</td>\n",
       "      <td>1</td>\n",
       "      <td>clear</td>\n",
       "      <td>9.305237</td>\n",
       "      <td>11.46350</td>\n",
       "      <td>43.6957</td>\n",
       "      <td>12.522300</td>\n",
       "      <td>1600</td>\n",
       "    </tr>\n",
       "  </tbody>\n",
       "</table>\n",
       "</div>"
      ],
      "text/plain": [
       "   season  yr mnth  holiday weekday  workingday weathersit       temp  \\\n",
       "0  spring   0  Jan        0     Mon           0       mist  14.110847   \n",
       "1  spring   0  Jan        0    Tues           0       mist  14.902598   \n",
       "2  spring   0  Jan        0    Weds           1      clear   8.050924   \n",
       "3  spring   0  Jan        0   Thurs           1      clear   8.200000   \n",
       "4  spring   0  Jan        0     Fri           1      clear   9.305237   \n",
       "\n",
       "      atemp      hum  windspeed   cnt  \n",
       "0  18.18125  80.5833  10.749882   985  \n",
       "1  17.68695  69.6087  16.652113   801  \n",
       "2   9.47025  43.7273  16.636703  1349  \n",
       "3  10.60610  59.0435  10.739832  1562  \n",
       "4  11.46350  43.6957  12.522300  1600  "
      ]
     },
     "execution_count": 15,
     "metadata": {},
     "output_type": "execute_result"
    }
   ],
   "source": [
    "bike_sharing.head(5) # Displays the dataframe after converting few columns to strings type."
   ]
  },
  {
   "cell_type": "code",
   "execution_count": 16,
   "id": "60d7c14d",
   "metadata": {
    "scrolled": true
   },
   "outputs": [
    {
     "data": {
      "text/plain": [
       "(730, 12)"
      ]
     },
     "execution_count": 16,
     "metadata": {},
     "output_type": "execute_result"
    }
   ],
   "source": [
    "bike_sharing.shape # Displays the size of dataframe"
   ]
  },
  {
   "cell_type": "code",
   "execution_count": 17,
   "id": "4208d28c",
   "metadata": {},
   "outputs": [
    {
     "data": {
      "text/plain": [
       "<AxesSubplot:>"
      ]
     },
     "execution_count": 17,
     "metadata": {},
     "output_type": "execute_result"
    },
    {
     "data": {
      "image/png": "[encoded data removed]",
      "text/plain": [
       "<Figure size 1440x1080 with 2 Axes>"
      ]
     },
     "metadata": {
      "needs_background": "light"
     },
     "output_type": "display_data"
    }
   ],
   "source": [
    "# Plotting the correlation plot \n",
    "plt.figure(figsize =(20,15))\n",
    "sns.heatmap(data = bike_sharing.corr(), annot =True)"
   ]
  },
  {
   "cell_type": "code",
   "execution_count": 18,
   "id": "3d5f4016",
   "metadata": {},
   "outputs": [],
   "source": [
    "# Dropping highly correlated columns to avoid multicollinearity\n",
    "bike_sharing = bike_sharing.drop(['atemp'],axis =1) # temp is highly correlated to atemp"
   ]
  },
  {
   "cell_type": "code",
   "execution_count": 19,
   "id": "87032d57",
   "metadata": {},
   "outputs": [
    {
     "data": {
      "text/plain": [
       "Index(['season', 'yr', 'mnth', 'holiday', 'weekday', 'workingday',\n",
       "       'weathersit', 'temp', 'hum', 'windspeed', 'cnt'],\n",
       "      dtype='object')"
      ]
     },
     "execution_count": 19,
     "metadata": {},
     "output_type": "execute_result"
    }
   ],
   "source": [
    "bike_sharing.columns # Displays the names of the column in the dataframe after checking the correlation"
   ]
  },
  {
   "cell_type": "code",
   "execution_count": 20,
   "id": "f02b6dba",
   "metadata": {
    "scrolled": false
   },
   "outputs": [
    {
     "data": {
      "image/png": "[encoded data removed]",
      "text/plain": [
       "<Figure size 1440x864 with 7 Axes>"
      ]
     },
     "metadata": {
      "needs_background": "light"
     },
     "output_type": "display_data"
    }
   ],
   "source": [
    "#visualising categorical variables\n",
    "cat_var=['season', 'yr', 'mnth', 'holiday', 'weekday', 'workingday','weathersit']\n",
    "plt.figure(figsize = (20,12))\n",
    "for i in range(len(cat_var)):\n",
    "    plt.subplot(3,3,i+1)\n",
    "    sns.boxplot(x=cat_var[i], y='cnt',data = bike_sharing)"
   ]
  },
  {
   "cell_type": "code",
   "execution_count": 21,
   "id": "835fa84f",
   "metadata": {},
   "outputs": [],
   "source": [
    "# sub sampling the numerical variables from the main dataframe\n",
    "num_vars = ['temp', 'hum', 'windspeed','cnt']\n",
    "bike_sharing_num = bike_sharing[num_vars]"
   ]
  },
  {
   "cell_type": "code",
   "execution_count": 22,
   "id": "9037077c",
   "metadata": {
    "scrolled": false
   },
   "outputs": [
    {
     "data": {
      "text/plain": [
       "<seaborn.axisgrid.PairGrid at 0x2c0ada44c10>"
      ]
     },
     "execution_count": 22,
     "metadata": {},
     "output_type": "execute_result"
    },
    {
     "data": {
      "text/plain": [
       "<Figure size 720x576 with 0 Axes>"
      ]
     },
     "metadata": {},
     "output_type": "display_data"
    },
    {
     "data": {
      "image/png": "[encoded data removed]",
      "text/plain": [
       "<Figure size 720x720 with 20 Axes>"
      ]
     },
     "metadata": {
      "needs_background": "light"
     },
     "output_type": "display_data"
    }
   ],
   "source": [
    "# visualising the numeric variable\n",
    "plt.figure(figsize = (10,8))\n",
    "sns.pairplot(data=bike_sharing_num)"
   ]
  },
  {
   "cell_type": "markdown",
   "id": "094c9b03",
   "metadata": {},
   "source": [
    "#### Creating dummy variables for categorical columns\n",
    "We don't need four columns for season. We can drop the season_fall column, as this type can be identified with just the last three columns where —\n",
    "\n",
    "    \n",
    "    - 000 will correspond to season_fall\n",
    "    - 100 will correspond to season_spring\n",
    "    - 010 will correspond to season_summer\n",
    "    - 001 will correspond to season_winter\n",
    "\n",
    "Similarly, we can drop weathersit_Light rain - \n",
    "\n",
    "    - 00 will correspond to weathersit_Light rain\n",
    "    - 10 will correspond to weathersit_clear\n",
    "    - 01 will correspond to weathersit_mist \n",
    "    \n",
    "In similar manner, dummy variables are created for month and weekday feature variables."
   ]
  },
  {
   "cell_type": "code",
   "execution_count": 23,
   "id": "5e6d9f88",
   "metadata": {},
   "outputs": [],
   "source": [
    "# Get dummy variable for the categorical variables : 'season' & 'weathersit' and store it in new dataframe 'dummy_vars'\n",
    "cat_var1=['season', 'weathersit','mnth','weekday']\n",
    "dummy_vars = pd.get_dummies(bike_sharing[cat_var1], drop_first = True)"
   ]
  },
  {
   "cell_type": "code",
   "execution_count": 24,
   "id": "e30324ce",
   "metadata": {
    "scrolled": false
   },
   "outputs": [
    {
     "data": {
      "text/html": [
       "<div>\n",
       "<style scoped>\n",
       "    .dataframe tbody tr th:only-of-type {\n",
       "        vertical-align: middle;\n",
       "    }\n",
       "\n",
       "    .dataframe tbody tr th {\n",
       "        vertical-align: top;\n",
       "    }\n",
       "\n",
       "    .dataframe thead th {\n",
       "        text-align: right;\n",
       "    }\n",
       "</style>\n",
       "<table border=\"1\" class=\"dataframe\">\n",
       "  <thead>\n",
       "    <tr style=\"text-align: right;\">\n",
       "      <th></th>\n",
       "      <th>season_spring</th>\n",
       "      <th>season_summer</th>\n",
       "      <th>season_winter</th>\n",
       "      <th>weathersit_clear</th>\n",
       "      <th>weathersit_mist</th>\n",
       "      <th>mnth_Aug</th>\n",
       "      <th>mnth_Dec</th>\n",
       "      <th>mnth_Feb</th>\n",
       "      <th>mnth_Jan</th>\n",
       "      <th>mnth_Jul</th>\n",
       "      <th>...</th>\n",
       "      <th>mnth_May</th>\n",
       "      <th>mnth_Nov</th>\n",
       "      <th>mnth_Oct</th>\n",
       "      <th>mnth_Sep</th>\n",
       "      <th>weekday_Mon</th>\n",
       "      <th>weekday_Sat</th>\n",
       "      <th>weekday_Sun</th>\n",
       "      <th>weekday_Thurs</th>\n",
       "      <th>weekday_Tues</th>\n",
       "      <th>weekday_Weds</th>\n",
       "    </tr>\n",
       "  </thead>\n",
       "  <tbody>\n",
       "    <tr>\n",
       "      <th>0</th>\n",
       "      <td>1</td>\n",
       "      <td>0</td>\n",
       "      <td>0</td>\n",
       "      <td>0</td>\n",
       "      <td>1</td>\n",
       "      <td>0</td>\n",
       "      <td>0</td>\n",
       "      <td>0</td>\n",
       "      <td>1</td>\n",
       "      <td>0</td>\n",
       "      <td>...</td>\n",
       "      <td>0</td>\n",
       "      <td>0</td>\n",
       "      <td>0</td>\n",
       "      <td>0</td>\n",
       "      <td>1</td>\n",
       "      <td>0</td>\n",
       "      <td>0</td>\n",
       "      <td>0</td>\n",
       "      <td>0</td>\n",
       "      <td>0</td>\n",
       "    </tr>\n",
       "    <tr>\n",
       "      <th>1</th>\n",
       "      <td>1</td>\n",
       "      <td>0</td>\n",
       "      <td>0</td>\n",
       "      <td>0</td>\n",
       "      <td>1</td>\n",
       "      <td>0</td>\n",
       "      <td>0</td>\n",
       "      <td>0</td>\n",
       "      <td>1</td>\n",
       "      <td>0</td>\n",
       "      <td>...</td>\n",
       "      <td>0</td>\n",
       "      <td>0</td>\n",
       "      <td>0</td>\n",
       "      <td>0</td>\n",
       "      <td>0</td>\n",
       "      <td>0</td>\n",
       "      <td>0</td>\n",
       "      <td>0</td>\n",
       "      <td>1</td>\n",
       "      <td>0</td>\n",
       "    </tr>\n",
       "    <tr>\n",
       "      <th>2</th>\n",
       "      <td>1</td>\n",
       "      <td>0</td>\n",
       "      <td>0</td>\n",
       "      <td>1</td>\n",
       "      <td>0</td>\n",
       "      <td>0</td>\n",
       "      <td>0</td>\n",
       "      <td>0</td>\n",
       "      <td>1</td>\n",
       "      <td>0</td>\n",
       "      <td>...</td>\n",
       "      <td>0</td>\n",
       "      <td>0</td>\n",
       "      <td>0</td>\n",
       "      <td>0</td>\n",
       "      <td>0</td>\n",
       "      <td>0</td>\n",
       "      <td>0</td>\n",
       "      <td>0</td>\n",
       "      <td>0</td>\n",
       "      <td>1</td>\n",
       "    </tr>\n",
       "    <tr>\n",
       "      <th>3</th>\n",
       "      <td>1</td>\n",
       "      <td>0</td>\n",
       "      <td>0</td>\n",
       "      <td>1</td>\n",
       "      <td>0</td>\n",
       "      <td>0</td>\n",
       "      <td>0</td>\n",
       "      <td>0</td>\n",
       "      <td>1</td>\n",
       "      <td>0</td>\n",
       "      <td>...</td>\n",
       "      <td>0</td>\n",
       "      <td>0</td>\n",
       "      <td>0</td>\n",
       "      <td>0</td>\n",
       "      <td>0</td>\n",
       "      <td>0</td>\n",
       "      <td>0</td>\n",
       "      <td>1</td>\n",
       "      <td>0</td>\n",
       "      <td>0</td>\n",
       "    </tr>\n",
       "    <tr>\n",
       "      <th>4</th>\n",
       "      <td>1</td>\n",
       "      <td>0</td>\n",
       "      <td>0</td>\n",
       "      <td>1</td>\n",
       "      <td>0</td>\n",
       "      <td>0</td>\n",
       "      <td>0</td>\n",
       "      <td>0</td>\n",
       "      <td>1</td>\n",
       "      <td>0</td>\n",
       "      <td>...</td>\n",
       "      <td>0</td>\n",
       "      <td>0</td>\n",
       "      <td>0</td>\n",
       "      <td>0</td>\n",
       "      <td>0</td>\n",
       "      <td>0</td>\n",
       "      <td>0</td>\n",
       "      <td>0</td>\n",
       "      <td>0</td>\n",
       "      <td>0</td>\n",
       "    </tr>\n",
       "  </tbody>\n",
       "</table>\n",
       "<p>5 rows × 22 columns</p>\n",
       "</div>"
      ],
      "text/plain": [
       "   season_spring  season_summer  season_winter  weathersit_clear  \\\n",
       "0              1              0              0                 0   \n",
       "1              1              0              0                 0   \n",
       "2              1              0              0                 1   \n",
       "3              1              0              0                 1   \n",
       "4              1              0              0                 1   \n",
       "\n",
       "   weathersit_mist  mnth_Aug  mnth_Dec  mnth_Feb  mnth_Jan  mnth_Jul  ...  \\\n",
       "0                1         0         0         0         1         0  ...   \n",
       "1                1         0         0         0         1         0  ...   \n",
       "2                0         0         0         0         1         0  ...   \n",
       "3                0         0         0         0         1         0  ...   \n",
       "4                0         0         0         0         1         0  ...   \n",
       "\n",
       "   mnth_May  mnth_Nov  mnth_Oct  mnth_Sep  weekday_Mon  weekday_Sat  \\\n",
       "0         0         0         0         0            1            0   \n",
       "1         0         0         0         0            0            0   \n",
       "2         0         0         0         0            0            0   \n",
       "3         0         0         0         0            0            0   \n",
       "4         0         0         0         0            0            0   \n",
       "\n",
       "   weekday_Sun  weekday_Thurs  weekday_Tues  weekday_Weds  \n",
       "0            0              0             0             0  \n",
       "1            0              0             1             0  \n",
       "2            0              0             0             1  \n",
       "3            0              1             0             0  \n",
       "4            0              0             0             0  \n",
       "\n",
       "[5 rows x 22 columns]"
      ]
     },
     "execution_count": 24,
     "metadata": {},
     "output_type": "execute_result"
    }
   ],
   "source": [
    "dummy_vars.head(5) # Displays the first five rows of dummy variables created for cat_var1 list of categorical variables."
   ]
  },
  {
   "cell_type": "code",
   "execution_count": 25,
   "id": "33a31c7c",
   "metadata": {},
   "outputs": [],
   "source": [
    "# Adding the dummy variable dataframe to original dataframe\n",
    "bike_sharing = pd.concat([bike_sharing,dummy_vars],axis =1) "
   ]
  },
  {
   "cell_type": "code",
   "execution_count": 26,
   "id": "4ffc0c01",
   "metadata": {
    "scrolled": true
   },
   "outputs": [
    {
     "data": {
      "text/plain": [
       "Index(['season', 'yr', 'mnth', 'holiday', 'weekday', 'workingday',\n",
       "       'weathersit', 'temp', 'hum', 'windspeed', 'cnt', 'season_spring',\n",
       "       'season_summer', 'season_winter', 'weathersit_clear', 'weathersit_mist',\n",
       "       'mnth_Aug', 'mnth_Dec', 'mnth_Feb', 'mnth_Jan', 'mnth_Jul', 'mnth_Jun',\n",
       "       'mnth_Mar', 'mnth_May', 'mnth_Nov', 'mnth_Oct', 'mnth_Sep',\n",
       "       'weekday_Mon', 'weekday_Sat', 'weekday_Sun', 'weekday_Thurs',\n",
       "       'weekday_Tues', 'weekday_Weds'],\n",
       "      dtype='object')"
      ]
     },
     "execution_count": 26,
     "metadata": {},
     "output_type": "execute_result"
    }
   ],
   "source": [
    "bike_sharing.columns # Displays the columns names in existing dataframe after converting few categorical variables to dummy variables"
   ]
  },
  {
   "cell_type": "code",
   "execution_count": 27,
   "id": "639fbab3",
   "metadata": {},
   "outputs": [],
   "source": [
    "# Droping existing categorical variables those for which dummies have been created.\n",
    "bike_sharing.drop(cat_var1, axis =1, inplace = True)"
   ]
  },
  {
   "cell_type": "code",
   "execution_count": 28,
   "id": "5d3ceb0a",
   "metadata": {
    "scrolled": false
   },
   "outputs": [
    {
     "data": {
      "text/html": [
       "<div>\n",
       "<style scoped>\n",
       "    .dataframe tbody tr th:only-of-type {\n",
       "        vertical-align: middle;\n",
       "    }\n",
       "\n",
       "    .dataframe tbody tr th {\n",
       "        vertical-align: top;\n",
       "    }\n",
       "\n",
       "    .dataframe thead th {\n",
       "        text-align: right;\n",
       "    }\n",
       "</style>\n",
       "<table border=\"1\" class=\"dataframe\">\n",
       "  <thead>\n",
       "    <tr style=\"text-align: right;\">\n",
       "      <th></th>\n",
       "      <th>yr</th>\n",
       "      <th>holiday</th>\n",
       "      <th>workingday</th>\n",
       "      <th>temp</th>\n",
       "      <th>hum</th>\n",
       "      <th>windspeed</th>\n",
       "      <th>cnt</th>\n",
       "      <th>season_spring</th>\n",
       "      <th>season_summer</th>\n",
       "      <th>season_winter</th>\n",
       "      <th>...</th>\n",
       "      <th>mnth_May</th>\n",
       "      <th>mnth_Nov</th>\n",
       "      <th>mnth_Oct</th>\n",
       "      <th>mnth_Sep</th>\n",
       "      <th>weekday_Mon</th>\n",
       "      <th>weekday_Sat</th>\n",
       "      <th>weekday_Sun</th>\n",
       "      <th>weekday_Thurs</th>\n",
       "      <th>weekday_Tues</th>\n",
       "      <th>weekday_Weds</th>\n",
       "    </tr>\n",
       "  </thead>\n",
       "  <tbody>\n",
       "    <tr>\n",
       "      <th>0</th>\n",
       "      <td>0</td>\n",
       "      <td>0</td>\n",
       "      <td>0</td>\n",
       "      <td>14.110847</td>\n",
       "      <td>80.5833</td>\n",
       "      <td>10.749882</td>\n",
       "      <td>985</td>\n",
       "      <td>1</td>\n",
       "      <td>0</td>\n",
       "      <td>0</td>\n",
       "      <td>...</td>\n",
       "      <td>0</td>\n",
       "      <td>0</td>\n",
       "      <td>0</td>\n",
       "      <td>0</td>\n",
       "      <td>1</td>\n",
       "      <td>0</td>\n",
       "      <td>0</td>\n",
       "      <td>0</td>\n",
       "      <td>0</td>\n",
       "      <td>0</td>\n",
       "    </tr>\n",
       "    <tr>\n",
       "      <th>1</th>\n",
       "      <td>0</td>\n",
       "      <td>0</td>\n",
       "      <td>0</td>\n",
       "      <td>14.902598</td>\n",
       "      <td>69.6087</td>\n",
       "      <td>16.652113</td>\n",
       "      <td>801</td>\n",
       "      <td>1</td>\n",
       "      <td>0</td>\n",
       "      <td>0</td>\n",
       "      <td>...</td>\n",
       "      <td>0</td>\n",
       "      <td>0</td>\n",
       "      <td>0</td>\n",
       "      <td>0</td>\n",
       "      <td>0</td>\n",
       "      <td>0</td>\n",
       "      <td>0</td>\n",
       "      <td>0</td>\n",
       "      <td>1</td>\n",
       "      <td>0</td>\n",
       "    </tr>\n",
       "    <tr>\n",
       "      <th>2</th>\n",
       "      <td>0</td>\n",
       "      <td>0</td>\n",
       "      <td>1</td>\n",
       "      <td>8.050924</td>\n",
       "      <td>43.7273</td>\n",
       "      <td>16.636703</td>\n",
       "      <td>1349</td>\n",
       "      <td>1</td>\n",
       "      <td>0</td>\n",
       "      <td>0</td>\n",
       "      <td>...</td>\n",
       "      <td>0</td>\n",
       "      <td>0</td>\n",
       "      <td>0</td>\n",
       "      <td>0</td>\n",
       "      <td>0</td>\n",
       "      <td>0</td>\n",
       "      <td>0</td>\n",
       "      <td>0</td>\n",
       "      <td>0</td>\n",
       "      <td>1</td>\n",
       "    </tr>\n",
       "    <tr>\n",
       "      <th>3</th>\n",
       "      <td>0</td>\n",
       "      <td>0</td>\n",
       "      <td>1</td>\n",
       "      <td>8.200000</td>\n",
       "      <td>59.0435</td>\n",
       "      <td>10.739832</td>\n",
       "      <td>1562</td>\n",
       "      <td>1</td>\n",
       "      <td>0</td>\n",
       "      <td>0</td>\n",
       "      <td>...</td>\n",
       "      <td>0</td>\n",
       "      <td>0</td>\n",
       "      <td>0</td>\n",
       "      <td>0</td>\n",
       "      <td>0</td>\n",
       "      <td>0</td>\n",
       "      <td>0</td>\n",
       "      <td>1</td>\n",
       "      <td>0</td>\n",
       "      <td>0</td>\n",
       "    </tr>\n",
       "    <tr>\n",
       "      <th>4</th>\n",
       "      <td>0</td>\n",
       "      <td>0</td>\n",
       "      <td>1</td>\n",
       "      <td>9.305237</td>\n",
       "      <td>43.6957</td>\n",
       "      <td>12.522300</td>\n",
       "      <td>1600</td>\n",
       "      <td>1</td>\n",
       "      <td>0</td>\n",
       "      <td>0</td>\n",
       "      <td>...</td>\n",
       "      <td>0</td>\n",
       "      <td>0</td>\n",
       "      <td>0</td>\n",
       "      <td>0</td>\n",
       "      <td>0</td>\n",
       "      <td>0</td>\n",
       "      <td>0</td>\n",
       "      <td>0</td>\n",
       "      <td>0</td>\n",
       "      <td>0</td>\n",
       "    </tr>\n",
       "  </tbody>\n",
       "</table>\n",
       "<p>5 rows × 29 columns</p>\n",
       "</div>"
      ],
      "text/plain": [
       "   yr  holiday  workingday       temp      hum  windspeed   cnt  \\\n",
       "0   0        0           0  14.110847  80.5833  10.749882   985   \n",
       "1   0        0           0  14.902598  69.6087  16.652113   801   \n",
       "2   0        0           1   8.050924  43.7273  16.636703  1349   \n",
       "3   0        0           1   8.200000  59.0435  10.739832  1562   \n",
       "4   0        0           1   9.305237  43.6957  12.522300  1600   \n",
       "\n",
       "   season_spring  season_summer  season_winter  ...  mnth_May  mnth_Nov  \\\n",
       "0              1              0              0  ...         0         0   \n",
       "1              1              0              0  ...         0         0   \n",
       "2              1              0              0  ...         0         0   \n",
       "3              1              0              0  ...         0         0   \n",
       "4              1              0              0  ...         0         0   \n",
       "\n",
       "   mnth_Oct  mnth_Sep  weekday_Mon  weekday_Sat  weekday_Sun  weekday_Thurs  \\\n",
       "0         0         0            1            0            0              0   \n",
       "1         0         0            0            0            0              0   \n",
       "2         0         0            0            0            0              0   \n",
       "3         0         0            0            0            0              1   \n",
       "4         0         0            0            0            0              0   \n",
       "\n",
       "   weekday_Tues  weekday_Weds  \n",
       "0             0             0  \n",
       "1             1             0  \n",
       "2             0             1  \n",
       "3             0             0  \n",
       "4             0             0  \n",
       "\n",
       "[5 rows x 29 columns]"
      ]
     },
     "execution_count": 28,
     "metadata": {},
     "output_type": "execute_result"
    }
   ],
   "source": [
    "bike_sharing.head()"
   ]
  },
  {
   "cell_type": "code",
   "execution_count": 29,
   "id": "c9068042",
   "metadata": {},
   "outputs": [
    {
     "data": {
      "text/plain": [
       "(730, 29)"
      ]
     },
     "execution_count": 29,
     "metadata": {},
     "output_type": "execute_result"
    }
   ],
   "source": [
    "bike_sharing.shape # Total rows in dataframe before splitting 70%-30% as train set and test set"
   ]
  },
  {
   "cell_type": "markdown",
   "id": "f384ddca",
   "metadata": {},
   "source": [
    "#### Splitting the data into training and testing sets (70% - 30%)"
   ]
  },
  {
   "cell_type": "code",
   "execution_count": 30,
   "id": "817203e8",
   "metadata": {},
   "outputs": [],
   "source": [
    "bike_train, bike_test = train_test_split(bike_sharing, train_size= 0.7, test_size = 0.3, random_state = 100)"
   ]
  },
  {
   "cell_type": "code",
   "execution_count": 31,
   "id": "ca587648",
   "metadata": {},
   "outputs": [
    {
     "data": {
      "text/plain": [
       "((510, 29), (219, 29))"
      ]
     },
     "execution_count": 31,
     "metadata": {},
     "output_type": "execute_result"
    }
   ],
   "source": [
    "bike_train.shape, bike_test.shape"
   ]
  },
  {
   "cell_type": "markdown",
   "id": "836dbb68",
   "metadata": {},
   "source": [
    "#### Feature scaling - Min Max scaling"
   ]
  },
  {
   "cell_type": "code",
   "execution_count": 32,
   "id": "077b8dc5",
   "metadata": {},
   "outputs": [],
   "source": [
    "scaler = MinMaxScaler()"
   ]
  },
  {
   "cell_type": "code",
   "execution_count": 33,
   "id": "1a5ccc58",
   "metadata": {},
   "outputs": [
    {
     "data": {
      "text/html": [
       "<div>\n",
       "<style scoped>\n",
       "    .dataframe tbody tr th:only-of-type {\n",
       "        vertical-align: middle;\n",
       "    }\n",
       "\n",
       "    .dataframe tbody tr th {\n",
       "        vertical-align: top;\n",
       "    }\n",
       "\n",
       "    .dataframe thead th {\n",
       "        text-align: right;\n",
       "    }\n",
       "</style>\n",
       "<table border=\"1\" class=\"dataframe\">\n",
       "  <thead>\n",
       "    <tr style=\"text-align: right;\">\n",
       "      <th></th>\n",
       "      <th>yr</th>\n",
       "      <th>holiday</th>\n",
       "      <th>workingday</th>\n",
       "      <th>temp</th>\n",
       "      <th>hum</th>\n",
       "      <th>windspeed</th>\n",
       "      <th>cnt</th>\n",
       "      <th>season_spring</th>\n",
       "      <th>season_summer</th>\n",
       "      <th>season_winter</th>\n",
       "      <th>...</th>\n",
       "      <th>mnth_May</th>\n",
       "      <th>mnth_Nov</th>\n",
       "      <th>mnth_Oct</th>\n",
       "      <th>mnth_Sep</th>\n",
       "      <th>weekday_Mon</th>\n",
       "      <th>weekday_Sat</th>\n",
       "      <th>weekday_Sun</th>\n",
       "      <th>weekday_Thurs</th>\n",
       "      <th>weekday_Tues</th>\n",
       "      <th>weekday_Weds</th>\n",
       "    </tr>\n",
       "  </thead>\n",
       "  <tbody>\n",
       "    <tr>\n",
       "      <th>653</th>\n",
       "      <td>1</td>\n",
       "      <td>0</td>\n",
       "      <td>1</td>\n",
       "      <td>0.509887</td>\n",
       "      <td>0.575354</td>\n",
       "      <td>0.300794</td>\n",
       "      <td>7534</td>\n",
       "      <td>0</td>\n",
       "      <td>0</td>\n",
       "      <td>1</td>\n",
       "      <td>...</td>\n",
       "      <td>0</td>\n",
       "      <td>0</td>\n",
       "      <td>1</td>\n",
       "      <td>0</td>\n",
       "      <td>0</td>\n",
       "      <td>0</td>\n",
       "      <td>0</td>\n",
       "      <td>1</td>\n",
       "      <td>0</td>\n",
       "      <td>0</td>\n",
       "    </tr>\n",
       "    <tr>\n",
       "      <th>576</th>\n",
       "      <td>1</td>\n",
       "      <td>0</td>\n",
       "      <td>1</td>\n",
       "      <td>0.815169</td>\n",
       "      <td>0.725633</td>\n",
       "      <td>0.264686</td>\n",
       "      <td>7216</td>\n",
       "      <td>0</td>\n",
       "      <td>0</td>\n",
       "      <td>0</td>\n",
       "      <td>...</td>\n",
       "      <td>0</td>\n",
       "      <td>0</td>\n",
       "      <td>0</td>\n",
       "      <td>0</td>\n",
       "      <td>0</td>\n",
       "      <td>0</td>\n",
       "      <td>0</td>\n",
       "      <td>1</td>\n",
       "      <td>0</td>\n",
       "      <td>0</td>\n",
       "    </tr>\n",
       "    <tr>\n",
       "      <th>426</th>\n",
       "      <td>1</td>\n",
       "      <td>0</td>\n",
       "      <td>0</td>\n",
       "      <td>0.442393</td>\n",
       "      <td>0.640189</td>\n",
       "      <td>0.255342</td>\n",
       "      <td>4066</td>\n",
       "      <td>1</td>\n",
       "      <td>0</td>\n",
       "      <td>0</td>\n",
       "      <td>...</td>\n",
       "      <td>0</td>\n",
       "      <td>0</td>\n",
       "      <td>0</td>\n",
       "      <td>0</td>\n",
       "      <td>1</td>\n",
       "      <td>0</td>\n",
       "      <td>0</td>\n",
       "      <td>0</td>\n",
       "      <td>0</td>\n",
       "      <td>0</td>\n",
       "    </tr>\n",
       "    <tr>\n",
       "      <th>728</th>\n",
       "      <td>1</td>\n",
       "      <td>0</td>\n",
       "      <td>0</td>\n",
       "      <td>0.245101</td>\n",
       "      <td>0.498067</td>\n",
       "      <td>0.663106</td>\n",
       "      <td>1796</td>\n",
       "      <td>1</td>\n",
       "      <td>0</td>\n",
       "      <td>0</td>\n",
       "      <td>...</td>\n",
       "      <td>0</td>\n",
       "      <td>0</td>\n",
       "      <td>0</td>\n",
       "      <td>0</td>\n",
       "      <td>0</td>\n",
       "      <td>0</td>\n",
       "      <td>0</td>\n",
       "      <td>0</td>\n",
       "      <td>1</td>\n",
       "      <td>0</td>\n",
       "    </tr>\n",
       "    <tr>\n",
       "      <th>482</th>\n",
       "      <td>1</td>\n",
       "      <td>0</td>\n",
       "      <td>0</td>\n",
       "      <td>0.395666</td>\n",
       "      <td>0.504508</td>\n",
       "      <td>0.188475</td>\n",
       "      <td>4220</td>\n",
       "      <td>0</td>\n",
       "      <td>1</td>\n",
       "      <td>0</td>\n",
       "      <td>...</td>\n",
       "      <td>0</td>\n",
       "      <td>0</td>\n",
       "      <td>0</td>\n",
       "      <td>0</td>\n",
       "      <td>1</td>\n",
       "      <td>0</td>\n",
       "      <td>0</td>\n",
       "      <td>0</td>\n",
       "      <td>0</td>\n",
       "      <td>0</td>\n",
       "    </tr>\n",
       "  </tbody>\n",
       "</table>\n",
       "<p>5 rows × 29 columns</p>\n",
       "</div>"
      ],
      "text/plain": [
       "     yr  holiday  workingday      temp       hum  windspeed   cnt  \\\n",
       "653   1        0           1  0.509887  0.575354   0.300794  7534   \n",
       "576   1        0           1  0.815169  0.725633   0.264686  7216   \n",
       "426   1        0           0  0.442393  0.640189   0.255342  4066   \n",
       "728   1        0           0  0.245101  0.498067   0.663106  1796   \n",
       "482   1        0           0  0.395666  0.504508   0.188475  4220   \n",
       "\n",
       "     season_spring  season_summer  season_winter  ...  mnth_May  mnth_Nov  \\\n",
       "653              0              0              1  ...         0         0   \n",
       "576              0              0              0  ...         0         0   \n",
       "426              1              0              0  ...         0         0   \n",
       "728              1              0              0  ...         0         0   \n",
       "482              0              1              0  ...         0         0   \n",
       "\n",
       "     mnth_Oct  mnth_Sep  weekday_Mon  weekday_Sat  weekday_Sun  weekday_Thurs  \\\n",
       "653         1         0            0            0            0              1   \n",
       "576         0         0            0            0            0              1   \n",
       "426         0         0            1            0            0              0   \n",
       "728         0         0            0            0            0              0   \n",
       "482         0         0            1            0            0              0   \n",
       "\n",
       "     weekday_Tues  weekday_Weds  \n",
       "653             0             0  \n",
       "576             0             0  \n",
       "426             0             0  \n",
       "728             1             0  \n",
       "482             0             0  \n",
       "\n",
       "[5 rows x 29 columns]"
      ]
     },
     "execution_count": 33,
     "metadata": {},
     "output_type": "execute_result"
    }
   ],
   "source": [
    "# Applying scalar to only continuous variables except the target variables\n",
    "num_vars = ['temp', 'hum', 'windspeed']\n",
    "bike_train[num_vars]=scaler.fit_transform(bike_train[num_vars])\n",
    "bike_train.head()"
   ]
  },
  {
   "cell_type": "markdown",
   "id": "7e005529",
   "metadata": {},
   "source": [
    "### Model building\n",
    "Dividing train set to X and Y sets."
   ]
  },
  {
   "cell_type": "code",
   "execution_count": 34,
   "id": "195b0070",
   "metadata": {},
   "outputs": [],
   "source": [
    "y_train = bike_train.pop('cnt')\n",
    "X_train = bike_train"
   ]
  },
  {
   "cell_type": "code",
   "execution_count": 35,
   "id": "43c0fe2d",
   "metadata": {
    "scrolled": true
   },
   "outputs": [
    {
     "data": {
      "text/plain": [
       "(510,)"
      ]
     },
     "execution_count": 35,
     "metadata": {},
     "output_type": "execute_result"
    }
   ],
   "source": [
    "X_train.head() # Independent variables \n",
    "y_train.shape  # Dependent or target variable"
   ]
  },
  {
   "cell_type": "markdown",
   "id": "618f2257",
   "metadata": {},
   "source": [
    "#### Feature Selection - Balanced/Mixed approach \n",
    "1.Recursive feature elimination (RFE)\n",
    "2.Manual feature selection"
   ]
  },
  {
   "cell_type": "code",
   "execution_count": 36,
   "id": "a9ff985d",
   "metadata": {},
   "outputs": [
    {
     "data": {
      "text/plain": [
       "LinearRegression()"
      ]
     },
     "execution_count": 36,
     "metadata": {},
     "output_type": "execute_result"
    }
   ],
   "source": [
    "# Executing RFE with the output number of the variable equal to 15\n",
    "lm = LinearRegression()\n",
    "lm.fit(X_train, y_train)"
   ]
  },
  {
   "cell_type": "code",
   "execution_count": 37,
   "id": "67f982a5",
   "metadata": {},
   "outputs": [],
   "source": [
    "# Running RFE\n",
    "rfe = RFE(lm,15)\n",
    "rfe = rfe.fit(X_train, y_train)"
   ]
  },
  {
   "cell_type": "code",
   "execution_count": 38,
   "id": "37ba6bfb",
   "metadata": {},
   "outputs": [
    {
     "data": {
      "text/plain": [
       "[('yr', True, 1),\n",
       " ('holiday', True, 1),\n",
       " ('workingday', True, 1),\n",
       " ('temp', True, 1),\n",
       " ('hum', True, 1),\n",
       " ('windspeed', True, 1),\n",
       " ('season_spring', True, 1),\n",
       " ('season_summer', True, 1),\n",
       " ('season_winter', True, 1),\n",
       " ('weathersit_clear', True, 1),\n",
       " ('weathersit_mist', True, 1),\n",
       " ('mnth_Aug', False, 6),\n",
       " ('mnth_Dec', False, 3),\n",
       " ('mnth_Feb', False, 4),\n",
       " ('mnth_Jan', True, 1),\n",
       " ('mnth_Jul', True, 1),\n",
       " ('mnth_Jun', False, 13),\n",
       " ('mnth_Mar', False, 14),\n",
       " ('mnth_May', False, 5),\n",
       " ('mnth_Nov', False, 2),\n",
       " ('mnth_Oct', False, 10),\n",
       " ('mnth_Sep', True, 1),\n",
       " ('weekday_Mon', True, 1),\n",
       " ('weekday_Sat', False, 12),\n",
       " ('weekday_Sun', False, 11),\n",
       " ('weekday_Thurs', False, 9),\n",
       " ('weekday_Tues', False, 7),\n",
       " ('weekday_Weds', False, 8)]"
      ]
     },
     "execution_count": 38,
     "metadata": {},
     "output_type": "execute_result"
    }
   ],
   "source": [
    "list(zip(X_train.columns,rfe.support_,rfe.ranking_))"
   ]
  },
  {
   "cell_type": "code",
   "execution_count": 39,
   "id": "cce2d7d3",
   "metadata": {},
   "outputs": [
    {
     "data": {
      "text/plain": [
       "Index(['yr', 'holiday', 'workingday', 'temp', 'hum', 'windspeed',\n",
       "       'season_spring', 'season_summer', 'season_winter', 'weathersit_clear',\n",
       "       'weathersit_mist', 'mnth_Jan', 'mnth_Jul', 'mnth_Sep', 'weekday_Mon'],\n",
       "      dtype='object')"
      ]
     },
     "execution_count": 39,
     "metadata": {},
     "output_type": "execute_result"
    }
   ],
   "source": [
    "col = X_train.columns[rfe.support_] # Top 15 Columns selected by recursive feature selection \n",
    "col"
   ]
  },
  {
   "cell_type": "code",
   "execution_count": 40,
   "id": "ef0dbcad",
   "metadata": {},
   "outputs": [
    {
     "data": {
      "text/plain": [
       "Index(['mnth_Aug', 'mnth_Dec', 'mnth_Feb', 'mnth_Jun', 'mnth_Mar', 'mnth_May',\n",
       "       'mnth_Nov', 'mnth_Oct', 'weekday_Sat', 'weekday_Sun', 'weekday_Thurs',\n",
       "       'weekday_Tues', 'weekday_Weds'],\n",
       "      dtype='object')"
      ]
     },
     "execution_count": 40,
     "metadata": {},
     "output_type": "execute_result"
    }
   ],
   "source": [
    "X_train.columns[~rfe.support_] # Columns having rfe ranking other than 1"
   ]
  },
  {
   "cell_type": "markdown",
   "id": "3e66ba4d",
   "metadata": {},
   "source": [
    "#### Building model using statsmodel, for statistical details"
   ]
  },
  {
   "cell_type": "code",
   "execution_count": 41,
   "id": "b7e5d262",
   "metadata": {},
   "outputs": [],
   "source": [
    "# Creating X_train dataframe with RFE selected variables\n",
    "X_train_rfe = X_train[col]"
   ]
  },
  {
   "cell_type": "code",
   "execution_count": 42,
   "id": "81bdf060",
   "metadata": {
    "scrolled": true
   },
   "outputs": [
    {
     "data": {
      "text/html": [
       "<div>\n",
       "<style scoped>\n",
       "    .dataframe tbody tr th:only-of-type {\n",
       "        vertical-align: middle;\n",
       "    }\n",
       "\n",
       "    .dataframe tbody tr th {\n",
       "        vertical-align: top;\n",
       "    }\n",
       "\n",
       "    .dataframe thead th {\n",
       "        text-align: right;\n",
       "    }\n",
       "</style>\n",
       "<table border=\"1\" class=\"dataframe\">\n",
       "  <thead>\n",
       "    <tr style=\"text-align: right;\">\n",
       "      <th></th>\n",
       "      <th>yr</th>\n",
       "      <th>holiday</th>\n",
       "      <th>workingday</th>\n",
       "      <th>temp</th>\n",
       "      <th>hum</th>\n",
       "      <th>windspeed</th>\n",
       "      <th>season_spring</th>\n",
       "      <th>season_summer</th>\n",
       "      <th>season_winter</th>\n",
       "      <th>weathersit_clear</th>\n",
       "      <th>weathersit_mist</th>\n",
       "      <th>mnth_Jan</th>\n",
       "      <th>mnth_Jul</th>\n",
       "      <th>mnth_Sep</th>\n",
       "      <th>weekday_Mon</th>\n",
       "    </tr>\n",
       "  </thead>\n",
       "  <tbody>\n",
       "    <tr>\n",
       "      <th>653</th>\n",
       "      <td>1</td>\n",
       "      <td>0</td>\n",
       "      <td>1</td>\n",
       "      <td>0.509887</td>\n",
       "      <td>0.575354</td>\n",
       "      <td>0.300794</td>\n",
       "      <td>0</td>\n",
       "      <td>0</td>\n",
       "      <td>1</td>\n",
       "      <td>1</td>\n",
       "      <td>0</td>\n",
       "      <td>0</td>\n",
       "      <td>0</td>\n",
       "      <td>0</td>\n",
       "      <td>0</td>\n",
       "    </tr>\n",
       "    <tr>\n",
       "      <th>576</th>\n",
       "      <td>1</td>\n",
       "      <td>0</td>\n",
       "      <td>1</td>\n",
       "      <td>0.815169</td>\n",
       "      <td>0.725633</td>\n",
       "      <td>0.264686</td>\n",
       "      <td>0</td>\n",
       "      <td>0</td>\n",
       "      <td>0</td>\n",
       "      <td>1</td>\n",
       "      <td>0</td>\n",
       "      <td>0</td>\n",
       "      <td>1</td>\n",
       "      <td>0</td>\n",
       "      <td>0</td>\n",
       "    </tr>\n",
       "    <tr>\n",
       "      <th>426</th>\n",
       "      <td>1</td>\n",
       "      <td>0</td>\n",
       "      <td>0</td>\n",
       "      <td>0.442393</td>\n",
       "      <td>0.640189</td>\n",
       "      <td>0.255342</td>\n",
       "      <td>1</td>\n",
       "      <td>0</td>\n",
       "      <td>0</td>\n",
       "      <td>0</td>\n",
       "      <td>1</td>\n",
       "      <td>0</td>\n",
       "      <td>0</td>\n",
       "      <td>0</td>\n",
       "      <td>1</td>\n",
       "    </tr>\n",
       "    <tr>\n",
       "      <th>728</th>\n",
       "      <td>1</td>\n",
       "      <td>0</td>\n",
       "      <td>0</td>\n",
       "      <td>0.245101</td>\n",
       "      <td>0.498067</td>\n",
       "      <td>0.663106</td>\n",
       "      <td>1</td>\n",
       "      <td>0</td>\n",
       "      <td>0</td>\n",
       "      <td>1</td>\n",
       "      <td>0</td>\n",
       "      <td>0</td>\n",
       "      <td>0</td>\n",
       "      <td>0</td>\n",
       "      <td>0</td>\n",
       "    </tr>\n",
       "    <tr>\n",
       "      <th>482</th>\n",
       "      <td>1</td>\n",
       "      <td>0</td>\n",
       "      <td>0</td>\n",
       "      <td>0.395666</td>\n",
       "      <td>0.504508</td>\n",
       "      <td>0.188475</td>\n",
       "      <td>0</td>\n",
       "      <td>1</td>\n",
       "      <td>0</td>\n",
       "      <td>0</td>\n",
       "      <td>1</td>\n",
       "      <td>0</td>\n",
       "      <td>0</td>\n",
       "      <td>0</td>\n",
       "      <td>1</td>\n",
       "    </tr>\n",
       "  </tbody>\n",
       "</table>\n",
       "</div>"
      ],
      "text/plain": [
       "     yr  holiday  workingday      temp       hum  windspeed  season_spring  \\\n",
       "653   1        0           1  0.509887  0.575354   0.300794              0   \n",
       "576   1        0           1  0.815169  0.725633   0.264686              0   \n",
       "426   1        0           0  0.442393  0.640189   0.255342              1   \n",
       "728   1        0           0  0.245101  0.498067   0.663106              1   \n",
       "482   1        0           0  0.395666  0.504508   0.188475              0   \n",
       "\n",
       "     season_summer  season_winter  weathersit_clear  weathersit_mist  \\\n",
       "653              0              1                 1                0   \n",
       "576              0              0                 1                0   \n",
       "426              0              0                 0                1   \n",
       "728              0              0                 1                0   \n",
       "482              1              0                 0                1   \n",
       "\n",
       "     mnth_Jan  mnth_Jul  mnth_Sep  weekday_Mon  \n",
       "653         0         0         0            0  \n",
       "576         0         1         0            0  \n",
       "426         0         0         0            1  \n",
       "728         0         0         0            0  \n",
       "482         0         0         0            1  "
      ]
     },
     "execution_count": 42,
     "metadata": {},
     "output_type": "execute_result"
    }
   ],
   "source": [
    "X_train_rfe.head() # X variables of training data"
   ]
  },
  {
   "cell_type": "code",
   "execution_count": 43,
   "id": "0886aca2",
   "metadata": {},
   "outputs": [],
   "source": [
    "X_train_sm = sm.add_constant(X_train_rfe) # Adding constant column to the independent variable train set (const = 1)"
   ]
  },
  {
   "cell_type": "code",
   "execution_count": 44,
   "id": "e518dc6e",
   "metadata": {},
   "outputs": [
    {
     "data": {
      "text/plain": [
       "(510, 16)"
      ]
     },
     "execution_count": 44,
     "metadata": {},
     "output_type": "execute_result"
    }
   ],
   "source": [
    "X_train_sm.shape # X train data set size after adding constant "
   ]
  },
  {
   "cell_type": "code",
   "execution_count": 45,
   "id": "8f04f4f6",
   "metadata": {},
   "outputs": [],
   "source": [
    "# fitting the linear regression model on RFE selected variables\n",
    "lm = sm.OLS(y_train, X_train_sm).fit()"
   ]
  },
  {
   "cell_type": "code",
   "execution_count": 46,
   "id": "d70b0a01",
   "metadata": {
    "scrolled": false
   },
   "outputs": [
    {
     "name": "stdout",
     "output_type": "stream",
     "text": [
      "                            OLS Regression Results                            \n",
      "==============================================================================\n",
      "Dep. Variable:                    cnt   R-squared:                       0.849\n",
      "Model:                            OLS   Adj. R-squared:                  0.844\n",
      "Method:                 Least Squares   F-statistic:                     184.6\n",
      "Date:                Wed, 03 Nov 2021   Prob (F-statistic):          2.31e-191\n",
      "Time:                        17:37:49   Log-Likelihood:                -4105.9\n",
      "No. Observations:                 510   AIC:                             8244.\n",
      "Df Residuals:                     494   BIC:                             8312.\n",
      "Df Model:                          15                                         \n",
      "Covariance Type:            nonrobust                                         \n",
      "====================================================================================\n",
      "                       coef    std err          t      P>|t|      [0.025      0.975]\n",
      "------------------------------------------------------------------------------------\n",
      "const               41.6828    420.055      0.099      0.921    -783.632     866.998\n",
      "yr                2003.5240     69.550     28.807      0.000    1866.873    2140.175\n",
      "holiday           -508.7381    233.568     -2.178      0.030    -967.646     -49.830\n",
      "workingday         378.2822    100.057      3.781      0.000     181.693     574.872\n",
      "temp              4431.4973    298.389     14.851      0.000    3845.228    5017.766\n",
      "hum              -1344.7934    324.457     -4.145      0.000   -1982.280    -707.307\n",
      "windspeed        -1616.3289    221.379     -7.301      0.000   -2051.289   -1181.369\n",
      "season_spring     -441.6037    179.462     -2.461      0.014    -794.207     -89.001\n",
      "season_summer      431.6424    129.004      3.346      0.001     178.177     685.107\n",
      "season_winter      820.7507    149.808      5.479      0.000     526.411    1115.090\n",
      "weathersit_clear  2162.3728    226.178      9.560      0.000    1717.983    2606.763\n",
      "weathersit_mist   1659.7664    214.150      7.750      0.000    1239.010    2080.523\n",
      "mnth_Jan          -298.3585    150.718     -1.980      0.048    -594.486      -2.231\n",
      "mnth_Jul          -462.3542    156.871     -2.947      0.003    -770.570    -154.138\n",
      "mnth_Sep           705.6663    143.010      4.934      0.000     424.684     986.648\n",
      "weekday_Mon        466.9445    125.957      3.707      0.000     219.467     714.422\n",
      "==============================================================================\n",
      "Omnibus:                       66.344   Durbin-Watson:                   2.071\n",
      "Prob(Omnibus):                  0.000   Jarque-Bera (JB):              161.565\n",
      "Skew:                          -0.676   Prob(JB):                     8.25e-36\n",
      "Kurtosis:                       5.403   Cond. No.                         28.6\n",
      "==============================================================================\n",
      "\n",
      "Notes:\n",
      "[1] Standard Errors assume that the covariance matrix of the errors is correctly specified.\n"
     ]
    }
   ],
   "source": [
    "# Printing the summary of the linear model\n",
    "print(lm.summary())"
   ]
  },
  {
   "cell_type": "markdown",
   "id": "be22b4e5",
   "metadata": {},
   "source": [
    "##### The above summary shows all the variables are significant. Lets check for variance inflation factor (VIF) ."
   ]
  },
  {
   "cell_type": "code",
   "execution_count": 71,
   "id": "404a1588",
   "metadata": {},
   "outputs": [],
   "source": [
    "# Checking VIF for the RFE selected variables"
   ]
  },
  {
   "cell_type": "code",
   "execution_count": 47,
   "id": "5bd29c23",
   "metadata": {
    "scrolled": true
   },
   "outputs": [
    {
     "name": "stdout",
     "output_type": "stream",
     "text": [
      "            Features    VIF\n",
      "4                hum  25.64\n",
      "3               temp  22.83\n",
      "9   weathersit_clear  14.85\n",
      "10   weathersit_mist   9.02\n",
      "6      season_spring   5.69\n",
      "2         workingday   5.42\n",
      "5          windspeed   4.68\n",
      "8      season_winter   4.14\n",
      "7      season_summer   3.20\n",
      "0                 yr   2.10\n",
      "14       weekday_Mon   2.00\n",
      "11          mnth_Jan   1.70\n",
      "12          mnth_Jul   1.59\n",
      "13          mnth_Sep   1.40\n",
      "1            holiday   1.19\n"
     ]
    }
   ],
   "source": [
    "X_train_new = X_train_sm.drop(['const'], axis =1) # eliminating constant column for estimating VIF\n",
    "# Caculate the VIFs for the model\n",
    "vif = pd.DataFrame() # creating a new dataframe to store vif values for all independent variables\n",
    "X = X_train_new # Storing train dataset of independent variables without const in new dataframe 'X'\n",
    "vif['Features']=X.columns # creating column 'Feature' in vif data frame to store the independent variable names\n",
    "vif['VIF']=[variance_inflation_factor(X.values, i) for i in range(X.shape[1])]# creating column named 'VIF' which will store the VIF values of each independent variables\n",
    "vif['VIF']= round(vif['VIF'],2)# Rounding off the VIF values to 2 demical places.\n",
    "vif = vif.sort_values(by='VIF', ascending = False) # sorting the vif dataframe on basis of VIF values in descending order\n",
    "print(vif) # print the vif dataframe"
   ]
  },
  {
   "cell_type": "markdown",
   "id": "c7787220",
   "metadata": {},
   "source": [
    "##### Above result shows very high VIF value (VIF >10) for few variables, thus lets try removing them one by one."
   ]
  },
  {
   "cell_type": "code",
   "execution_count": 48,
   "id": "c463efba",
   "metadata": {},
   "outputs": [],
   "source": [
    "# Dropping 'hum' as VIF is very high\n",
    "X_train_new = X_train_new.drop(['hum'], axis =1)"
   ]
  },
  {
   "cell_type": "code",
   "execution_count": 49,
   "id": "3a344289",
   "metadata": {},
   "outputs": [
    {
     "data": {
      "text/plain": [
       "(510, 14)"
      ]
     },
     "execution_count": 49,
     "metadata": {},
     "output_type": "execute_result"
    }
   ],
   "source": [
    "X_train_new.shape # train data set after dropping 'hum' variable"
   ]
  },
  {
   "cell_type": "code",
   "execution_count": 50,
   "id": "2ff6e603",
   "metadata": {},
   "outputs": [],
   "source": [
    "# Rebuilding the model without 'hum' variable and repeating the model building sequence\n",
    "X_train_sm = sm.add_constant(X_train_new) "
   ]
  },
  {
   "cell_type": "code",
   "execution_count": 51,
   "id": "9c27c524",
   "metadata": {},
   "outputs": [
    {
     "data": {
      "text/plain": [
       "(510, 15)"
      ]
     },
     "execution_count": 51,
     "metadata": {},
     "output_type": "execute_result"
    }
   ],
   "source": [
    "X_train_sm.shape # after adding const "
   ]
  },
  {
   "cell_type": "code",
   "execution_count": 52,
   "id": "c876b654",
   "metadata": {},
   "outputs": [],
   "source": [
    "lm = sm.OLS(y_train, X_train_sm).fit()"
   ]
  },
  {
   "cell_type": "code",
   "execution_count": 53,
   "id": "cd0b7e0a",
   "metadata": {
    "scrolled": true
   },
   "outputs": [
    {
     "name": "stdout",
     "output_type": "stream",
     "text": [
      "                            OLS Regression Results                            \n",
      "==============================================================================\n",
      "Dep. Variable:                    cnt   R-squared:                       0.843\n",
      "Model:                            OLS   Adj. R-squared:                  0.839\n",
      "Method:                 Least Squares   F-statistic:                     190.3\n",
      "Date:                Wed, 03 Nov 2021   Prob (F-statistic):          7.33e-189\n",
      "Time:                        17:37:49   Log-Likelihood:                -4114.6\n",
      "No. Observations:                 510   AIC:                             8259.\n",
      "Df Residuals:                     495   BIC:                             8323.\n",
      "Df Model:                          14                                         \n",
      "Covariance Type:            nonrobust                                         \n",
      "====================================================================================\n",
      "                       coef    std err          t      P>|t|      [0.025      0.975]\n",
      "------------------------------------------------------------------------------------\n",
      "const            -1004.2126    341.256     -2.943      0.003   -1674.701    -333.724\n",
      "yr                2037.0675     70.197     29.019      0.000    1899.146    2174.989\n",
      "holiday           -488.4777    237.302     -2.058      0.040    -954.721     -22.234\n",
      "workingday         404.1942    101.480      3.983      0.000     204.809     603.579\n",
      "temp              4109.7764    292.787     14.037      0.000    3534.517    4685.035\n",
      "windspeed        -1358.2502    215.885     -6.292      0.000   -1782.415    -934.086\n",
      "season_spring     -518.9473    181.383     -2.861      0.004    -875.322    -162.572\n",
      "season_summer      376.8183    130.405      2.890      0.004     120.603     633.034\n",
      "season_winter      692.7446    148.966      4.650      0.000     400.060     985.429\n",
      "weathersit_clear  2535.6933    210.833     12.027      0.000    2121.455    2949.932\n",
      "weathersit_mist   1817.5504    214.155      8.487      0.000    1396.785    2238.316\n",
      "mnth_Jan          -338.5243    152.845     -2.215      0.027    -638.829     -38.220\n",
      "mnth_Jul          -419.1439    159.061     -2.635      0.009    -731.663    -106.625\n",
      "mnth_Sep           654.6655    144.789      4.522      0.000     370.189     939.142\n",
      "weekday_Mon        507.9043    127.604      3.980      0.000     257.191     758.618\n",
      "==============================================================================\n",
      "Omnibus:                       67.959   Durbin-Watson:                   2.066\n",
      "Prob(Omnibus):                  0.000   Jarque-Bera (JB):              166.078\n",
      "Skew:                          -0.690   Prob(JB):                     8.64e-37\n",
      "Kurtosis:                       5.431   Cond. No.                         23.2\n",
      "==============================================================================\n",
      "\n",
      "Notes:\n",
      "[1] Standard Errors assume that the covariance matrix of the errors is correctly specified.\n"
     ]
    }
   ],
   "source": [
    "print(lm.summary())"
   ]
  },
  {
   "cell_type": "markdown",
   "id": "a11b3cda",
   "metadata": {},
   "source": [
    "##### The above summary also shows all the variables are significant. Lets check for variance inflation factor (VIF) again ."
   ]
  },
  {
   "cell_type": "markdown",
   "id": "50ce5015",
   "metadata": {},
   "source": [
    "Declaring a fuction to calculate VIF values as this would be a repetative process till final model is formed."
   ]
  },
  {
   "cell_type": "code",
   "execution_count": 54,
   "id": "c179d0cf",
   "metadata": {},
   "outputs": [],
   "source": [
    "def VIF_calc():\n",
    "    # Dropping const to calculate VIF for the model\n",
    "    global X_train_sm\n",
    "    global X_train_new\n",
    "    X_train_new = X_train_sm.drop(['const'], axis =1)\n",
    "    # Calculate the VIFs for the model\n",
    "    vif = pd.DataFrame()\n",
    "    X = X_train_new\n",
    "    vif['Features']=X.columns\n",
    "    vif['VIF']=[variance_inflation_factor(X.values, i) for i in range(X.shape[1])]\n",
    "    vif['VIF']= round(vif['VIF'],2)\n",
    "    vif = vif.sort_values(by='VIF', ascending = False)\n",
    "    print(vif)"
   ]
  },
  {
   "cell_type": "code",
   "execution_count": 55,
   "id": "409f5420",
   "metadata": {
    "scrolled": true
   },
   "outputs": [
    {
     "name": "stdout",
     "output_type": "stream",
     "text": [
      "            Features    VIF\n",
      "8   weathersit_clear  14.84\n",
      "3               temp  13.95\n",
      "9    weathersit_mist   8.43\n",
      "2         workingday   5.34\n",
      "4          windspeed   4.67\n",
      "5      season_spring   4.48\n",
      "6      season_summer   2.77\n",
      "7      season_winter   2.76\n",
      "0                 yr   2.08\n",
      "13       weekday_Mon   1.99\n",
      "10          mnth_Jan   1.66\n",
      "11          mnth_Jul   1.59\n",
      "12          mnth_Sep   1.35\n",
      "1            holiday   1.18\n"
     ]
    }
   ],
   "source": [
    "VIF_calc() # Using the VIF function to calculate the vif values after removing 'hum' variable"
   ]
  },
  {
   "cell_type": "markdown",
   "id": "1ebebd25",
   "metadata": {},
   "source": [
    "We can see that there are still variables with high VIF values"
   ]
  },
  {
   "cell_type": "markdown",
   "id": "3115f976",
   "metadata": {},
   "source": [
    "Declaring a fuction to run the linear modal everytime we drop a new variable based on high VIF or significance level."
   ]
  },
  {
   "cell_type": "code",
   "execution_count": 56,
   "id": "cf80274b",
   "metadata": {},
   "outputs": [],
   "source": [
    "def linear_modal(drop_var):\n",
    "    # Removing high p variable \n",
    "    global X_train_new\n",
    "    global X_train_sm\n",
    "    global lm\n",
    "    X_train_new = X_train_new.drop(drop_var, axis=1)\n",
    "    # Rebuilding the model \n",
    "    X_train_sm = sm.add_constant(X_train_new)\n",
    "    lm = sm.OLS(y_train, X_train_sm).fit()\n",
    "    \n",
    "    print(lm.summary())"
   ]
  },
  {
   "cell_type": "code",
   "execution_count": 57,
   "id": "a7df0325",
   "metadata": {
    "scrolled": true
   },
   "outputs": [
    {
     "name": "stdout",
     "output_type": "stream",
     "text": [
      "                            OLS Regression Results                            \n",
      "==============================================================================\n",
      "Dep. Variable:                    cnt   R-squared:                       0.798\n",
      "Model:                            OLS   Adj. R-squared:                  0.792\n",
      "Method:                 Least Squares   F-statistic:                     150.3\n",
      "Date:                Wed, 03 Nov 2021   Prob (F-statistic):          1.51e-162\n",
      "Time:                        17:37:49   Log-Likelihood:                -4180.0\n",
      "No. Observations:                 510   AIC:                             8388.\n",
      "Df Residuals:                     496   BIC:                             8447.\n",
      "Df Model:                          13                                         \n",
      "Covariance Type:            nonrobust                                         \n",
      "===================================================================================\n",
      "                      coef    std err          t      P>|t|      [0.025      0.975]\n",
      "-----------------------------------------------------------------------------------\n",
      "const            1456.1238    310.185      4.694      0.000     846.684    2065.563\n",
      "yr               2085.4763     79.586     26.204      0.000    1929.109    2241.843\n",
      "holiday          -421.8791    269.410     -1.566      0.118    -951.204     107.445\n",
      "workingday        342.6995    115.096      2.978      0.003     116.564     568.835\n",
      "temp             4241.3845    332.260     12.765      0.000    3588.573    4894.196\n",
      "windspeed       -1609.9139    244.008     -6.598      0.000   -2089.330   -1130.498\n",
      "season_spring    -462.8007    205.912     -2.248      0.025    -867.368     -58.233\n",
      "season_summer     405.5561    148.064      2.739      0.006     114.645     696.467\n",
      "season_winter     609.2587    168.984      3.605      0.000     277.245     941.272\n",
      "weathersit_mist  -598.5428     84.266     -7.103      0.000    -764.105    -432.981\n",
      "mnth_Jan         -294.6143    173.523     -1.698      0.090    -635.544      46.316\n",
      "mnth_Jul         -447.9067    180.612     -2.480      0.013    -802.765     -93.049\n",
      "mnth_Sep          571.3951    164.236      3.479      0.001     248.711     894.079\n",
      "weekday_Mon       444.5595    144.786      3.070      0.002     160.091     729.028\n",
      "==============================================================================\n",
      "Omnibus:                      144.280   Durbin-Watson:                   2.038\n",
      "Prob(Omnibus):                  0.000   Jarque-Bera (JB):              536.291\n",
      "Skew:                          -1.254   Prob(JB):                    3.51e-117\n",
      "Kurtosis:                       7.353   Cond. No.                         20.0\n",
      "==============================================================================\n",
      "\n",
      "Notes:\n",
      "[1] Standard Errors assume that the covariance matrix of the errors is correctly specified.\n"
     ]
    }
   ],
   "source": [
    "# Removing high p variable 'weathersit_clear' as it has VIF > 10 and remodelling using the linear_modal function\n",
    "linear_modal('weathersit_clear')"
   ]
  },
  {
   "cell_type": "markdown",
   "id": "0e3f300c",
   "metadata": {},
   "source": [
    "##### the above summary shows that the variable 'holiday' is insignificant"
   ]
  },
  {
   "cell_type": "markdown",
   "id": "42414596",
   "metadata": {},
   "source": [
    "Lets recheck the VIF values."
   ]
  },
  {
   "cell_type": "code",
   "execution_count": 58,
   "id": "334cf831",
   "metadata": {
    "scrolled": true
   },
   "outputs": [
    {
     "name": "stdout",
     "output_type": "stream",
     "text": [
      "           Features   VIF\n",
      "3              temp  7.06\n",
      "2        workingday  5.22\n",
      "4         windspeed  4.62\n",
      "5     season_spring  3.07\n",
      "6     season_summer  2.33\n",
      "0                yr  2.07\n",
      "7     season_winter  1.97\n",
      "12      weekday_Mon  1.96\n",
      "9          mnth_Jan  1.62\n",
      "10         mnth_Jul  1.59\n",
      "8   weathersit_mist  1.55\n",
      "11         mnth_Sep  1.34\n",
      "1           holiday  1.17\n"
     ]
    }
   ],
   "source": [
    "VIF_calc()"
   ]
  },
  {
   "cell_type": "markdown",
   "id": "bebcf07f",
   "metadata": {},
   "source": [
    "VIF values are now pretty good, still we have variables with VIF>5. For now lets drop 'holiday' variable which is insignificant or p value>0.05"
   ]
  },
  {
   "cell_type": "code",
   "execution_count": 59,
   "id": "c96340d2",
   "metadata": {
    "scrolled": true
   },
   "outputs": [
    {
     "name": "stdout",
     "output_type": "stream",
     "text": [
      "                            OLS Regression Results                            \n",
      "==============================================================================\n",
      "Dep. Variable:                    cnt   R-squared:                       0.797\n",
      "Model:                            OLS   Adj. R-squared:                  0.792\n",
      "Method:                 Least Squares   F-statistic:                     162.1\n",
      "Date:                Wed, 03 Nov 2021   Prob (F-statistic):          3.91e-163\n",
      "Time:                        17:37:49   Log-Likelihood:                -4181.2\n",
      "No. Observations:                 510   AIC:                             8388.\n",
      "Df Residuals:                     497   BIC:                             8444.\n",
      "Df Model:                          12                                         \n",
      "Covariance Type:            nonrobust                                         \n",
      "===================================================================================\n",
      "                      coef    std err          t      P>|t|      [0.025      0.975]\n",
      "-----------------------------------------------------------------------------------\n",
      "const            1396.1957    308.265      4.529      0.000     790.533    2001.859\n",
      "yr               2086.7277     79.698     26.183      0.000    1930.141    2243.315\n",
      "workingday        405.5320    108.033      3.754      0.000     193.275     617.789\n",
      "temp             4242.1730    332.745     12.749      0.000    3588.413    4895.933\n",
      "windspeed       -1616.2812    244.330     -6.615      0.000   -2096.328   -1136.234\n",
      "season_spring    -469.2649    206.171     -2.276      0.023    -874.340     -64.190\n",
      "season_summer     408.0414    148.272      2.752      0.006     116.724     699.359\n",
      "season_winter     603.1295    169.186      3.565      0.000     270.722     935.537\n",
      "weathersit_mist  -595.0375     84.359     -7.054      0.000    -760.782    -429.293\n",
      "mnth_Jan         -299.0330    173.753     -1.721      0.086    -640.414      42.348\n",
      "mnth_Jul         -439.8142    180.801     -2.433      0.015    -795.043     -84.585\n",
      "mnth_Sep          557.3023    164.229      3.393      0.001     234.634     879.970\n",
      "weekday_Mon       508.1045    139.186      3.651      0.000     234.640     781.569\n",
      "==============================================================================\n",
      "Omnibus:                      144.977   Durbin-Watson:                   2.024\n",
      "Prob(Omnibus):                  0.000   Jarque-Bera (JB):              537.039\n",
      "Skew:                          -1.262   Prob(JB):                    2.42e-117\n",
      "Kurtosis:                       7.348   Cond. No.                         20.0\n",
      "==============================================================================\n",
      "\n",
      "Notes:\n",
      "[1] Standard Errors assume that the covariance matrix of the errors is correctly specified.\n"
     ]
    }
   ],
   "source": [
    "# Removing high p variable 'holiday' and remodelling\n",
    "linear_modal('holiday')"
   ]
  },
  {
   "cell_type": "markdown",
   "id": "8aa7a236",
   "metadata": {},
   "source": [
    "The above linear regression summary after removing 'holiday' variable shows all other variables are significant except for 'mnth_Jan'. So, lets remove this variable."
   ]
  },
  {
   "cell_type": "code",
   "execution_count": 60,
   "id": "2ca7fe4f",
   "metadata": {
    "scrolled": true
   },
   "outputs": [
    {
     "name": "stdout",
     "output_type": "stream",
     "text": [
      "                            OLS Regression Results                            \n",
      "==============================================================================\n",
      "Dep. Variable:                    cnt   R-squared:                       0.795\n",
      "Model:                            OLS   Adj. R-squared:                  0.791\n",
      "Method:                 Least Squares   F-statistic:                     175.9\n",
      "Date:                Wed, 03 Nov 2021   Prob (F-statistic):          1.25e-163\n",
      "Time:                        17:37:49   Log-Likelihood:                -4182.8\n",
      "No. Observations:                 510   AIC:                             8390.\n",
      "Df Residuals:                     498   BIC:                             8440.\n",
      "Df Model:                          11                                         \n",
      "Covariance Type:            nonrobust                                         \n",
      "===================================================================================\n",
      "                      coef    std err          t      P>|t|      [0.025      0.975]\n",
      "-----------------------------------------------------------------------------------\n",
      "const            1272.5041    300.360      4.237      0.000     682.376    1862.632\n",
      "yr               2080.9105     79.783     26.082      0.000    1924.157    2237.663\n",
      "workingday        405.0295    108.245      3.742      0.000     192.356     617.702\n",
      "temp             4389.1679    322.229     13.621      0.000    3756.072    5022.264\n",
      "windspeed       -1560.5468    242.651     -6.431      0.000   -2037.292   -1083.801\n",
      "season_spring    -512.5090    205.037     -2.500      0.013    -915.353    -109.665\n",
      "season_summer     432.1335    147.900      2.922      0.004     141.548     722.719\n",
      "season_winter     650.7619    167.235      3.891      0.000     322.189     979.335\n",
      "weathersit_mist  -602.3111     84.419     -7.135      0.000    -768.172    -436.450\n",
      "mnth_Jul         -452.9980    180.994     -2.503      0.013    -808.605     -97.391\n",
      "mnth_Sep          560.9342    164.538      3.409      0.001     237.660     884.209\n",
      "weekday_Mon       506.2187    139.455      3.630      0.000     232.226     780.212\n",
      "==============================================================================\n",
      "Omnibus:                      144.444   Durbin-Watson:                   2.019\n",
      "Prob(Omnibus):                  0.000   Jarque-Bera (JB):              534.793\n",
      "Skew:                          -1.257   Prob(JB):                    7.43e-117\n",
      "Kurtosis:                       7.341   Cond. No.                         19.5\n",
      "==============================================================================\n",
      "\n",
      "Notes:\n",
      "[1] Standard Errors assume that the covariance matrix of the errors is correctly specified.\n"
     ]
    }
   ],
   "source": [
    "# Removing high p variable 'mnth_Jan' and remodelling\n",
    "X_train_new = X_train_sm.drop(['const'], axis =1) # dropping constant column from the last linear regression modal set\n",
    "linear_modal('mnth_Jan') # remodelling"
   ]
  },
  {
   "cell_type": "markdown",
   "id": "a0b65f60",
   "metadata": {},
   "source": [
    "##### Above summary shows all variables have p value < 0.05 which means all are significant. Now lets check for VIF again"
   ]
  },
  {
   "cell_type": "code",
   "execution_count": 61,
   "id": "062bbc2b",
   "metadata": {
    "scrolled": true
   },
   "outputs": [
    {
     "name": "stdout",
     "output_type": "stream",
     "text": [
      "           Features   VIF\n",
      "2              temp  6.72\n",
      "1        workingday  4.63\n",
      "3         windspeed  4.58\n",
      "4     season_spring  2.38\n",
      "5     season_summer  2.31\n",
      "0                yr  2.06\n",
      "6     season_winter  1.91\n",
      "10      weekday_Mon  1.82\n",
      "8          mnth_Jul  1.58\n",
      "7   weathersit_mist  1.54\n",
      "9          mnth_Sep  1.33\n"
     ]
    }
   ],
   "source": [
    "VIF_calc()"
   ]
  },
  {
   "cell_type": "markdown",
   "id": "26fd32dc",
   "metadata": {},
   "source": [
    "VIF values for most of the variables are below 5, except for 'temp' variable which has VIF value very close to 5. so lets continue the modal with 'temp' variable."
   ]
  },
  {
   "cell_type": "markdown",
   "id": "9bad0334",
   "metadata": {},
   "source": [
    "##### Now we can say that this model is the final model for further analysis."
   ]
  },
  {
   "cell_type": "markdown",
   "id": "a77fe7f7",
   "metadata": {},
   "source": [
    "### Residual analysis of the train data"
   ]
  },
  {
   "cell_type": "code",
   "execution_count": 62,
   "id": "b1221d58",
   "metadata": {},
   "outputs": [],
   "source": [
    "# Predicted values of target variable 'cnt'\n",
    "y_train_cnt = lm.predict(X_train_sm)"
   ]
  },
  {
   "cell_type": "code",
   "execution_count": 63,
   "id": "c2f21b1d",
   "metadata": {
    "scrolled": false
   },
   "outputs": [
    {
     "data": {
      "text/plain": [
       "Text(0.5, 0, 'Errors')"
      ]
     },
     "execution_count": 63,
     "metadata": {},
     "output_type": "execute_result"
    },
    {
     "data": {
      "image/png": "[encoded data removed]",
      "text/plain": [
       "<Figure size 432x288 with 1 Axes>"
      ]
     },
     "metadata": {
      "needs_background": "light"
     },
     "output_type": "display_data"
    }
   ],
   "source": [
    "# Plotting the histogram of the error terms\n",
    "fig = plt.figure()\n",
    "sns.distplot((y_train - y_train_cnt), bins=20)\n",
    "fig.suptitle('Histogram of Error Terms', fontsize = 18)\n",
    "plt.xlabel('Errors', fontsize =12)"
   ]
  },
  {
   "cell_type": "markdown",
   "id": "2898b07a",
   "metadata": {},
   "source": [
    "##### Above plot shows that the assumption of error terms being normally distributed with mean zero is satisfied."
   ]
  },
  {
   "cell_type": "code",
   "execution_count": null,
   "id": "64d9124e",
   "metadata": {},
   "outputs": [],
   "source": []
  },
  {
   "cell_type": "code",
   "execution_count": 64,
   "id": "b3f4e982",
   "metadata": {},
   "outputs": [
    {
     "data": {
      "text/plain": [
       "Text(0, 0.5, 'Error')"
      ]
     },
     "execution_count": 64,
     "metadata": {},
     "output_type": "execute_result"
    },
    {
     "data": {
      "image/png": "[encoded data removed]",
      "text/plain": [
       "<Figure size 432x288 with 1 Axes>"
      ]
     },
     "metadata": {
      "needs_background": "light"
     },
     "output_type": "display_data"
    }
   ],
   "source": [
    "# Plotting y_test and y_pred to understand the spread.\n",
    "fig = plt.figure()\n",
    "plt.scatter(X_train['windspeed'],(y_train - y_train_cnt))    # Using one of the independent variable for plotting\n",
    "fig.suptitle('X_Train vs Error', fontsize=18)              # Plot heading \n",
    "plt.xlabel('X_train', fontsize=12)                          # X-label\n",
    "plt.ylabel('Error', fontsize=12)                            # y-label"
   ]
  },
  {
   "cell_type": "markdown",
   "id": "3743b115",
   "metadata": {},
   "source": [
    "##### from the above plot, we can say that the assumption of error terms to be independent of each other is satisfied."
   ]
  },
  {
   "cell_type": "markdown",
   "id": "3300bb92",
   "metadata": {},
   "source": [
    "### Making Predictions"
   ]
  },
  {
   "cell_type": "code",
   "execution_count": 65,
   "id": "3fed31fe",
   "metadata": {},
   "outputs": [
    {
     "data": {
      "text/html": [
       "<div>\n",
       "<style scoped>\n",
       "    .dataframe tbody tr th:only-of-type {\n",
       "        vertical-align: middle;\n",
       "    }\n",
       "\n",
       "    .dataframe tbody tr th {\n",
       "        vertical-align: top;\n",
       "    }\n",
       "\n",
       "    .dataframe thead th {\n",
       "        text-align: right;\n",
       "    }\n",
       "</style>\n",
       "<table border=\"1\" class=\"dataframe\">\n",
       "  <thead>\n",
       "    <tr style=\"text-align: right;\">\n",
       "      <th></th>\n",
       "      <th>yr</th>\n",
       "      <th>holiday</th>\n",
       "      <th>workingday</th>\n",
       "      <th>temp</th>\n",
       "      <th>hum</th>\n",
       "      <th>windspeed</th>\n",
       "      <th>cnt</th>\n",
       "      <th>season_spring</th>\n",
       "      <th>season_summer</th>\n",
       "      <th>season_winter</th>\n",
       "      <th>...</th>\n",
       "      <th>mnth_May</th>\n",
       "      <th>mnth_Nov</th>\n",
       "      <th>mnth_Oct</th>\n",
       "      <th>mnth_Sep</th>\n",
       "      <th>weekday_Mon</th>\n",
       "      <th>weekday_Sat</th>\n",
       "      <th>weekday_Sun</th>\n",
       "      <th>weekday_Thurs</th>\n",
       "      <th>weekday_Tues</th>\n",
       "      <th>weekday_Weds</th>\n",
       "    </tr>\n",
       "  </thead>\n",
       "  <tbody>\n",
       "    <tr>\n",
       "      <th>184</th>\n",
       "      <td>0</td>\n",
       "      <td>1</td>\n",
       "      <td>0</td>\n",
       "      <td>0.831783</td>\n",
       "      <td>0.657364</td>\n",
       "      <td>0.084219</td>\n",
       "      <td>6043</td>\n",
       "      <td>0</td>\n",
       "      <td>0</td>\n",
       "      <td>0</td>\n",
       "      <td>...</td>\n",
       "      <td>0</td>\n",
       "      <td>0</td>\n",
       "      <td>0</td>\n",
       "      <td>0</td>\n",
       "      <td>0</td>\n",
       "      <td>0</td>\n",
       "      <td>0</td>\n",
       "      <td>0</td>\n",
       "      <td>0</td>\n",
       "      <td>1</td>\n",
       "    </tr>\n",
       "    <tr>\n",
       "      <th>535</th>\n",
       "      <td>1</td>\n",
       "      <td>0</td>\n",
       "      <td>1</td>\n",
       "      <td>0.901354</td>\n",
       "      <td>0.610133</td>\n",
       "      <td>0.153728</td>\n",
       "      <td>6211</td>\n",
       "      <td>0</td>\n",
       "      <td>1</td>\n",
       "      <td>0</td>\n",
       "      <td>...</td>\n",
       "      <td>0</td>\n",
       "      <td>0</td>\n",
       "      <td>0</td>\n",
       "      <td>0</td>\n",
       "      <td>0</td>\n",
       "      <td>0</td>\n",
       "      <td>0</td>\n",
       "      <td>0</td>\n",
       "      <td>0</td>\n",
       "      <td>0</td>\n",
       "    </tr>\n",
       "    <tr>\n",
       "      <th>299</th>\n",
       "      <td>0</td>\n",
       "      <td>0</td>\n",
       "      <td>1</td>\n",
       "      <td>0.511964</td>\n",
       "      <td>0.837699</td>\n",
       "      <td>0.334206</td>\n",
       "      <td>2659</td>\n",
       "      <td>0</td>\n",
       "      <td>0</td>\n",
       "      <td>1</td>\n",
       "      <td>...</td>\n",
       "      <td>0</td>\n",
       "      <td>0</td>\n",
       "      <td>1</td>\n",
       "      <td>0</td>\n",
       "      <td>0</td>\n",
       "      <td>1</td>\n",
       "      <td>0</td>\n",
       "      <td>0</td>\n",
       "      <td>0</td>\n",
       "      <td>0</td>\n",
       "    </tr>\n",
       "    <tr>\n",
       "      <th>221</th>\n",
       "      <td>0</td>\n",
       "      <td>0</td>\n",
       "      <td>1</td>\n",
       "      <td>0.881625</td>\n",
       "      <td>0.437098</td>\n",
       "      <td>0.339570</td>\n",
       "      <td>4780</td>\n",
       "      <td>0</td>\n",
       "      <td>0</td>\n",
       "      <td>0</td>\n",
       "      <td>...</td>\n",
       "      <td>0</td>\n",
       "      <td>0</td>\n",
       "      <td>0</td>\n",
       "      <td>0</td>\n",
       "      <td>0</td>\n",
       "      <td>0</td>\n",
       "      <td>0</td>\n",
       "      <td>0</td>\n",
       "      <td>0</td>\n",
       "      <td>0</td>\n",
       "    </tr>\n",
       "    <tr>\n",
       "      <th>152</th>\n",
       "      <td>0</td>\n",
       "      <td>0</td>\n",
       "      <td>1</td>\n",
       "      <td>0.817246</td>\n",
       "      <td>0.314298</td>\n",
       "      <td>0.537414</td>\n",
       "      <td>4968</td>\n",
       "      <td>0</td>\n",
       "      <td>1</td>\n",
       "      <td>0</td>\n",
       "      <td>...</td>\n",
       "      <td>0</td>\n",
       "      <td>0</td>\n",
       "      <td>0</td>\n",
       "      <td>0</td>\n",
       "      <td>0</td>\n",
       "      <td>1</td>\n",
       "      <td>0</td>\n",
       "      <td>0</td>\n",
       "      <td>0</td>\n",
       "      <td>0</td>\n",
       "    </tr>\n",
       "  </tbody>\n",
       "</table>\n",
       "<p>5 rows × 29 columns</p>\n",
       "</div>"
      ],
      "text/plain": [
       "     yr  holiday  workingday      temp       hum  windspeed   cnt  \\\n",
       "184   0        1           0  0.831783  0.657364   0.084219  6043   \n",
       "535   1        0           1  0.901354  0.610133   0.153728  6211   \n",
       "299   0        0           1  0.511964  0.837699   0.334206  2659   \n",
       "221   0        0           1  0.881625  0.437098   0.339570  4780   \n",
       "152   0        0           1  0.817246  0.314298   0.537414  4968   \n",
       "\n",
       "     season_spring  season_summer  season_winter  ...  mnth_May  mnth_Nov  \\\n",
       "184              0              0              0  ...         0         0   \n",
       "535              0              1              0  ...         0         0   \n",
       "299              0              0              1  ...         0         0   \n",
       "221              0              0              0  ...         0         0   \n",
       "152              0              1              0  ...         0         0   \n",
       "\n",
       "     mnth_Oct  mnth_Sep  weekday_Mon  weekday_Sat  weekday_Sun  weekday_Thurs  \\\n",
       "184         0         0            0            0            0              0   \n",
       "535         0         0            0            0            0              0   \n",
       "299         1         0            0            1            0              0   \n",
       "221         0         0            0            0            0              0   \n",
       "152         0         0            0            1            0              0   \n",
       "\n",
       "     weekday_Tues  weekday_Weds  \n",
       "184             0             1  \n",
       "535             0             0  \n",
       "299             0             0  \n",
       "221             0             0  \n",
       "152             0             0  \n",
       "\n",
       "[5 rows x 29 columns]"
      ]
     },
     "execution_count": 65,
     "metadata": {},
     "output_type": "execute_result"
    }
   ],
   "source": [
    "# applying scaling on the test set\n",
    "num_vars = ['temp', 'hum', 'windspeed']\n",
    "bike_test[num_vars]=scaler.transform(bike_test[num_vars])\n",
    "bike_test.head()"
   ]
  },
  {
   "cell_type": "code",
   "execution_count": 66,
   "id": "bda6ef24",
   "metadata": {},
   "outputs": [],
   "source": [
    "# Dividing test data set to X and y set\n",
    "y_test = bike_test.pop('cnt')\n",
    "X_test = bike_test"
   ]
  },
  {
   "cell_type": "markdown",
   "id": "4ed4f9bd",
   "metadata": {},
   "source": [
    "#### Using the above model to make predictions"
   ]
  },
  {
   "cell_type": "code",
   "execution_count": 67,
   "id": "1f533b04",
   "metadata": {},
   "outputs": [],
   "source": [
    "# Creating X_test_new dataframe by variable from X_test\n",
    "X_test_new = X_test[X_train_new.columns]\n",
    "\n",
    "# Adding constant variable\n",
    "X_test_sm = sm.add_constant(X_test_new)"
   ]
  },
  {
   "cell_type": "code",
   "execution_count": 68,
   "id": "761c3ffe",
   "metadata": {},
   "outputs": [],
   "source": [
    "# Making Predictions\n",
    "y_test_pred = lm.predict(X_test_sm)"
   ]
  },
  {
   "cell_type": "markdown",
   "id": "4d304eed",
   "metadata": {},
   "source": [
    "### Model Evaluation"
   ]
  },
  {
   "cell_type": "code",
   "execution_count": 76,
   "id": "38fd77f8",
   "metadata": {
    "scrolled": false
   },
   "outputs": [
    {
     "data": {
      "text/plain": [
       "Text(0, 0.5, 'y_test_pred')"
      ]
     },
     "execution_count": 76,
     "metadata": {},
     "output_type": "execute_result"
    },
    {
     "data": {
      "image/png": "[encoded data removed]",
      "text/plain": [
       "<Figure size 432x288 with 1 Axes>"
      ]
     },
     "metadata": {
      "needs_background": "light"
     },
     "output_type": "display_data"
    }
   ],
   "source": [
    "# Plotting y_test and y_pred to understand the spread.\n",
    "fig = plt.figure()\n",
    "plt.scatter(y_test,y_test_pred)\n",
    "fig.suptitle('Test y vs Predicted y', fontsize=18)              # Plot heading \n",
    "plt.xlabel('y_test', fontsize=12)                          # X-label\n",
    "plt.ylabel('y_test_pred', fontsize=12)   "
   ]
  },
  {
   "cell_type": "markdown",
   "id": "837172e5",
   "metadata": {},
   "source": [
    "##### the above plot shows predicted target value to the test target value."
   ]
  },
  {
   "cell_type": "code",
   "execution_count": 70,
   "id": "9c0b594e",
   "metadata": {},
   "outputs": [
    {
     "name": "stdout",
     "output_type": "stream",
     "text": [
      "0.78\n"
     ]
    }
   ],
   "source": [
    "# Evaluate r2_score\n",
    "print(round(r2_score(y_test, y_test_pred),2))"
   ]
  },
  {
   "cell_type": "markdown",
   "id": "312b37e2",
   "metadata": {},
   "source": [
    "##### So we can see that Rsquared = 79% for train set and around 78% on test set. Hence, the model has learned on the train set , it is able to generalise it on the test set as well.\n",
    "\n",
    "##### The equation of our best fitted line is \n",
    "        cnt = 1272.50 + 4389.16*temp - 1560.54*windspeed - 602.31*weathersit_mist - 512.50*season_spring + 2080.91*yr \n",
    "              + 432.13*season_summer + 650.76*season_winter  + 560.93*mnth_Sep + 405.02*workingday + 506.21*weekday_Mon + \n",
    "              -452.99* mnth_July"
   ]
  },
  {
   "cell_type": "markdown",
   "id": "0e00b934",
   "metadata": {},
   "source": [
    "''' Following points can be inferred from the equation of best fitted line:-\n",
    "\n",
    "•\tTemperature has the highest impact on demand for shared bikes as its coeffiecient is the highest absolute value. Hence, a \n",
    "    unit change in temperature will increase the demand by more than 4000 counts.\n",
    "    \n",
    "•\tWindspeed has negative coefficient which indicates that the windspeed has negative impact on demand for shared bikes.Hence, \n",
    "    unit change in windspeed reduces the demand by more than 1500 counts.\n",
    "    \n",
    "•\tYear has the positive influence on the demand of shared bikes. Hence, we can say that demand for bikes sharing will \n",
    "    increase in coming years. Hence, a unit change in year will increase the demand by more than 2000.\n",
    "    \n",
    "•\tMonth of September shows improved demand for shared bikes. Whereas, month of July shows reduction in demand for shared \n",
    "    bikes.\n",
    "    \n",
    "•\tIt can be inferred that Monday there is an increase in demand for shared bikes.\n",
    "\n",
    "•\tWorking day shows increase in demand for shared bikes than in holidays or weekend.\n",
    "\n",
    "•\tThere is severe reduction on demand for shared bikes in spring season and improvement in demand during summer and winter \n",
    "    season.\n",
    "'''"
   ]
  }
 ],
 "metadata": {
  "kernelspec": {
   "display_name": "Python 3",
   "language": "python",
   "name": "python3"
  },
  "language_info": {
   "codemirror_mode": {
    "name": "ipython",
    "version": 3
   },
   "file_extension": ".py",
   "mimetype": "text/x-python",
   "name": "python",
   "nbconvert_exporter": "python",
   "pygments_lexer": "ipython3",
   "version": "3.8.8"
  }
 },
 "nbformat": 4,
 "nbformat_minor": 5
}
